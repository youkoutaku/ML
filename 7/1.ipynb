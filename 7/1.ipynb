{
 "cells": [
  {
   "cell_type": "code",
   "execution_count": 10,
   "id": "5792df2c",
   "metadata": {},
   "outputs": [],
   "source": [
    "import numpy as np \n",
    "\n",
    "x1 = [86, 71, 42, 62, 96, 39, 50, 78, 51, 89] \n",
    "x2 = [79, 75, 43, 58, 97, 33, 53, 66, 44, 92]\n",
    "x3 = [67, 78, 39, 98, 61, 45, 64, 52, 76, 93]\n",
    "x4 = [68, 84, 44, 95, 63, 50, 72, 47, 72, 91]\n",
    "\n",
    "# 標準化 \n",
    "x1_h = ( x1-np.mean(x1) ) / np.std(x1, ddof=1) \n",
    "x2_h = ( x2-np.mean(x2) ) / np.std(x2, ddof=1)\n",
    "x3_h = ( x3-np.mean(x3) ) / np.std(x3, ddof=1) \n",
    "x4_h = ( x4-np.mean(x4) ) / np.std(x4, ddof=1)\n",
    "\n",
    "# 共分散行列の固有値分解 \n",
    "COV = np.cov([x1_h, x2_h, x3_h, x4_h]) \n",
    "L, A = np.linalg.eig(COV) \n",
    "# 主成分得点 \n",
    "z1 = A[0,0] * (x1_h-np.mean(x1_h)) + A[1,0] * (x2_h-np.mean(x2_h)) + A[2,0] * (x3_h-np.mean(x3_h))  + A[3,0] * (x4_h-np.mean(x4_h)) \n",
    "z2 = A[0,1] * (x1_h-np.mean(x1_h)) + A[1,1] * (x2_h-np.mean(x2_h)) + A[2,1] * (x3_h-np.mean(x3_h))  + A[3,1] * (x4_h-np.mean(x4_h)) "
   ]
  },
  {
   "cell_type": "code",
   "execution_count": 11,
   "id": "0300c540",
   "metadata": {},
   "outputs": [
    {
     "data": {
      "text/plain": [
       "array([[1.        , 0.96698413, 0.37609288, 0.31127558],\n",
       "       [0.96698413, 1.        , 0.41463675, 0.39827511],\n",
       "       [0.37609288, 0.41463675, 1.        , 0.97212854],\n",
       "       [0.31127558, 0.39827511, 0.97212854, 1.        ]])"
      ]
     },
     "execution_count": 11,
     "metadata": {},
     "output_type": "execute_result"
    }
   ],
   "source": [
    "COV"
   ]
  },
  {
   "cell_type": "code",
   "execution_count": 12,
   "id": "3dbab7b1",
   "metadata": {},
   "outputs": [
    {
     "data": {
      "text/plain": [
       "array([[ 0.48727267,  0.52733742,  0.48528898, -0.49897415],\n",
       "       [ 0.5105362 ,  0.47399677, -0.47382714,  0.53867216],\n",
       "       [ 0.50831859, -0.48074769, -0.50632338, -0.50411358],\n",
       "       [ 0.49348793, -0.51587204,  0.532559  ,  0.45467198]])"
      ]
     },
     "execution_count": 12,
     "metadata": {},
     "output_type": "execute_result"
    }
   ],
   "source": [
    "A"
   ]
  },
  {
   "cell_type": "code",
   "execution_count": 13,
   "id": "5117669a",
   "metadata": {},
   "outputs": [
    {
     "data": {
      "text/plain": [
       "array([ 0.79580471,  1.07321206, -2.49415668,  1.28398744,  1.1645755 ,\n",
       "       -2.47997166, -0.64278598, -0.67200372, -0.51728134,  2.48861967])"
      ]
     },
     "execution_count": 13,
     "metadata": {},
     "output_type": "execute_result"
    }
   ],
   "source": [
    "z1"
   ]
  },
  {
   "cell_type": "code",
   "execution_count": 14,
   "id": "c4f5abbc",
   "metadata": {},
   "outputs": [
    {
     "data": {
      "text/plain": [
       "array([ 0.85761206, -0.34756917,  0.32030618, -1.76450267,  1.80251845,\n",
       "       -0.29770231, -0.6785089 ,  1.34136483, -1.14860039, -0.08491807])"
      ]
     },
     "execution_count": 14,
     "metadata": {},
     "output_type": "execute_result"
    }
   ],
   "source": [
    "z2"
   ]
  },
  {
   "cell_type": "code",
   "execution_count": 16,
   "id": "3daddeb4",
   "metadata": {},
   "outputs": [
    {
     "data": {
      "text/plain": [
       "[<matplotlib.lines.Line2D at 0x1f5e5c51310>]"
      ]
     },
     "execution_count": 16,
     "metadata": {},
     "output_type": "execute_result"
    },
    {
     "data": {
      "image/png": "[encoded data removed]",
      "text/plain": [
       "<Figure size 432x288 with 1 Axes>"
      ]
     },
     "metadata": {
      "needs_background": "light"
     },
     "output_type": "display_data"
    }
   ],
   "source": [
    "import matplotlib.pyplot as plt\n",
    "plt.plot(z1,z2,'.')"
   ]
  },
  {
   "cell_type": "code",
   "execution_count": null,
   "id": "4a05cad1",
   "metadata": {},
   "outputs": [],
   "source": []
  }
 ],
 "metadata": {
  "kernelspec": {
   "display_name": "Python 3 (ipykernel)",
   "language": "python",
   "name": "python3"
  },
  "language_info": {
   "codemirror_mode": {
    "name": "ipython",
    "version": 3
   },
   "file_extension": ".py",
   "mimetype": "text/x-python",
   "name": "python",
   "nbconvert_exporter": "python",
   "pygments_lexer": "ipython3",
   "version": "3.9.12"
  }
 },
 "nbformat": 4,
 "nbformat_minor": 5
}
