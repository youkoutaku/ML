{
 "cells": [
  {
   "cell_type": "code",
   "execution_count": 16,
   "id": "a69ae90e",
   "metadata": {},
   "outputs": [],
   "source": [
    "import numpy as np \n",
    "from sklearn import datasets \n",
    "iris = datasets.load_iris() \n",
    "X = iris.data # 説明変数\n",
    "Y = iris.target # 目的変数(教師ラベル)"
   ]
  },
  {
   "cell_type": "code",
   "execution_count": 17,
   "id": "7d288a3c",
   "metadata": {},
   "outputs": [],
   "source": [
    "X_train = X[ np.arange(0, len(X), 2) ] # 偶数行: 学習データ(説明変数) \n",
    "Y_train = Y[ np.arange(0, len(Y), 2) ] # 偶数行: 学習データ(目的変数: 教師ラベル) \n",
    "X_test = X[ np.arange(1, len(X), 2) ] # 奇数行: テストデータ(説明変数) \n",
    "Y_test = Y[ np.arange(1, len(Y), 2) ] # 奇数行: テストデータ(目的変数: 教師ラベル"
   ]
  },
  {
   "cell_type": "code",
   "execution_count": 18,
   "id": "1c41837f",
   "metadata": {},
   "outputs": [],
   "source": [
    "from sklearn.neural_network import MLPClassifier\n",
    "import warnings \n",
    "warnings.filterwarnings( 'ignore' ) # 警告非表示 (学習失敗すると警告が色々出るので邪魔)"
   ]
  },
  {
   "cell_type": "code",
   "execution_count": 19,
   "id": "bbca6edc",
   "metadata": {},
   "outputs": [],
   "source": [
    "model = MLPClassifier( hidden_layer_sizes = 10, max_iter = 100000 ) \n",
    "# 各パラメータ (右辺はデフォルト値) \n",
    "# hidden_layer_sizes = (100, ) # 隠れ層のノード数 (多層にもできる) \n",
    "# activation = 'relu' # 活性化関数(identify, logistic, tanh, relu) \n",
    "# solver = 'adam' # 最適化手法(lbfgs(準ニュートン法), sgd, adam) \n",
    "# alpha = 0.0001 \n",
    "# batch_size = 'auto' # バッチサイズ(sgd, adamで適用) \n",
    "# learning_rate = 'constant' \n",
    "# learning_rate_init = 0.001 # 学習係数η \n",
    "# power_t = 0.5 \n",
    "# max_iter = 200 # 最大エポック数 \n",
    "# shuffle = True # iterationの度にサンプルをシャッフル \n",
    "# random_state = None \n",
    "# tol = 0.0001　　　# 誤差の改善が2回続けてこの値を下回ったら学習停止 \n",
    "# verbose = False \n",
    "# warm_start = False \n",
    "# momentum = 0.9 \n",
    "# nesterovs_momentum = True \n",
    "# early_stopping = False \n",
    "# validation_fraction = 0.1 \n",
    "# beta_1 = 0.9 \n",
    "# beta_2 = 0.999 \n",
    "# epsilon = 1e-08 \n",
    "model.fit( X_train, Y_train ) \n",
    "Y_predicted = model.predict( X_test ) # 使い方はいつもと同じ (超簡単)"
   ]
  },
  {
   "cell_type": "code",
   "execution_count": 24,
   "id": "c30b2c0a",
   "metadata": {},
   "outputs": [
    {
     "data": {
      "text/plain": [
       "array([[25,  0,  0],\n",
       "       [ 0, 24,  1],\n",
       "       [ 0,  2, 23]], dtype=int64)"
      ]
     },
     "execution_count": 24,
     "metadata": {},
     "output_type": "execute_result"
    }
   ],
   "source": [
    "# 汎化精度の確認\n",
    "from sklearn import metrics \n",
    "metrics.confusion_matrix( Y_test, Y_predicted )"
   ]
  },
  {
   "cell_type": "code",
   "execution_count": 25,
   "id": "dffd4932",
   "metadata": {},
   "outputs": [
    {
     "data": {
      "text/plain": [
       "0.96"
      ]
     },
     "execution_count": 25,
     "metadata": {},
     "output_type": "execute_result"
    }
   ],
   "source": [
    "metrics.accuracy_score( Y_test, Y_predicted )"
   ]
  },
  {
   "cell_type": "code",
   "execution_count": 26,
   "id": "7a0682d0",
   "metadata": {},
   "outputs": [
    {
     "data": {
      "text/plain": [
       "array([[25,  0,  0],\n",
       "       [ 0, 24,  1],\n",
       "       [ 0,  0, 25]], dtype=int64)"
      ]
     },
     "execution_count": 26,
     "metadata": {},
     "output_type": "execute_result"
    }
   ],
   "source": [
    "# 学習精度の確認 \n",
    "Y_predicted_train = model.predict( X_train ) \n",
    "metrics.confusion_matrix( Y_train, Y_predicted_train ) "
   ]
  },
  {
   "cell_type": "code",
   "execution_count": 27,
   "id": "e847c585",
   "metadata": {},
   "outputs": [
    {
     "data": {
      "text/plain": [
       "0.9866666666666667"
      ]
     },
     "execution_count": 27,
     "metadata": {},
     "output_type": "execute_result"
    }
   ],
   "source": [
    "metrics.accuracy_score(  Y_train, Y_predicted_train )"
   ]
  },
  {
   "cell_type": "code",
   "execution_count": null,
   "id": "60069401",
   "metadata": {},
   "outputs": [],
   "source": []
  }
 ],
 "metadata": {
  "kernelspec": {
   "display_name": "Python 3 (ipykernel)",
   "language": "python",
   "name": "python3"
  },
  "language_info": {
   "codemirror_mode": {
    "name": "ipython",
    "version": 3
   },
   "file_extension": ".py",
   "mimetype": "text/x-python",
   "name": "python",
   "nbconvert_exporter": "python",
   "pygments_lexer": "ipython3",
   "version": "3.9.12"
  }
 },
 "nbformat": 4,
 "nbformat_minor": 5
}
