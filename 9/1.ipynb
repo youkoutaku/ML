{
 "cells": [
  {
   "cell_type": "code",
   "execution_count": 24,
   "id": "c3665253",
   "metadata": {},
   "outputs": [],
   "source": [
    "import numpy as np\n",
    "import matplotlib.pyplot as plt\n",
    "\n",
    "x1 = [3, 2, 3, 3, 2, 2, 2, 2, 3, 2, 1, 2, 1, 3, 1]\n",
    "x2 = [3, 2, 2, 1, 2, 1, 2, 3, 2, 1, 1, 2, 1, 3, 1]\n",
    "x3 = [1, 3, 3, 1, 1, 2, 1, 2, 1, 2, 1, 1, 1, 3, 1]\n",
    "x4 = [2, 1, 2, 2, 3, 2, 3, 1, 2, 2, 2, 2, 1, 3, 1]\n",
    "x5 = [2, 3, 1, 3, 1, 1, 2, 2, 1, 1, 1, 1, 1, 2, 1]\n",
    "\n",
    "#標本化\n",
    "x1_h = ( x1-np.mean(x1) ) / np.std(x1, ddof=1)\n",
    "x2_h = ( x2-np.mean(x2) ) / np.std(x2, ddof=1)\n",
    "x3_h = ( x3-np.mean(x3) ) / np.std(x3, ddof=1)\n",
    "x4_h = ( x4-np.mean(x4) ) / np.std(x4, ddof=1)\n",
    "x5_h = ( x5-np.mean(x4) ) / np.std(x5, ddof=1)\n",
    "\n",
    "#データの結合\n",
    "data = np.array([x1_h, x2_h, x3_h, x4_h, x5_h]).T"
   ]
  },
  {
   "cell_type": "code",
   "execution_count": 6,
   "id": "73f7ba52",
   "metadata": {},
   "outputs": [
    {
     "data": {
      "text/plain": [
       "array([1, 2, 0, 1, 1, 1, 1, 2, 1, 1, 3, 1, 3, 0, 3])"
      ]
     },
     "execution_count": 6,
     "metadata": {},
     "output_type": "execute_result"
    }
   ],
   "source": [
    "from sklearn.cluster import KMeans\n",
    "model = KMeans(n_clusters=4)\n",
    "model.fit( data )\n",
    "Ans = model.labels_\n",
    "Ans"
   ]
  },
  {
   "cell_type": "code",
   "execution_count": 7,
   "id": "176abc6c",
   "metadata": {},
   "outputs": [
    {
     "data": {
      "text/plain": [
       "[<matplotlib.lines.Line2D at 0x2088a8673d0>]"
      ]
     },
     "execution_count": 7,
     "metadata": {},
     "output_type": "execute_result"
    },
    {
     "data": {
      "image/png": "[encoded data removed]",
      "text/plain": [
       "<Figure size 360x360 with 1 Axes>"
      ]
     },
     "metadata": {
      "needs_background": "light"
     },
     "output_type": "display_data"
    }
   ],
   "source": [
    "from sklearn.decomposition import PCA\n",
    "model = PCA(n_components=2)\n",
    "model.fit( data )\n",
    "z = model.transform( data )\n",
    "\n",
    "fig = plt.figure(figsize = (5,5) )\n",
    "plt.plot(z[:,0], z[:,1],'.')"
   ]
  },
  {
   "cell_type": "code",
   "execution_count": 9,
   "id": "a4d45942",
   "metadata": {},
   "outputs": [
    {
     "data": {
      "text/plain": [
       "[<matplotlib.lines.Line2D at 0x2088a926790>]"
      ]
     },
     "execution_count": 9,
     "metadata": {},
     "output_type": "execute_result"
    },
    {
     "data": {
      "image/png": "[encoded data removed]",
      "text/plain": [
       "<Figure size 360x360 with 1 Axes>"
      ]
     },
     "metadata": {
      "needs_background": "light"
     },
     "output_type": "display_data"
    }
   ],
   "source": [
    "c1 = z[np.where(Ans == 0)[0], :]\n",
    "c2 = z[np.where(Ans == 1)[0], :]\n",
    "c3 = z[np.where(Ans == 2)[0], :]\n",
    "c4 = z[np.where(Ans == 3)[0], :]\n",
    "\n",
    "fig = plt.figure(figsize=(5, 5))\n",
    "plt.plot(c1[:,0], c1[:,1], '.')\n",
    "plt.plot(c2[:,0], c2[:,1], 'r*')\n",
    "plt.plot(c3[:,0], c3[:,1], 'g+')\n",
    "plt.plot(c4[:,0], c4[:,1], 'mx')"
   ]
  },
  {
   "cell_type": "code",
   "execution_count": 21,
   "id": "d608f3f7",
   "metadata": {},
   "outputs": [],
   "source": [
    "from sklearn.discriminant_analysis import LinearDiscriminantAnalysis\n",
    "model = LinearDiscriminantAnalysis()\n",
    "model.fit(data,Ans);"
   ]
  },
  {
   "cell_type": "code",
   "execution_count": 22,
   "id": "f11f3f32",
   "metadata": {},
   "outputs": [
    {
     "data": {
      "text/plain": [
       "array([0])"
      ]
     },
     "execution_count": 22,
     "metadata": {},
     "output_type": "execute_result"
    }
   ],
   "source": [
    "model.predict( [ [3, 3, 1, 3, 3], ])"
   ]
  },
  {
   "cell_type": "code",
   "execution_count": 23,
   "id": "d654a518",
   "metadata": {},
   "outputs": [
    {
     "data": {
      "text/plain": [
       "array([1, 2, 0, 1, 1, 1, 1, 2, 1, 1, 3, 1, 3, 0, 3])"
      ]
     },
     "execution_count": 23,
     "metadata": {},
     "output_type": "execute_result"
    }
   ],
   "source": [
    "model.predict(data)"
   ]
  }
 ],
 "metadata": {
  "kernelspec": {
   "display_name": "Python 3 (ipykernel)",
   "language": "python",
   "name": "python3"
  },
  "language_info": {
   "codemirror_mode": {
    "name": "ipython",
    "version": 3
   },
   "file_extension": ".py",
   "mimetype": "text/x-python",
   "name": "python",
   "nbconvert_exporter": "python",
   "pygments_lexer": "ipython3",
   "version": "3.9.12"
  }
 },
 "nbformat": 4,
 "nbformat_minor": 5
}
