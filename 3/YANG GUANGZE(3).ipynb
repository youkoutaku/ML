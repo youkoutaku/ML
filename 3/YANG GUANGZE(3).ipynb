{
 "cells": [
  {
   "cell_type": "code",
   "execution_count": 1,
   "id": "9e88e352",
   "metadata": {},
   "outputs": [
    {
     "data": {
      "text/plain": [
       "(array([45., 48., 54., 60., 48., 45., 56., 54., 40., 47., 58., 46., 57.,\n",
       "        43., 48., 54., 47., 53., 43., 54.]),\n",
       " array([0.00118224, 0.05112057, 0.1010589 , 0.15099723, 0.20093556,\n",
       "        0.25087389, 0.30081222, 0.35075055, 0.40068887, 0.4506272 ,\n",
       "        0.50056553, 0.55050386, 0.60044219, 0.65038052, 0.70031885,\n",
       "        0.75025718, 0.8001955 , 0.85013383, 0.90007216, 0.95001049,\n",
       "        0.99994882]),\n",
       " <BarContainer object of 20 artists>)"
      ]
     },
     "execution_count": 1,
     "metadata": {},
     "output_type": "execute_result"
    },
    {
     "data": {
      "image/png": "[encoded data removed]",
      "text/plain": [
       "<Figure size 432x288 with 1 Axes>"
      ]
     },
     "metadata": {
      "needs_background": "light"
     },
     "output_type": "display_data"
    }
   ],
   "source": [
    "import numpy as np\n",
    "import matplotlib.pyplot as plt\n",
    "\n",
    "X = np.random.uniform(0,1,1000)\n",
    "plt.hist(X,bins=20)"
   ]
  },
  {
   "cell_type": "code",
   "execution_count": 3,
   "id": "995abb1a",
   "metadata": {},
   "outputs": [
    {
     "data": {
      "image/png": "[encoded data removed]",
      "text/plain": [
       "<Figure size 432x288 with 1 Axes>"
      ]
     },
     "metadata": {
      "needs_background": "light"
     },
     "output_type": "display_data"
    }
   ],
   "source": [
    "X_bars=[]\n",
    "for i in range(200):\n",
    "    ans=np.mean((np.random.uniform(0,1,10)))\n",
    "    X_bars.append(ans)\n",
    "plt.hist(X_bars, bins=40);\n",
    "\n",
    "X_bars=[]\n",
    "for i in range(200):\n",
    "    ans=np.mean((np.random.uniform(0,1,100)))\n",
    "    X_bars.append(ans)\n",
    "plt.hist(X_bars, bins=40,color='r');"
   ]
  },
  {
   "cell_type": "code",
   "execution_count": null,
   "id": "aaf31489",
   "metadata": {},
   "outputs": [],
   "source": []
  }
 ],
 "metadata": {
  "kernelspec": {
   "display_name": "Python 3 (ipykernel)",
   "language": "python",
   "name": "python3"
  },
  "language_info": {
   "codemirror_mode": {
    "name": "ipython",
    "version": 3
   },
   "file_extension": ".py",
   "mimetype": "text/x-python",
   "name": "python",
   "nbconvert_exporter": "python",
   "pygments_lexer": "ipython3",
   "version": "3.9.12"
  }
 },
 "nbformat": 4,
 "nbformat_minor": 5
}
