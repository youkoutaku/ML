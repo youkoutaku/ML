{
 "cells": [
  {
   "cell_type": "code",
   "execution_count": 4,
   "id": "5002a790",
   "metadata": {},
   "outputs": [],
   "source": [
    "import numpy as np\n",
    "from sklearn import metrics\n",
    "\n",
    "from sklearn import datasets \n",
    "iris = datasets.load_iris() \n",
    "X = iris.data # 説明変数\n",
    "Y = iris.target # 目的変数(教師ラベル)\n",
    "X_train = X[ np.arange(0, len(X), 2) ] # 偶数行: 学習データ(説明変数) \n",
    "Y_train = Y[ np.arange(0, len(Y), 2) ] # 偶数行: 学習データ(目的変数: 教師ラベル) \n",
    "X_test = X[ np.arange(1, len(X), 2) ] # 奇数行: テストデータ(説明変数) \n",
    "Y_test = Y[ np.arange(1, len(Y), 2) ] # 奇数行: テストデータ(目的変数: 教師ラベル)"
   ]
  },
  {
   "cell_type": "code",
   "execution_count": 6,
   "id": "62aafa9c",
   "metadata": {},
   "outputs": [],
   "source": [
    "from sklearn.tree import DecisionTreeClassifier\n",
    "from sklearn.tree import export_graphviz # 可視化用\n",
    "model = DecisionTreeClassifier( max_depth = 3 ) #決定木の深さ\n",
    "model.fit( X_train, Y_train ) \n",
    "export_graphviz( model, out_file='tree.dot') # 可視化用\n",
    "Y_predicted = model.predict( X_test )"
   ]
  },
  {
   "cell_type": "code",
   "execution_count": 7,
   "id": "b5a7abc1",
   "metadata": {},
   "outputs": [
    {
     "data": {
      "text/plain": [
       "array([[25,  0,  0],\n",
       "       [ 0, 24,  1],\n",
       "       [ 0,  2, 23]], dtype=int64)"
      ]
     },
     "execution_count": 7,
     "metadata": {},
     "output_type": "execute_result"
    }
   ],
   "source": [
    "# 混同行列 \n",
    "metrics.confusion_matrix( Y_test, Y_predicted ) "
   ]
  },
  {
   "cell_type": "code",
   "execution_count": 8,
   "id": "3074edab",
   "metadata": {},
   "outputs": [
    {
     "data": {
      "text/plain": [
       "0.96"
      ]
     },
     "execution_count": 8,
     "metadata": {},
     "output_type": "execute_result"
    }
   ],
   "source": [
    "# 判別精度 (汎化精度) \n",
    "metrics.accuracy_score( Y_test, Y_predicted )"
   ]
  },
  {
   "cell_type": "code",
   "execution_count": 9,
   "id": "8a80a2ee",
   "metadata": {
    "scrolled": true
   },
   "outputs": [
    {
     "data": {
      "text/plain": [
       "[<matplotlib.lines.Line2D at 0x1758b82e3d0>]"
      ]
     },
     "execution_count": 9,
     "metadata": {},
     "output_type": "execute_result"
    },
    {
     "data": {
      "image/png": "[encoded data removed]",
      "text/plain": [
       "<Figure size 432x288 with 1 Axes>"
      ]
     },
     "metadata": {
      "needs_background": "light"
     },
     "output_type": "display_data"
    }
   ],
   "source": [
    "# 汎化精度を最大化する \n",
    "from sklearn.model_selection import cross_val_score \n",
    "MAX_DEPTH = 20 \n",
    "accuracy = np.zeros( MAX_DEPTH ) \n",
    "for depth in range(1, MAX_DEPTH+1 ): \n",
    " model = DecisionTreeClassifier( max_depth = depth ) \n",
    " scores = cross_val_score( model, X, Y, cv=10 ) # CV法による汎化精度 (trainとtestの分割不要) \n",
    " accuracy[depth-1] = np.mean( scores ) \n",
    "import matplotlib.pyplot as plt \n",
    "plt.plot( range(1, MAX_DEPTH+1), accuracy, '.-' )"
   ]
  },
  {
   "cell_type": "code",
   "execution_count": 10,
   "id": "50ca0713",
   "metadata": {},
   "outputs": [],
   "source": [
    "from sklearn import datasets \n",
    "iris = datasets.load_iris() \n",
    "X = iris.data # 説明変数\n",
    "Y = iris.target # 目的変数(教師ラベル"
   ]
  },
  {
   "cell_type": "code",
   "execution_count": 11,
   "id": "4650b1b1",
   "metadata": {},
   "outputs": [],
   "source": [
    "X_train = X[ np.arange(0, len(X), 2) ] # 偶数行: 学習データ(説明変数) \n",
    "Y_train = Y[ np.arange(0, len(Y), 2) ] # 偶数行: 学習データ(目的変数: 教師ラベル) \n",
    "X_test = X[ np.arange(1, len(X), 2) ] # 奇数行: テストデータ(説明変数) \n",
    "Y_test = Y[ np.arange(1, len(Y), 2) ] # 奇数行: テストデータ(目的変数: 教師ラベル)"
   ]
  },
  {
   "cell_type": "code",
   "execution_count": 12,
   "id": "833d08c1",
   "metadata": {},
   "outputs": [],
   "source": [
    "from sklearn.ensemble import RandomForestClassifier\n",
    "model = RandomForestClassifier( n_estimators=500, max_depth=10 ) \n",
    "# n_estimators:決定木の数 \n",
    "model.fit( X_train, Y_train ) \n",
    "Y_predicted = model.predict( X_test ) # 使い方はいつもと同じ"
   ]
  },
  {
   "cell_type": "code",
   "execution_count": 14,
   "id": "cc5c3bb2",
   "metadata": {},
   "outputs": [
    {
     "data": {
      "text/plain": [
       "array([[25,  0,  0],\n",
       "       [ 0, 24,  1],\n",
       "       [ 0,  2, 23]], dtype=int64)"
      ]
     },
     "execution_count": 14,
     "metadata": {},
     "output_type": "execute_result"
    }
   ],
   "source": [
    "from sklearn import metrics\n",
    "metrics.confusion_matrix(Y_test, Y_predicted) # 混同行列\n"
   ]
  },
  {
   "cell_type": "code",
   "execution_count": 15,
   "id": "e7e92f94",
   "metadata": {},
   "outputs": [
    {
     "data": {
      "text/plain": [
       "0.96"
      ]
     },
     "execution_count": 15,
     "metadata": {},
     "output_type": "execute_result"
    }
   ],
   "source": [
    "metrics.accuracy_score(Y_test, Y_predicted)"
   ]
  },
  {
   "cell_type": "code",
   "execution_count": 16,
   "id": "48aa5e32",
   "metadata": {},
   "outputs": [
    {
     "data": {
      "text/plain": [
       "array([[25,  0,  0],\n",
       "       [ 0, 24,  1],\n",
       "       [ 0,  2, 23]], dtype=int64)"
      ]
     },
     "execution_count": 16,
     "metadata": {},
     "output_type": "execute_result"
    }
   ],
   "source": [
    "from sklearn.ensemble import GradientBoostingClassifier \n",
    "model = GradientBoostingClassifier( n_estimators=500, max_depth=10 ) \n",
    "# n_estimators:決定木の数 \n",
    "model.fit( X_train, Y_train ) \n",
    "Y_predicted = model.predict( X_test ) # 使い方はいつもと同じ \n",
    "metrics.confusion_matrix( Y_test, Y_predicted )"
   ]
  },
  {
   "cell_type": "code",
   "execution_count": 17,
   "id": "e890de3f",
   "metadata": {},
   "outputs": [
    {
     "data": {
      "text/plain": [
       "0.96"
      ]
     },
     "execution_count": 17,
     "metadata": {},
     "output_type": "execute_result"
    }
   ],
   "source": [
    "metrics.accuracy_score(Y_test, Y_predicted)"
   ]
  },
  {
   "cell_type": "code",
   "execution_count": 21,
   "id": "595b8cdd",
   "metadata": {},
   "outputs": [],
   "source": [
    "from sklearn.ensemble import BaggingClassifier\n",
    "from sklearn.neural_network import MLPClassifier\n",
    "import warnings \n",
    "warnings.filterwarnings('ignore') # 警告非表示\n",
    "model = MLPClassifier() # ニューラルネットを指定\n",
    "Bag_model = BaggingClassifier( base_estimator = model, \n",
    " n_estimators = 500, # 予測器の個数\n",
    " n_jobs=1, # 並列演算用のコア数\n",
    " random_state=1 ) # 乱数のシード \n",
    "Bag_model.fit( X_train, Y_train ) \n",
    "Y_predicted = Bag_model.predict( X_test ) # いつもと同じ使い方"
   ]
  },
  {
   "cell_type": "code",
   "execution_count": 19,
   "id": "c783afe9",
   "metadata": {},
   "outputs": [
    {
     "data": {
      "text/plain": [
       "array([[25,  0,  0],\n",
       "       [ 0, 24,  1],\n",
       "       [ 0,  2, 23]], dtype=int64)"
      ]
     },
     "execution_count": 19,
     "metadata": {},
     "output_type": "execute_result"
    }
   ],
   "source": [
    "metrics.confusion_matrix( Y_test, Y_predicted ) # 混同行列"
   ]
  },
  {
   "cell_type": "code",
   "execution_count": 20,
   "id": "73e42cd1",
   "metadata": {},
   "outputs": [
    {
     "data": {
      "text/plain": [
       "0.96"
      ]
     },
     "execution_count": 20,
     "metadata": {},
     "output_type": "execute_result"
    }
   ],
   "source": [
    "metrics.accuracy_score( Y_test, Y_predicted ) "
   ]
  },
  {
   "cell_type": "code",
   "execution_count": 22,
   "id": "2995dd2a",
   "metadata": {},
   "outputs": [],
   "source": [
    "from sklearn.neighbors import KNeighborsClassifier \n",
    "model = KNeighborsClassifier( n_neighbors=5 ) # k近傍法を指定\n",
    "Bag_model = BaggingClassifier( base_estimator = model, \n",
    " n_estimators = 500, n_jobs=1, random_state=1 ) \n",
    "Bag_model.fit( X_train, Y_train ) \n",
    "Y_predicted = Bag_model.predict( X_test )"
   ]
  },
  {
   "cell_type": "code",
   "execution_count": 23,
   "id": "2f6184fd",
   "metadata": {},
   "outputs": [
    {
     "data": {
      "text/plain": [
       "array([[25,  0,  0],\n",
       "       [ 0, 24,  1],\n",
       "       [ 0,  0, 25]], dtype=int64)"
      ]
     },
     "execution_count": 23,
     "metadata": {},
     "output_type": "execute_result"
    }
   ],
   "source": [
    "metrics.confusion_matrix( Y_test, Y_predicted )"
   ]
  },
  {
   "cell_type": "code",
   "execution_count": 24,
   "id": "e7103449",
   "metadata": {},
   "outputs": [
    {
     "data": {
      "text/plain": [
       "0.9866666666666667"
      ]
     },
     "execution_count": 24,
     "metadata": {},
     "output_type": "execute_result"
    }
   ],
   "source": [
    "metrics.accuracy_score( Y_test, Y_predicted ) \n"
   ]
  },
  {
   "cell_type": "code",
   "execution_count": 25,
   "id": "b2b7428c",
   "metadata": {},
   "outputs": [
    {
     "data": {
      "text/plain": [
       "0.9733333333333334"
      ]
     },
     "execution_count": 25,
     "metadata": {},
     "output_type": "execute_result"
    }
   ],
   "source": [
    "Y_predicted = Bag_model.predict( X_train ) \n",
    "metrics.accuracy_score( Y_train, Y_predicted )"
   ]
  },
  {
   "cell_type": "code",
   "execution_count": null,
   "id": "574c1d5f",
   "metadata": {},
   "outputs": [],
   "source": []
  }
 ],
 "metadata": {
  "kernelspec": {
   "display_name": "Python 3 (ipykernel)",
   "language": "python",
   "name": "python3"
  },
  "language_info": {
   "codemirror_mode": {
    "name": "ipython",
    "version": 3
   },
   "file_extension": ".py",
   "mimetype": "text/x-python",
   "name": "python",
   "nbconvert_exporter": "python",
   "pygments_lexer": "ipython3",
   "version": "3.9.12"
  }
 },
 "nbformat": 4,
 "nbformat_minor": 5
}
