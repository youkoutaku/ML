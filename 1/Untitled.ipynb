{
 "cells": [
  {
   "cell_type": "code",
   "execution_count": null,
   "id": "236d8dd5",
   "metadata": {},
   "outputs": [],
   "source": [
    "from socket import NETLINK_W1\n",
    "import pandas as pd\n",
    "UKgas = pd.read_csv(\"UKgas.csv\")\n",
    "nikkei = pd.read_csv(\"data_nikkei.csv\")\n",
    "\n",
    "N=nikkei.loc['end']\n",
    "\n",
    "if N[i+1]>N[i]:\n",
    "    \n"
   ]
  }
 ],
 "metadata": {
  "kernelspec": {
   "display_name": "Python 3.10.5 64-bit",
   "language": "python",
   "name": "python3"
  },
  "language_info": {
   "codemirror_mode": {
    "name": "ipython",
    "version": 3
   },
   "file_extension": ".py",
   "mimetype": "text/x-python",
   "name": "python",
   "nbconvert_exporter": "python",
   "pygments_lexer": "ipython3",
   "version": "3.10.5"
  },
  "vscode": {
   "interpreter": {
    "hash": "238fe4af9a3ef1dbe73a153de40f9e87630483c1268a53a7d6ae4ef57e9f4eb7"
   }
  }
 },
 "nbformat": 4,
 "nbformat_minor": 5
}
