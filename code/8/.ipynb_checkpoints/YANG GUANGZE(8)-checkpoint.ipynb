{
 "cells": [
  {
   "cell_type": "code",
   "execution_count": 1,
   "id": "d5fbe09e",
   "metadata": {},
   "outputs": [],
   "source": [
    "import numpy as np\n",
    "import matplotlib.pyplot as plt\n",
    "\n",
    "G1 = np.array([22, 20, 23, 23, 17, 24, 23, 18, 22, 19])\n",
    "G2 = np.array([40, 35, 27, 22, 25, 26, 19, 31, 30, 36])\n",
    "Data = 25"
   ]
  },
  {
   "cell_type": "code",
   "execution_count": 2,
   "id": "04e77f7e",
   "metadata": {},
   "outputs": [],
   "source": [
    "def hanbetsu_bunseki2(G1, G2, Data):\n",
    "    # 2変数の判別分析. G1,G2:学習データ. Data:判別したい新規データ.\n",
    "    D_G1 = np.abs( Data-np.mean(G1) ) / np.std(G1, ddof=1)\n",
    "    D_G2 = np.abs( Data-np.mean(G2) ) / np.std(G2, ddof=1)\n",
    "    \n",
    "    # マハラノビス距離\n",
    "    if D_G1 < D_G2:\n",
    "        Ans = 1\n",
    "    else:\n",
    "        Ans = 2\n",
    "    \n",
    "    #境界線\n",
    "    A = np.mean(G1)*np.std(G2, ddof=1)\n",
    "    B = np.mean(G2)*np.std(G1, ddof=1)\n",
    "    C = np.std(G1, ddof=1)+np.std(G2, ddof=1)   \n",
    "    Kyokai = (A+B) / C\n",
    "    \n",
    "    if np.mean(G1) > np.mean(G2) :\n",
    "        TrueR1 = len(np.where(G1 >= Kyokai)[0]) / len(G1)\n",
    "        TrueR2 = len(np.were(G2 <= Kyokai)[0]) / len(G2)\n",
    "    else:\n",
    "        TrueR1 = len(np.where(G2 >= Kyokai)[0]) / len(G2)\n",
    "        TrueR2 = len(np.where(G1 < Kyokai)[0]) / len(G1)\n",
    "        \n",
    "    return Ans, TrueR1, TrueR2"
   ]
  },
  {
   "cell_type": "code",
   "execution_count": 3,
   "id": "3cc80fb3",
   "metadata": {},
   "outputs": [],
   "source": [
    "Ans,TrueR1,TrueR2= hanbetsu_bunseki2(G1, G2, Data)"
   ]
  },
  {
   "cell_type": "code",
   "execution_count": 4,
   "id": "04c7bd77",
   "metadata": {},
   "outputs": [
    {
     "data": {
      "text/plain": [
       "2"
      ]
     },
     "execution_count": 4,
     "metadata": {},
     "output_type": "execute_result"
    }
   ],
   "source": [
    "Ans"
   ]
  },
  {
   "cell_type": "code",
   "execution_count": 5,
   "id": "a2e015b6",
   "metadata": {},
   "outputs": [
    {
     "data": {
      "text/plain": [
       "[0.8, 0.9]"
      ]
     },
     "execution_count": 5,
     "metadata": {},
     "output_type": "execute_result"
    }
   ],
   "source": [
    "[TrueR1,TrueR2]"
   ]
  },
  {
   "cell_type": "code",
   "execution_count": 3,
   "id": "41d22e7c",
   "metadata": {},
   "outputs": [
    {
     "data": {
      "text/plain": [
       "[<matplotlib.lines.Line2D at 0x1e9978b7af0>]"
      ]
     },
     "execution_count": 3,
     "metadata": {},
     "output_type": "execute_result"
    },
    {
     "data": {
      "image/png": "[encoded data removed]",
      "text/plain": [
       "<Figure size 360x360 with 1 Axes>"
      ]
     },
     "metadata": {
      "needs_background": "light"
     },
     "output_type": "display_data"
    }
   ],
   "source": [
    "G1 = np.array( [[3.4, 3.9, 2.2, 3.5, 4.1, 3.7, 2.8], [2.9, 2.4, 3.8, 4.8, 3.2, 4.1, 4.2]] )\n",
    "G2 = np.array( [[1.4, 2.4, 2.8, 1.7, 2.3, 1.9, 2.7, 1.3], [3.5, 2.6, 2.3, 2.6, 1.6, 2.1, 3.5, 1.9]] )\n",
    "Data = np.array( [2.7, 3.1] )\n",
    "\n",
    "fig = plt.figure(figsize=(5, 5))\n",
    "plt.plot(G1[0], G1[1], '.')\n",
    "plt.plot(G2[0], G2[1], 'r*')\n",
    "plt.plot(Data[0], Data[1], 'ko')\n"
   ]
  },
  {
   "cell_type": "code",
   "execution_count": 12,
   "id": "d807f55f",
   "metadata": {},
   "outputs": [],
   "source": [
    "def hanbetsu_bunseki2(G1, G2, Data):\n",
    "    # 2変数の判別分析. G1,G2:学習データ. Data:判別したい新規データ.\n",
    "    \n",
    "    # マハラノビス距離\n",
    "    tmp = np.dot( Data- np.mean(G1,axis=1), np.linalg.inv(np.cov(G1)) )\n",
    "    D_G1= np.dot(tmp, (Data-np.mean(G1,axis=1) ).T )\n",
    "    tmp = np.dot( Data- np.mean(G2,axis=1), np.linalg.inv(np.cov(G2)) )\n",
    "    D_G2= np.dot(tmp, (Data-np.mean(G2,axis=1) ).T )\n",
    "    \n",
    "    if D_G1 < D_G2:\n",
    "        Ans = 1\n",
    "    else:\n",
    "        Ans = 2\n",
    "    \n",
    "    return Ans\n"
   ]
  },
  {
   "cell_type": "code",
   "execution_count": 13,
   "id": "bb74ff22",
   "metadata": {},
   "outputs": [
    {
     "data": {
      "text/plain": [
       "2"
      ]
     },
     "execution_count": 13,
     "metadata": {},
     "output_type": "execute_result"
    }
   ],
   "source": [
    "Ans= hanbetsu_bunseki2(G1, G2, Data)\n",
    "Ans"
   ]
  },
  {
   "cell_type": "code",
   "execution_count": 20,
   "id": "b044bd43",
   "metadata": {},
   "outputs": [],
   "source": [
    "def seito_ritu(G1, G2):\n",
    "    #グループ1の正答率\n",
    "    True1 =0\n",
    "    for i in range( len(G1[0]) ) :\n",
    "        Data = G1[:,i]\n",
    "        Ans = hanbetsu_bunseki2(G1, G2, Data)\n",
    "        \n",
    "        if Ans == 1:\n",
    "            True1 = True1+1\n",
    "\n",
    "    TrueR1 = True1/len(G1[0])\n",
    "    \n",
    "    #グループ2の正答率\n",
    "    True2 = 0\n",
    "    for i in range ( len(G2[0]) ):\n",
    "        Data = G2[:,i]\n",
    "        Ans = hanbetsu_bunseki2(G1, G2, Data)\n",
    "        \n",
    "        if Ans == 2:\n",
    "            True2 = True2+1\n",
    "\n",
    "    TrueR2 = True2/len(G2[0])\n",
    "    \n",
    "    return TrueR1, TrueR2\n",
    "    "
   ]
  },
  {
   "cell_type": "code",
   "execution_count": 21,
   "id": "2b83a22e",
   "metadata": {},
   "outputs": [
    {
     "data": {
      "text/plain": [
       "[1.0, 0.875]"
      ]
     },
     "execution_count": 21,
     "metadata": {},
     "output_type": "execute_result"
    }
   ],
   "source": [
    "G1 = np.array( [[3.4, 3.9, 2.2, 3.5, 4.1, 3.7, 2.8], [2.9, 2.4, 3.8, 4.8, 3.2, 4.1, 4.2]] )\n",
    "G2 = np.array( [[1.4, 2.4, 2.8, 1.7, 2.3, 1.9, 2.7, 1.3], [3.5, 2.6, 2.3, 2.6, 1.6, 2.1, 3.5, 1.9]] )\n",
    "Data = np.array( [2.7, 3.1] )\n",
    "\n",
    "TrueR1, TrueR2 = seito_ritu(G1, G2)\n",
    "[TrueR1, TrueR2]"
   ]
  },
  {
   "cell_type": "code",
   "execution_count": null,
   "id": "71c7b7b8",
   "metadata": {},
   "outputs": [],
   "source": []
  }
 ],
 "metadata": {
  "kernelspec": {
   "display_name": "Python 3 (ipykernel)",
   "language": "python",
   "name": "python3"
  },
  "language_info": {
   "codemirror_mode": {
    "name": "ipython",
    "version": 3
   },
   "file_extension": ".py",
   "mimetype": "text/x-python",
   "name": "python",
   "nbconvert_exporter": "python",
   "pygments_lexer": "ipython3",
   "version": "3.9.12"
  }
 },
 "nbformat": 4,
 "nbformat_minor": 5
}
