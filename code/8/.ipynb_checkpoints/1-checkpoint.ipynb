{
 "cells": [
  {
   "cell_type": "code",
   "execution_count": 2,
   "id": "063dfb88",
   "metadata": {},
   "outputs": [],
   "source": [
    "import numpy as np\n",
    "import matplotlib.pyplot as plt"
   ]
  },
  {
   "cell_type": "code",
   "execution_count": 3,
   "id": "62dc6547",
   "metadata": {},
   "outputs": [
    {
     "data": {
      "text/plain": [
       "[<matplotlib.lines.Line2D at 0x195cc4d37f0>]"
      ]
     },
     "execution_count": 3,
     "metadata": {},
     "output_type": "execute_result"
    },
    {
     "data": {
      "image/png": "[encoded data removed]",
      "text/plain": [
       "<Figure size 360x360 with 1 Axes>"
      ]
     },
     "metadata": {
      "needs_background": "light"
     },
     "output_type": "display_data"
    }
   ],
   "source": [
    "G1 = np.array( [[50, 69, 93, 76, 88 ], [15.5, 18.4, 26.4, 22.9, 18.6]] )\n",
    "G2 = np.array( [[43, 56, 38, 21, 25 ], [16.9, 21.6, 12.2, 16, 10]] )\n",
    "Data = np.array( [40, 19] )\n",
    "\n",
    "fig = plt.figure(figsize=(5, 5))\n",
    "plt.plot(G1[0], G1[1], '.')\n",
    "plt.plot(G2[0], G2[1], 'r*')\n",
    "plt.plot(Data[0], Data[1], 'ko')"
   ]
  },
  {
   "cell_type": "code",
   "execution_count": 4,
   "id": "f3a3221a",
   "metadata": {},
   "outputs": [],
   "source": [
    "def hanbetsu_bunseki2(G1, G2, Data):\n",
    "    # 2変数の判別分析. G1,G2:学習データ. Data:判別したい新規データ.\n",
    "    \n",
    "    # マハラノビス距離\n",
    "    tmp = np.dot( Data- np.mean(G1,axis=1), np.linalg.inv(np.cov(G1)) )\n",
    "    D_G1= np.dot(tmp, (Data-np.mean(G1,axis=1) ).T )\n",
    "    tmp = np.dot( Data- np.mean(G2,axis=1), np.linalg.inv(np.cov(G2)) )\n",
    "    D_G2= np.dot(tmp, (Data-np.mean(G2,axis=1) ).T )\n",
    "    \n",
    "    if D_G1 < D_G2:\n",
    "        Ans = 1\n",
    "    else:\n",
    "        Ans = 2\n",
    "    \n",
    "    return Ans"
   ]
  },
  {
   "cell_type": "code",
   "execution_count": 6,
   "id": "234d1164",
   "metadata": {},
   "outputs": [],
   "source": [
    "def seito_ritu(G1, G2):\n",
    "    #グループ1の正答率\n",
    "    True1 =0\n",
    "    for i in range( len(G1[0]) ) :\n",
    "        Data = G1[:,i]\n",
    "        Ans = hanbetsu_bunseki2(G1, G2, Data)\n",
    "        \n",
    "        if Ans == 1:\n",
    "            True1 = True1+1\n",
    "\n",
    "    TrueR1 = True1/len(G1[0])\n",
    "    \n",
    "    #グループ2の正答率\n",
    "    True2 = 0\n",
    "    for i in range ( len(G2[0]) ):\n",
    "        Data = G2[:,i]\n",
    "        Ans = hanbetsu_bunseki2(G1, G2, Data)\n",
    "        \n",
    "        if Ans == 2:\n",
    "            True2 = True2+1\n",
    "\n",
    "    TrueR2 = True2/len(G2[0])\n",
    "    \n",
    "    return TrueR1, TrueR2"
   ]
  },
  {
   "cell_type": "code",
   "execution_count": 7,
   "id": "9a7be081",
   "metadata": {},
   "outputs": [
    {
     "data": {
      "text/plain": [
       "[0.8, 1.0]"
      ]
     },
     "execution_count": 7,
     "metadata": {},
     "output_type": "execute_result"
    }
   ],
   "source": [
    "TrueR1, TrueR2 = seito_ritu(G1, G2)\n",
    "[TrueR1, TrueR2]"
   ]
  },
  {
   "cell_type": "code",
   "execution_count": 5,
   "id": "3cb6bf14",
   "metadata": {},
   "outputs": [
    {
     "data": {
      "text/plain": [
       "2"
      ]
     },
     "execution_count": 5,
     "metadata": {},
     "output_type": "execute_result"
    }
   ],
   "source": [
    "Ans= hanbetsu_bunseki2(G1, G2, Data)\n",
    "Ans"
   ]
  },
  {
   "cell_type": "code",
   "execution_count": null,
   "id": "36f8098d",
   "metadata": {},
   "outputs": [],
   "source": []
  }
 ],
 "metadata": {
  "kernelspec": {
   "display_name": "Python 3 (ipykernel)",
   "language": "python",
   "name": "python3"
  },
  "language_info": {
   "codemirror_mode": {
    "name": "ipython",
    "version": 3
   },
   "file_extension": ".py",
   "mimetype": "text/x-python",
   "name": "python",
   "nbconvert_exporter": "python",
   "pygments_lexer": "ipython3",
   "version": "3.9.12"
  }
 },
 "nbformat": 4,
 "nbformat_minor": 5
}
