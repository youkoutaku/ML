{
 "cells": [
  {
   "cell_type": "code",
   "execution_count": 29,
   "id": "0eddf08a",
   "metadata": {},
   "outputs": [],
   "source": [
    "import numpy as np\n",
    "import matplotlib.pyplot as plt\n",
    "\n",
    "G1 = np.array([50, 69, 93, 76, 88])\n",
    "G2 = np.array([43, 56, 38, 21, 25])\n",
    "Data = 40"
   ]
  },
  {
   "cell_type": "code",
   "execution_count": 30,
   "id": "21a2f29d",
   "metadata": {},
   "outputs": [],
   "source": [
    "def hanbetsu_bunseki2(G1, G2, Data):\n",
    "    # 2変数の判別分析. G1,G2:学習データ. Data:判別したい新規データ.\n",
    "    D_G1 = np.abs( Data-np.mean(G1) ) / np.std(G1, ddof=1)\n",
    "    D_G2 = np.abs( Data-np.mean(G2) ) / np.std(G2, ddof=1)\n",
    "    \n",
    "    # マハラノビス距離\n",
    "    if D_G1 < D_G2:\n",
    "        Ans = 1\n",
    "    else:\n",
    "        Ans = 2\n",
    "    \n",
    "    #境界線\n",
    "    A = np.mean(G1)*np.std(G2, ddof=1)\n",
    "    B = np.mean(G2)*np.std(G1, ddof=1)\n",
    "    C = np.std(G1, ddof=1)+np.std(G2, ddof=1)   \n",
    "    Kyokai = (A+B) / C\n",
    "    \n",
    "    if np.mean(G1) > np.mean(G2) :\n",
    "        TrueR1 = len(np.where(G1 >= Kyokai)[0]) / len(G1)\n",
    "        TrueR2 = len(np.where(G2 <= Kyokai)[0]) / len(G2)\n",
    "    else:\n",
    "        TrueR1 = len(np.where(G2 >= Kyokai)[0]) / len(G2)\n",
    "        TrueR2 = len(np.where(G1 < Kyokai)[0]) / len(G1)\n",
    "        \n",
    "    return Ans, TrueR1, TrueR2"
   ]
  },
  {
   "cell_type": "code",
   "execution_count": 31,
   "id": "8cb5501d",
   "metadata": {},
   "outputs": [],
   "source": [
    "Ans,TrueR1,TrueR2= hanbetsu_bunseki2(G1,G2, Data)"
   ]
  },
  {
   "cell_type": "code",
   "execution_count": 32,
   "id": "aa6d483e",
   "metadata": {},
   "outputs": [
    {
     "data": {
      "text/plain": [
       "[0.8, 0.8]"
      ]
     },
     "execution_count": 32,
     "metadata": {},
     "output_type": "execute_result"
    }
   ],
   "source": [
    "[TrueR1,TrueR2]"
   ]
  },
  {
   "cell_type": "code",
   "execution_count": 33,
   "id": "7075457f",
   "metadata": {},
   "outputs": [
    {
     "data": {
      "text/plain": [
       "2"
      ]
     },
     "execution_count": 33,
     "metadata": {},
     "output_type": "execute_result"
    }
   ],
   "source": [
    "Ans"
   ]
  },
  {
   "cell_type": "code",
   "execution_count": 43,
   "id": "22b07b17",
   "metadata": {},
   "outputs": [],
   "source": [
    "import numpy as np\n",
    "import matplotlib.pyplot as plt\n",
    "\n",
    "G1 = np.array([15.5, 18.4, 26.4, 22.9, 18.6])\n",
    "G2 = np.array([16.9, 21.6, 12.2, 16, 10])\n",
    "Data = 19"
   ]
  },
  {
   "cell_type": "code",
   "execution_count": 44,
   "id": "784d8b96",
   "metadata": {},
   "outputs": [],
   "source": [
    "Ans,TrueR1,TrueR2= hanbetsu_bunseki2(G1,G2, Data)"
   ]
  },
  {
   "cell_type": "code",
   "execution_count": 45,
   "id": "baf23caf",
   "metadata": {},
   "outputs": [
    {
     "data": {
      "text/plain": [
       "[0.8, 0.8]"
      ]
     },
     "execution_count": 45,
     "metadata": {},
     "output_type": "execute_result"
    }
   ],
   "source": [
    "[TrueR1,TrueR2]"
   ]
  },
  {
   "cell_type": "code",
   "execution_count": 46,
   "id": "9a30151f",
   "metadata": {},
   "outputs": [
    {
     "data": {
      "text/plain": [
       "1"
      ]
     },
     "execution_count": 46,
     "metadata": {},
     "output_type": "execute_result"
    }
   ],
   "source": [
    "Ans"
   ]
  },
  {
   "cell_type": "code",
   "execution_count": 47,
   "id": "29807ee5",
   "metadata": {},
   "outputs": [],
   "source": [
    "def hanbetsu_bunseki2(G1, G2, Data):\n",
    "    # 2変数の判別分析. G1,G2:学習データ. Data:判別したい新規データ.\n",
    "    D_G1 = np.abs( Data-np.mean(G1) ) / np.std(G1, ddof=1)\n",
    "    D_G2 = np.abs( Data-np.mean(G2) ) / np.std(G2, ddof=1)\n",
    "    \n",
    "    # マハラノビス距離\n",
    "    if D_G1 < D_G2:\n",
    "        Ans = 1\n",
    "    else:\n",
    "        Ans = 2\n",
    "    \n",
    "    #境界線\n",
    "    A = np.mean(G1)*np.std(G2, ddof=1)\n",
    "    B = np.mean(G2)*np.std(G1, ddof=1)\n",
    "    C = np.std(G1, ddof=1)+np.std(G2, ddof=1)   \n",
    "    Kyokai = (A+B) / C\n",
    "    \n",
    "    if np.mean(G1) > np.mean(G2) :\n",
    "        TrueR1 = len(np.where(G1 >= Kyokai)[0]) / len(G1)\n",
    "        TrueR2 = len(np.where(G2 <= Kyokai)[0]) / len(G2)\n",
    "    else:\n",
    "        TrueR1 = len(np.where(G2 >= Kyokai)[0]) / len(G2)\n",
    "        TrueR2 = len(np.where(G1 < Kyokai)[0]) / len(G1)\n",
    "        \n",
    "    return Ans, TrueR1, TrueR2"
   ]
  },
  {
   "cell_type": "code",
   "execution_count": null,
   "id": "c236edbc",
   "metadata": {},
   "outputs": [],
   "source": []
  }
 ],
 "metadata": {
  "kernelspec": {
   "display_name": "Python 3 (ipykernel)",
   "language": "python",
   "name": "python3"
  },
  "language_info": {
   "codemirror_mode": {
    "name": "ipython",
    "version": 3
   },
   "file_extension": ".py",
   "mimetype": "text/x-python",
   "name": "python",
   "nbconvert_exporter": "python",
   "pygments_lexer": "ipython3",
   "version": "3.9.12"
  }
 },
 "nbformat": 4,
 "nbformat_minor": 5
}
