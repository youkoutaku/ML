{
 "cells": [
  {
   "cell_type": "code",
   "execution_count": 3,
   "id": "8edd18cb",
   "metadata": {},
   "outputs": [
    {
     "name": "stdout",
     "output_type": "stream",
     "text": [
      "[[ 4.99768237e-01]\n",
      " [ 5.97073604e-01]\n",
      " [-1.45797446e-01]\n",
      " [ 9.72832471e-18]]\n",
      "0.9132618247418858\n",
      "0.834047160530879\n"
     ]
    }
   ],
   "source": [
    "import matplotlib.pyplot as plt\n",
    "import numpy as np\n",
    "\n",
    "x1=[8,7,5,4,6,2,3,9]\n",
    "x2=[8,7,9,3,8,3,6,7]\n",
    "x3=[4,7,8,3,8,5,6,9]\n",
    "X = np.c_[x1, x2,x3]\n",
    "y=[18,12,14,6,12,8,10,16]\n",
    "\n",
    "x1_h = (x1-np.mean(x1)) / np.std(x1, ddof=1)\n",
    "x2_h = (x2-np.mean(x2)) / np.std(x2, ddof=1)\n",
    "x3_h = (x3-np.mean(x3)) / np.std(x3, ddof=1)\n",
    "y_h = (y-np.mean(y)) / np.std(y, ddof=1)\n",
    "\n",
    "X_h = np.c_[x1_h, x2_h, x3_h]\n",
    "\n",
    "A, C, R2 = jukaiki_bunseki(X_h, y_h)\n",
    "print(A)\n",
    "print(C)\n",
    "print(R2)"
   ]
  },
  {
   "cell_type": "code",
   "execution_count": 6,
   "id": "c8d0d1e5",
   "metadata": {},
   "outputs": [
    {
     "data": {
      "text/plain": [
       "0.41239304942116134"
      ]
     },
     "execution_count": 6,
     "metadata": {},
     "output_type": "execute_result"
    }
   ],
   "source": [
    "np.corrcoef(x3_h,x1_h)[0,1]"
   ]
  },
  {
   "cell_type": "code",
   "execution_count": 7,
   "id": "77545200",
   "metadata": {},
   "outputs": [
    {
     "data": {
      "text/plain": [
       "[<matplotlib.lines.Line2D at 0x244086cdd30>]"
      ]
     },
     "execution_count": 7,
     "metadata": {},
     "output_type": "execute_result"
    },
    {
     "data": {
      "image/png": "[encoded data removed]",
      "text/plain": [
       "<Figure size 432x288 with 1 Axes>"
      ]
     },
     "metadata": {
      "needs_background": "light"
     },
     "output_type": "display_data"
    }
   ],
   "source": [
    "plt.plot(x1_h,x3_h,'.')"
   ]
  },
  {
   "cell_type": "code",
   "execution_count": 2,
   "id": "e6bb8231",
   "metadata": {},
   "outputs": [],
   "source": [
    "def jukaiki_bunseki(X, y):\n",
    " \n",
    "    N = np.size(y) # 標本数\n",
    "    Y = np.c_[y]\n",
    "    X = np.c_[X, np.ones(N)]\n",
    " \n",
    "    tmp = np.dot(X.T, X)\n",
    "    r1 = np.linalg.inv(tmp)\n",
    "    r2 = np.dot(X.T, Y)\n",
    "    A = np.dot(r1, r2) # 係数ベクトル\n",
    " \n",
    "    Y_hat = np.dot(X, A) # 内積 (予測値): a1*x1+a2*x2+...+b*1\n",
    "    Y_hat = Y_hat[:, 0] # 0列のみを指定 (行列→ベクトル)\n",
    " \n",
    "    C = np.corrcoef(Y_hat, y)[0,1]\n",
    "    R2 = np.sum( (Y_hat-np.mean(y))**2 ) / np.sum( (y-np.mean(y))**2 )\n",
    " \n",
    "    return A, C, R2"
   ]
  },
  {
   "cell_type": "code",
   "execution_count": 8,
   "id": "dd84a434",
   "metadata": {},
   "outputs": [
    {
     "data": {
      "text/plain": [
       "0.6321318933586437"
      ]
     },
     "execution_count": 8,
     "metadata": {},
     "output_type": "execute_result"
    }
   ],
   "source": [
    "np.corrcoef(x3_h,x2_h)[0,1]"
   ]
  },
  {
   "cell_type": "code",
   "execution_count": 9,
   "id": "3f1eee32",
   "metadata": {},
   "outputs": [
    {
     "data": {
      "text/plain": [
       "[<matplotlib.lines.Line2D at 0x24408728b20>]"
      ]
     },
     "execution_count": 9,
     "metadata": {},
     "output_type": "execute_result"
    },
    {
     "data": {
      "image/png": "[encoded data removed]",
      "text/plain": [
       "<Figure size 432x288 with 1 Axes>"
      ]
     },
     "metadata": {
      "needs_background": "light"
     },
     "output_type": "display_data"
    }
   ],
   "source": [
    "plt.plot(x3_h,x2_h,'.')"
   ]
  },
  {
   "cell_type": "code",
   "execution_count": 28,
   "id": "f507baa3",
   "metadata": {},
   "outputs": [
    {
     "name": "stdout",
     "output_type": "stream",
     "text": [
      "[[7.66302119e-01]\n",
      " [1.21715102e-01]\n",
      " [2.12691564e-17]]\n",
      "0.8239913522810054\n",
      "0.67896174863388\n"
     ]
    }
   ],
   "source": [
    "X_h = np.c_[x1_h, x3_h]\n",
    "A, C, R2 = jukaiki_bunseki(X_h, y_h)\n",
    "print(A)\n",
    "print(C)\n",
    "print(R2)"
   ]
  },
  {
   "cell_type": "code",
   "execution_count": 26,
   "id": "c9672835",
   "metadata": {},
   "outputs": [
    {
     "data": {
      "text/plain": [
       "0.6311687442672026"
      ]
     },
     "execution_count": 26,
     "metadata": {},
     "output_type": "execute_result"
    }
   ],
   "source": [
    "np.corrcoef(x1_h,x2_h)[0,1]"
   ]
  },
  {
   "cell_type": "code",
   "execution_count": 27,
   "id": "ad2be43b",
   "metadata": {},
   "outputs": [
    {
     "data": {
      "text/plain": [
       "[<matplotlib.lines.Line2D at 0x2db0f7c5580>]"
      ]
     },
     "execution_count": 27,
     "metadata": {},
     "output_type": "execute_result"
    },
    {
     "data": {
      "image/png": "[encoded data removed]",
      "text/plain": [
       "<Figure size 432x288 with 1 Axes>"
      ]
     },
     "metadata": {
      "needs_background": "light"
     },
     "output_type": "display_data"
    }
   ],
   "source": [
    "plt.plot(x1_h,x2_h,'.')"
   ]
  },
  {
   "cell_type": "code",
   "execution_count": 11,
   "id": "c71e7275",
   "metadata": {},
   "outputs": [
    {
     "data": {
      "text/plain": [
       "0.43773276930595806"
      ]
     },
     "execution_count": 11,
     "metadata": {},
     "output_type": "execute_result"
    }
   ],
   "source": [
    "np.corrcoef(y_h,x3_h)[0,1]"
   ]
  },
  {
   "cell_type": "code",
   "execution_count": 12,
   "id": "0dfae02c",
   "metadata": {},
   "outputs": [
    {
     "data": {
      "text/plain": [
       "array([ 1.02062073,  0.61237244, -0.20412415, -0.61237244,  0.20412415,\n",
       "       -1.42886902, -1.02062073,  1.42886902])"
      ]
     },
     "execution_count": 12,
     "metadata": {},
     "output_type": "execute_result"
    }
   ],
   "source": [
    "x1_h"
   ]
  },
  {
   "cell_type": "code",
   "execution_count": null,
   "id": "943b0558",
   "metadata": {},
   "outputs": [],
   "source": []
  }
 ],
 "metadata": {
  "kernelspec": {
   "display_name": "Python 3 (ipykernel)",
   "language": "python",
   "name": "python3"
  },
  "language_info": {
   "codemirror_mode": {
    "name": "ipython",
    "version": 3
   },
   "file_extension": ".py",
   "mimetype": "text/x-python",
   "name": "python",
   "nbconvert_exporter": "python",
   "pygments_lexer": "ipython3",
   "version": "3.9.12"
  }
 },
 "nbformat": 4,
 "nbformat_minor": 5
}
