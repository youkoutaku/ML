{
 "cells": [
  {
   "cell_type": "markdown",
   "id": "5d29edb9",
   "metadata": {},
   "source": [
    "# 機械学習最終レポート\n",
    "**氏名：YANG GUANGZE**   **学籍番号：20T1126N**\n"
   ]
  },
  {
   "cell_type": "markdown",
   "id": "87a06c6a",
   "metadata": {},
   "source": [
    "2023/02/09"
   ]
  },
  {
   "cell_type": "markdown",
   "id": "8e868657",
   "metadata": {},
   "source": [
    "## 問題と背景\n",
    "\n",
    "問題：機械学習により、タイタニック号の遭難事故で生き残った乗客を予測するモデルを作成する．\n",
    "\n",
    "背景：Kaggle試合「Titanic - Machine Learning from Disaster」のDescriptionには，「On April 15, 1912, during her maiden voyage, the widely considered “unsinkable” RMS Titanic sank after colliding with an iceberg. Unfortunately, there weren’t enough lifeboats for everyone onboard, resulting in the death of 1502 out of 2224 passengers and crew.」と述べられている．\n",
    "\n",
    "運の要素もあるが，女性，子供，上流階級などは，他のグループと比べて生き延びる可能性が高いことが一般的に考えられる．"
   ]
  },
  {
   "cell_type": "markdown",
   "id": "7094e139",
   "metadata": {},
   "source": [
    "## 分析開始"
   ]
  },
  {
   "cell_type": "code",
   "execution_count": 1,
   "id": "f6761eeb",
   "metadata": {},
   "outputs": [],
   "source": [
    "# ライブラリーのインポート \n",
    "import numpy as np \n",
    "import pandas as pd \n",
    "import matplotlib.pyplot as plt \n",
    "import seaborn as sns \n",
    "%matplotlib inline\n",
    "\n",
    "#赤いwarmを消すため\n",
    "import warnings\n",
    "warnings.filterwarnings(\"ignore\")"
   ]
  },
  {
   "cell_type": "code",
   "execution_count": 2,
   "id": "ef5f714a",
   "metadata": {},
   "outputs": [],
   "source": [
    "# JupyterNotebookの表示領域 \n",
    "pd.set_option(\"display.max_columns\", 100) \n",
    "pd.set_option(\"display.max_rows\", 100)"
   ]
  },
  {
   "cell_type": "code",
   "execution_count": 3,
   "id": "15902d3d",
   "metadata": {
    "scrolled": true
   },
   "outputs": [
    {
     "data": {
      "text/html": [
       "<div>\n",
       "<style scoped>\n",
       "    .dataframe tbody tr th:only-of-type {\n",
       "        vertical-align: middle;\n",
       "    }\n",
       "\n",
       "    .dataframe tbody tr th {\n",
       "        vertical-align: top;\n",
       "    }\n",
       "\n",
       "    .dataframe thead th {\n",
       "        text-align: right;\n",
       "    }\n",
       "</style>\n",
       "<table border=\"1\" class=\"dataframe\">\n",
       "  <thead>\n",
       "    <tr style=\"text-align: right;\">\n",
       "      <th></th>\n",
       "      <th>PassengerId</th>\n",
       "      <th>Survived</th>\n",
       "      <th>Pclass</th>\n",
       "      <th>Name</th>\n",
       "      <th>Sex</th>\n",
       "      <th>Age</th>\n",
       "      <th>SibSp</th>\n",
       "      <th>Parch</th>\n",
       "      <th>Ticket</th>\n",
       "      <th>Fare</th>\n",
       "      <th>Cabin</th>\n",
       "      <th>Embarked</th>\n",
       "    </tr>\n",
       "  </thead>\n",
       "  <tbody>\n",
       "    <tr>\n",
       "      <th>0</th>\n",
       "      <td>1</td>\n",
       "      <td>0</td>\n",
       "      <td>3</td>\n",
       "      <td>Braund, Mr. Owen Harris</td>\n",
       "      <td>male</td>\n",
       "      <td>22.0</td>\n",
       "      <td>1</td>\n",
       "      <td>0</td>\n",
       "      <td>A/5 21171</td>\n",
       "      <td>7.2500</td>\n",
       "      <td>NaN</td>\n",
       "      <td>S</td>\n",
       "    </tr>\n",
       "    <tr>\n",
       "      <th>1</th>\n",
       "      <td>2</td>\n",
       "      <td>1</td>\n",
       "      <td>1</td>\n",
       "      <td>Cumings, Mrs. John Bradley (Florence Briggs Th...</td>\n",
       "      <td>female</td>\n",
       "      <td>38.0</td>\n",
       "      <td>1</td>\n",
       "      <td>0</td>\n",
       "      <td>PC 17599</td>\n",
       "      <td>71.2833</td>\n",
       "      <td>C85</td>\n",
       "      <td>C</td>\n",
       "    </tr>\n",
       "    <tr>\n",
       "      <th>2</th>\n",
       "      <td>3</td>\n",
       "      <td>1</td>\n",
       "      <td>3</td>\n",
       "      <td>Heikkinen, Miss. Laina</td>\n",
       "      <td>female</td>\n",
       "      <td>26.0</td>\n",
       "      <td>0</td>\n",
       "      <td>0</td>\n",
       "      <td>STON/O2. 3101282</td>\n",
       "      <td>7.9250</td>\n",
       "      <td>NaN</td>\n",
       "      <td>S</td>\n",
       "    </tr>\n",
       "    <tr>\n",
       "      <th>3</th>\n",
       "      <td>4</td>\n",
       "      <td>1</td>\n",
       "      <td>1</td>\n",
       "      <td>Futrelle, Mrs. Jacques Heath (Lily May Peel)</td>\n",
       "      <td>female</td>\n",
       "      <td>35.0</td>\n",
       "      <td>1</td>\n",
       "      <td>0</td>\n",
       "      <td>113803</td>\n",
       "      <td>53.1000</td>\n",
       "      <td>C123</td>\n",
       "      <td>S</td>\n",
       "    </tr>\n",
       "    <tr>\n",
       "      <th>4</th>\n",
       "      <td>5</td>\n",
       "      <td>0</td>\n",
       "      <td>3</td>\n",
       "      <td>Allen, Mr. William Henry</td>\n",
       "      <td>male</td>\n",
       "      <td>35.0</td>\n",
       "      <td>0</td>\n",
       "      <td>0</td>\n",
       "      <td>373450</td>\n",
       "      <td>8.0500</td>\n",
       "      <td>NaN</td>\n",
       "      <td>S</td>\n",
       "    </tr>\n",
       "    <tr>\n",
       "      <th>5</th>\n",
       "      <td>6</td>\n",
       "      <td>0</td>\n",
       "      <td>3</td>\n",
       "      <td>Moran, Mr. James</td>\n",
       "      <td>male</td>\n",
       "      <td>NaN</td>\n",
       "      <td>0</td>\n",
       "      <td>0</td>\n",
       "      <td>330877</td>\n",
       "      <td>8.4583</td>\n",
       "      <td>NaN</td>\n",
       "      <td>Q</td>\n",
       "    </tr>\n",
       "    <tr>\n",
       "      <th>6</th>\n",
       "      <td>7</td>\n",
       "      <td>0</td>\n",
       "      <td>1</td>\n",
       "      <td>McCarthy, Mr. Timothy J</td>\n",
       "      <td>male</td>\n",
       "      <td>54.0</td>\n",
       "      <td>0</td>\n",
       "      <td>0</td>\n",
       "      <td>17463</td>\n",
       "      <td>51.8625</td>\n",
       "      <td>E46</td>\n",
       "      <td>S</td>\n",
       "    </tr>\n",
       "    <tr>\n",
       "      <th>7</th>\n",
       "      <td>8</td>\n",
       "      <td>0</td>\n",
       "      <td>3</td>\n",
       "      <td>Palsson, Master. Gosta Leonard</td>\n",
       "      <td>male</td>\n",
       "      <td>2.0</td>\n",
       "      <td>3</td>\n",
       "      <td>1</td>\n",
       "      <td>349909</td>\n",
       "      <td>21.0750</td>\n",
       "      <td>NaN</td>\n",
       "      <td>S</td>\n",
       "    </tr>\n",
       "    <tr>\n",
       "      <th>8</th>\n",
       "      <td>9</td>\n",
       "      <td>1</td>\n",
       "      <td>3</td>\n",
       "      <td>Johnson, Mrs. Oscar W (Elisabeth Vilhelmina Berg)</td>\n",
       "      <td>female</td>\n",
       "      <td>27.0</td>\n",
       "      <td>0</td>\n",
       "      <td>2</td>\n",
       "      <td>347742</td>\n",
       "      <td>11.1333</td>\n",
       "      <td>NaN</td>\n",
       "      <td>S</td>\n",
       "    </tr>\n",
       "    <tr>\n",
       "      <th>9</th>\n",
       "      <td>10</td>\n",
       "      <td>1</td>\n",
       "      <td>2</td>\n",
       "      <td>Nasser, Mrs. Nicholas (Adele Achem)</td>\n",
       "      <td>female</td>\n",
       "      <td>14.0</td>\n",
       "      <td>1</td>\n",
       "      <td>0</td>\n",
       "      <td>237736</td>\n",
       "      <td>30.0708</td>\n",
       "      <td>NaN</td>\n",
       "      <td>C</td>\n",
       "    </tr>\n",
       "  </tbody>\n",
       "</table>\n",
       "</div>"
      ],
      "text/plain": [
       "   PassengerId  Survived  Pclass  \\\n",
       "0            1         0       3   \n",
       "1            2         1       1   \n",
       "2            3         1       3   \n",
       "3            4         1       1   \n",
       "4            5         0       3   \n",
       "5            6         0       3   \n",
       "6            7         0       1   \n",
       "7            8         0       3   \n",
       "8            9         1       3   \n",
       "9           10         1       2   \n",
       "\n",
       "                                                Name     Sex   Age  SibSp  \\\n",
       "0                            Braund, Mr. Owen Harris    male  22.0      1   \n",
       "1  Cumings, Mrs. John Bradley (Florence Briggs Th...  female  38.0      1   \n",
       "2                             Heikkinen, Miss. Laina  female  26.0      0   \n",
       "3       Futrelle, Mrs. Jacques Heath (Lily May Peel)  female  35.0      1   \n",
       "4                           Allen, Mr. William Henry    male  35.0      0   \n",
       "5                                   Moran, Mr. James    male   NaN      0   \n",
       "6                            McCarthy, Mr. Timothy J    male  54.0      0   \n",
       "7                     Palsson, Master. Gosta Leonard    male   2.0      3   \n",
       "8  Johnson, Mrs. Oscar W (Elisabeth Vilhelmina Berg)  female  27.0      0   \n",
       "9                Nasser, Mrs. Nicholas (Adele Achem)  female  14.0      1   \n",
       "\n",
       "   Parch            Ticket     Fare Cabin Embarked  \n",
       "0      0         A/5 21171   7.2500   NaN        S  \n",
       "1      0          PC 17599  71.2833   C85        C  \n",
       "2      0  STON/O2. 3101282   7.9250   NaN        S  \n",
       "3      0            113803  53.1000  C123        S  \n",
       "4      0            373450   8.0500   NaN        S  \n",
       "5      0            330877   8.4583   NaN        Q  \n",
       "6      0             17463  51.8625   E46        S  \n",
       "7      1            349909  21.0750   NaN        S  \n",
       "8      2            347742  11.1333   NaN        S  \n",
       "9      0            237736  30.0708   NaN        C  "
      ]
     },
     "execution_count": 3,
     "metadata": {},
     "output_type": "execute_result"
    }
   ],
   "source": [
    "# データの読込み \n",
    "train_df = pd.read_csv(\"./train.csv\") \n",
    "test_df = pd.read_csv(\"./test.csv\") \n",
    "train_df.head(10) # 先頭部分の表示"
   ]
  },
  {
   "cell_type": "code",
   "execution_count": 4,
   "id": "3c7a2458",
   "metadata": {
    "scrolled": true
   },
   "outputs": [
    {
     "name": "stdout",
     "output_type": "stream",
     "text": [
      "(891, 12)\n",
      "(418, 11)\n"
     ]
    }
   ],
   "source": [
    "# データのサイズ \n",
    "print(train_df.shape) \n",
    "print(test_df.shape)"
   ]
  },
  {
   "cell_type": "markdown",
   "id": "45f4babc",
   "metadata": {},
   "source": [
    "### 分析説明:\n",
    "データにより，一つの目標変数「Survived」に対して，説明変数「PassengerId」，「Pclass」，「Name」，「Sex」，「Age」，「SibSp」，「Parch」，「Ticket」，「Fare」，「Cabin」，「Embarked」がある．\n",
    " \n",
    "日本語にすると，搭乗者番号，搭乗者階級，搭乗者氏名，性別，年齢，同乗した兄弟と配偶者の数，同乗した両親と子供の数，チケット番号，運賃，客室番号，乗車した港である．\n",
    " \n",
    "よって，今回では，上記の説明変数を用いて目標変数「Survived」を予測する機械学習の判別問題をする．\n",
    "\n",
    "また，学習データ891個，テストデータ418個である\n",
    "\n",
    "内容については，以下のようになる．\n",
    "\n",
    "1.学習データへの理解\n",
    "\n",
    "2.説明変数の加工\n",
    "\n",
    "3.機械学習\n",
    "\n",
    "4.Kaggle最終結果"
   ]
  },
  {
   "cell_type": "markdown",
   "id": "5d7896cc",
   "metadata": {},
   "source": [
    "## 1.学習データへの理解\n",
    "### 1.1データを確認する\n",
    "説明変数のデータ型とデータの欠損について考察することで，加工すべきな説明変数を探す．"
   ]
  },
  {
   "cell_type": "code",
   "execution_count": 5,
   "id": "df6ebf82",
   "metadata": {},
   "outputs": [
    {
     "name": "stdout",
     "output_type": "stream",
     "text": [
      "<class 'pandas.core.frame.DataFrame'>\n",
      "RangeIndex: 891 entries, 0 to 890\n",
      "Data columns (total 12 columns):\n",
      " #   Column       Non-Null Count  Dtype  \n",
      "---  ------       --------------  -----  \n",
      " 0   PassengerId  891 non-null    int64  \n",
      " 1   Survived     891 non-null    int64  \n",
      " 2   Pclass       891 non-null    int64  \n",
      " 3   Name         891 non-null    object \n",
      " 4   Sex          891 non-null    object \n",
      " 5   Age          714 non-null    float64\n",
      " 6   SibSp        891 non-null    int64  \n",
      " 7   Parch        891 non-null    int64  \n",
      " 8   Ticket       891 non-null    object \n",
      " 9   Fare         891 non-null    float64\n",
      " 10  Cabin        204 non-null    object \n",
      " 11  Embarked     889 non-null    object \n",
      "dtypes: float64(2), int64(5), object(5)\n",
      "memory usage: 83.7+ KB\n"
     ]
    }
   ],
   "source": [
    "train_df.dtypes # データの型を表示\n",
    "train_df.info() # データの詳細を表示"
   ]
  },
  {
   "cell_type": "code",
   "execution_count": 6,
   "id": "3d9912f3",
   "metadata": {},
   "outputs": [
    {
     "name": "stdout",
     "output_type": "stream",
     "text": [
      "<class 'pandas.core.frame.DataFrame'>\n",
      "RangeIndex: 418 entries, 0 to 417\n",
      "Data columns (total 11 columns):\n",
      " #   Column       Non-Null Count  Dtype  \n",
      "---  ------       --------------  -----  \n",
      " 0   PassengerId  418 non-null    int64  \n",
      " 1   Pclass       418 non-null    int64  \n",
      " 2   Name         418 non-null    object \n",
      " 3   Sex          418 non-null    object \n",
      " 4   Age          332 non-null    float64\n",
      " 5   SibSp        418 non-null    int64  \n",
      " 6   Parch        418 non-null    int64  \n",
      " 7   Ticket       418 non-null    object \n",
      " 8   Fare         417 non-null    float64\n",
      " 9   Cabin        91 non-null     object \n",
      " 10  Embarked     418 non-null    object \n",
      "dtypes: float64(2), int64(4), object(5)\n",
      "memory usage: 36.0+ KB\n"
     ]
    }
   ],
   "source": [
    "test_df.dtypes # データの型を表示\n",
    "test_df.info() # データの詳細を表示"
   ]
  },
  {
   "cell_type": "markdown",
   "id": "2c5d496d",
   "metadata": {},
   "source": [
    "よって，以下の3点をまとめられる．\n",
    "\n",
    "1.データの型について「Name」,「Sex」,「Ticket」,「Cabin」,「Embarked」はobject型なので，説明変数の加工（ダミー変数への変換）が必要である．\n",
    "\n",
    "2.データの損失について「Age」,「Fare」はデータの欠損があるので，説明変数の加工（欠損値\n",
    "の置き換え）が必要である．\n",
    "\n",
    "3.「Cabin」の欠損が大きいので，「Cabin」を重要な要素として扱わない方が良いと考える．"
   ]
  },
  {
   "cell_type": "markdown",
   "id": "6dc9a5ee",
   "metadata": {},
   "source": [
    "### 1.2データの分布，目標変換との関係\n",
    "データ変数の分布を考察することで，各変数を深く理解する．"
   ]
  },
  {
   "cell_type": "markdown",
   "id": "d22d45d1",
   "metadata": {},
   "source": [
    "#### 1.2.1 目標変数「Survived」に対して"
   ]
  },
  {
   "cell_type": "code",
   "execution_count": 7,
   "id": "01857ac4",
   "metadata": {},
   "outputs": [
    {
     "data": {
      "text/plain": [
       "0.3838383838383838"
      ]
     },
     "execution_count": 7,
     "metadata": {},
     "output_type": "execute_result"
    }
   ],
   "source": [
    "# 学習データにおける生存率（1:生存, 0:故人） \n",
    "train_df[\"Survived\"].mean()"
   ]
  },
  {
   "cell_type": "markdown",
   "id": "71736448",
   "metadata": {},
   "source": [
    "学習データの生存率は，約38%であることをわかった．"
   ]
  },
  {
   "cell_type": "markdown",
   "id": "cea6994c",
   "metadata": {},
   "source": [
    "#### 1.2.2 説明変数Pclassに対して\n",
    "\n",
    "階級により，身分の高さが目標変数「Survived」に大きく影響を与えると期待する．\n",
    "\n",
    "また，階級による経済的な差もあるので，チケット番号，運賃，客室番号に影響を及ぼすことを予想する．\n",
    "チケット番号，運賃，客室番号は，階級による間接効果であると仮説する．"
   ]
  },
  {
   "cell_type": "code",
   "execution_count": 8,
   "id": "538f87b7",
   "metadata": {},
   "outputs": [
    {
     "data": {
      "text/plain": [
       "3    491\n",
       "1    216\n",
       "2    184\n",
       "Name: Pclass, dtype: int64"
      ]
     },
     "execution_count": 8,
     "metadata": {},
     "output_type": "execute_result"
    }
   ],
   "source": [
    "# 要素の頻度 \n",
    "train_df[\"Pclass\"].value_counts()"
   ]
  },
  {
   "cell_type": "code",
   "execution_count": 9,
   "id": "8061ca81",
   "metadata": {
    "scrolled": true
   },
   "outputs": [
    {
     "data": {
      "image/png": "[encoded data removed]",
      "text/plain": [
       "<Figure size 432x288 with 1 Axes>"
      ]
     },
     "metadata": {
      "needs_background": "light"
     },
     "output_type": "display_data"
    }
   ],
   "source": [
    "# Pclass別の生存数カウント \n",
    "import seaborn as sns \n",
    "sns.countplot(data=train_df, x=\"Pclass\", hue=\"Survived\");"
   ]
  },
  {
   "cell_type": "code",
   "execution_count": 10,
   "id": "2ad54226",
   "metadata": {},
   "outputs": [
    {
     "data": {
      "text/plain": [
       "Pclass\n",
       "1    0.629630\n",
       "2    0.472826\n",
       "3    0.242363\n",
       "Name: Survived, dtype: float64"
      ]
     },
     "execution_count": 10,
     "metadata": {},
     "output_type": "execute_result"
    }
   ],
   "source": [
    "# Pclass別の生存率 \n",
    "train_df[\"Survived\"].groupby(train_df[\"Pclass\"]).mean()"
   ]
  },
  {
   "cell_type": "markdown",
   "id": "9679036e",
   "metadata": {},
   "source": [
    "結果：説明変数の「Pclass」別により，生存率が大幅に異なっていることをわかった．\n",
    "\n",
    "よって，階級が高い（1>2>3）の方が生き延びる可能性が高いことが明らかになっている．Pclassは非常に重要な変数である．"
   ]
  },
  {
   "cell_type": "markdown",
   "id": "03158a65",
   "metadata": {},
   "source": [
    "#### 1.2.3 説明変数Sexに対して\n",
    "\n",
    "性別により，目標変数「Survived」に大きく影響を与えると期待する．理由として，欧米の文化には「adies first」が存在しているためである．"
   ]
  },
  {
   "cell_type": "code",
   "execution_count": 11,
   "id": "8a1610e4",
   "metadata": {},
   "outputs": [
    {
     "data": {
      "image/png": "[encoded data removed]",
      "text/plain": [
       "<Figure size 432x288 with 1 Axes>"
      ]
     },
     "metadata": {
      "needs_background": "light"
     },
     "output_type": "display_data"
    }
   ],
   "source": [
    "# Sex別の生存数カウント（1:生存, 0:故人） \n",
    "sns.countplot(data=train_df, x=\"Sex\", hue=\"Survived\");"
   ]
  },
  {
   "cell_type": "code",
   "execution_count": 12,
   "id": "04e66957",
   "metadata": {},
   "outputs": [
    {
     "data": {
      "text/plain": [
       "male      577\n",
       "female    314\n",
       "Name: Sex, dtype: int64"
      ]
     },
     "execution_count": 12,
     "metadata": {},
     "output_type": "execute_result"
    }
   ],
   "source": [
    "# 要素の頻度 \n",
    "train_df[\"Sex\"].value_counts()"
   ]
  },
  {
   "cell_type": "code",
   "execution_count": 13,
   "id": "8a9006ed",
   "metadata": {},
   "outputs": [
    {
     "data": {
      "text/plain": [
       "Sex\n",
       "female    0.742038\n",
       "male      0.188908\n",
       "Name: Survived, dtype: float64"
      ]
     },
     "execution_count": 13,
     "metadata": {},
     "output_type": "execute_result"
    }
   ],
   "source": [
    "# Sex別の生存率 \n",
    "train_df[\"Survived\"].groupby(train_df[\"Sex\"]).mean()"
   ]
  },
  {
   "cell_type": "markdown",
   "id": "32799050",
   "metadata": {},
   "source": [
    "結果：予想通りに，女性の方が生存率がとても高いことをわかった．\n",
    "\n",
    "ただし，この影響は，性別の直接効果か階級による性別の間接効果かを考察すべきだと考える．\n"
   ]
  },
  {
   "cell_type": "code",
   "execution_count": 14,
   "id": "93939d36",
   "metadata": {},
   "outputs": [
    {
     "data": {
      "image/png": "[encoded data removed]",
      "text/plain": [
       "<Figure size 432x288 with 1 Axes>"
      ]
     },
     "metadata": {
      "needs_background": "light"
     },
     "output_type": "display_data"
    }
   ],
   "source": [
    "# Sex別のPclassカウント \n",
    "sns.countplot(data=train_df, x=\"Sex\",hue=\"Pclass\");"
   ]
  },
  {
   "cell_type": "markdown",
   "id": "0b1c5555",
   "metadata": {},
   "source": [
    "この図により，男性の中に階級が低いの方が多いのに，女性の方が生存率が高いということは，確かに性別の直接効果(female>male)である．階級より影響力が高い要素かもしれない．"
   ]
  },
  {
   "cell_type": "markdown",
   "id": "167cb786",
   "metadata": {},
   "source": [
    "#### 1.2.4 説明変数Ageに対して\n",
    "年齢により，目標変数「Survived」に大きく影響を与えると期待する．理由として，「子供を優先すること」が存在しているためである．"
   ]
  },
  {
   "cell_type": "code",
   "execution_count": 15,
   "id": "588afc1e",
   "metadata": {},
   "outputs": [],
   "source": [
    "# Ageの抽出 \n",
    "Age0 = train_df[ train_df[\"Survived\"]==0 ][\"Age\"] \n",
    "Age1 = train_df[ train_df[\"Survived\"]==1 ][\"Age\"]"
   ]
  },
  {
   "cell_type": "code",
   "execution_count": 16,
   "id": "f6de642b",
   "metadata": {},
   "outputs": [
    {
     "data": {
      "image/png": "[encoded data removed]",
      "text/plain": [
       "<Figure size 432x288 with 1 Axes>"
      ]
     },
     "metadata": {
      "needs_background": "light"
     },
     "output_type": "display_data"
    }
   ],
   "source": [
    "# ヒストグラム \n",
    "plt.hist( [Age0, Age1], bins=8, label=[\"0: Death\", \"1: Survive\"] ) \n",
    "plt.legend() \n",
    "plt.xlabel(\"Age\");"
   ]
  },
  {
   "cell_type": "markdown",
   "id": "10f427a2",
   "metadata": {},
   "source": [
    "結果：予想通りに若いほど生き延びる可能性が高いことをわかった．\n",
    "\n",
    "ただし，この影響は，年齢の直接効果か間接効果かを考察すべきだと考える．"
   ]
  },
  {
   "cell_type": "code",
   "execution_count": 17,
   "id": "37fc421f",
   "metadata": {},
   "outputs": [],
   "source": [
    "# AgeとSexの関係 \n",
    "Age2 = train_df[ train_df[\"Sex\"]==\"male\" ][\"Age\"] \n",
    "Age3 = train_df[ train_df[\"Sex\"]==\"female\" ][\"Age\"]"
   ]
  },
  {
   "cell_type": "code",
   "execution_count": 18,
   "id": "84120180",
   "metadata": {},
   "outputs": [
    {
     "data": {
      "image/png": "[encoded data removed]",
      "text/plain": [
       "<Figure size 432x288 with 1 Axes>"
      ]
     },
     "metadata": {
      "needs_background": "light"
     },
     "output_type": "display_data"
    }
   ],
   "source": [
    "# ヒストグラム \n",
    "plt.hist( [Age2, Age3], bins=8, label=[\"male\", \"female\"] ) \n",
    "plt.legend() \n",
    "plt.xlabel(\"Age\");"
   ]
  },
  {
   "cell_type": "code",
   "execution_count": 19,
   "id": "75e99edd",
   "metadata": {},
   "outputs": [],
   "source": [
    "# AgeとPclassの関係\n",
    "Age4 = train_df[ train_df[\"Pclass\"]==1 ][\"Age\"] \n",
    "Age5 = train_df[ train_df[\"Pclass\"]==2 ][\"Age\"]\n",
    "Age6 = train_df[ train_df[\"Pclass\"]==3 ][\"Age\"]"
   ]
  },
  {
   "cell_type": "code",
   "execution_count": 20,
   "id": "3197d85d",
   "metadata": {},
   "outputs": [
    {
     "data": {
      "image/png": "[encoded data removed]",
      "text/plain": [
       "<Figure size 432x288 with 1 Axes>"
      ]
     },
     "metadata": {
      "needs_background": "light"
     },
     "output_type": "display_data"
    }
   ],
   "source": [
    "# ヒストグラム \n",
    "plt.hist( [Age4, Age5, Age6], bins=8, label=[\"Pclass:1\", \"Pclass:2\",\"Pclass:3\"] ) \n",
    "plt.legend() \n",
    "plt.xlabel(\"Age\");"
   ]
  },
  {
   "cell_type": "markdown",
   "id": "e5766e33",
   "metadata": {},
   "source": [
    "これによって，年齢ごとに，階級と性別の偏りがないので，若いほど生き延びる可能性が高いことは，年齢の直接効果だと考えられる．"
   ]
  },
  {
   "cell_type": "markdown",
   "id": "9fb6947e",
   "metadata": {},
   "source": [
    "#### 1.2.5 説明変数SibSp,Parchに対して\n",
    "\n",
    "同乗した兄弟，配偶者，両親，子供の数は，生存率に大きく影響されないと考えられるが，これらのデータを考察する"
   ]
  },
  {
   "cell_type": "code",
   "execution_count": 21,
   "id": "6b704287",
   "metadata": {},
   "outputs": [
    {
     "data": {
      "text/plain": [
       "SibSp\n",
       "0    0.345395\n",
       "1    0.535885\n",
       "2    0.464286\n",
       "3    0.250000\n",
       "4    0.166667\n",
       "5    0.000000\n",
       "8    0.000000\n",
       "Name: Survived, dtype: float64"
      ]
     },
     "execution_count": 21,
     "metadata": {},
     "output_type": "execute_result"
    }
   ],
   "source": [
    "# SibSp別の生存率 \n",
    "train_df[\"Survived\"].groupby(train_df[\"SibSp\"]).mean()"
   ]
  },
  {
   "cell_type": "code",
   "execution_count": 22,
   "id": "ae10d0f5",
   "metadata": {},
   "outputs": [
    {
     "data": {
      "text/plain": [
       "0    608\n",
       "1    209\n",
       "2     28\n",
       "4     18\n",
       "3     16\n",
       "8      7\n",
       "5      5\n",
       "Name: SibSp, dtype: int64"
      ]
     },
     "execution_count": 22,
     "metadata": {},
     "output_type": "execute_result"
    }
   ],
   "source": [
    "# 要素の頻度 \n",
    "train_df[\"SibSp\"].value_counts()"
   ]
  },
  {
   "cell_type": "code",
   "execution_count": 23,
   "id": "59901e4a",
   "metadata": {},
   "outputs": [
    {
     "data": {
      "image/png": "[encoded data removed]",
      "text/plain": [
       "<Figure size 432x288 with 1 Axes>"
      ]
     },
     "metadata": {
      "needs_background": "light"
     },
     "output_type": "display_data"
    }
   ],
   "source": [
    "# SibSpの抽出 \n",
    "SibSp0 = train_df[ train_df[\"Survived\"]==0 ][\"SibSp\"] \n",
    "SibSp1 = train_df[ train_df[\"Survived\"]==1 ][\"SibSp\"]\n",
    "# ヒストグラム \n",
    "plt.hist( [SibSp0, SibSp1], bins=8, label=[\"0: Death\", \"1: Survive\"] ) \n",
    "plt.legend() \n",
    "plt.xlabel(\"SibSp\");"
   ]
  },
  {
   "cell_type": "code",
   "execution_count": 24,
   "id": "723ce886",
   "metadata": {},
   "outputs": [
    {
     "data": {
      "text/plain": [
       "Parch\n",
       "0    0.343658\n",
       "1    0.550847\n",
       "2    0.500000\n",
       "3    0.600000\n",
       "4    0.000000\n",
       "5    0.200000\n",
       "6    0.000000\n",
       "Name: Survived, dtype: float64"
      ]
     },
     "execution_count": 24,
     "metadata": {},
     "output_type": "execute_result"
    }
   ],
   "source": [
    "# Parch別の生存率 \n",
    "train_df[\"Survived\"].groupby(train_df[\"Parch\"]).mean()"
   ]
  },
  {
   "cell_type": "code",
   "execution_count": 25,
   "id": "4cb8faa7",
   "metadata": {},
   "outputs": [
    {
     "data": {
      "text/plain": [
       "0    678\n",
       "1    118\n",
       "2     80\n",
       "5      5\n",
       "3      5\n",
       "4      4\n",
       "6      1\n",
       "Name: Parch, dtype: int64"
      ]
     },
     "execution_count": 25,
     "metadata": {},
     "output_type": "execute_result"
    }
   ],
   "source": [
    "# 要素の頻度 \n",
    "train_df[\"Parch\"].value_counts()"
   ]
  },
  {
   "cell_type": "code",
   "execution_count": 26,
   "id": "b8abe39b",
   "metadata": {},
   "outputs": [
    {
     "data": {
      "image/png": "[encoded data removed]",
      "text/plain": [
       "<Figure size 432x288 with 1 Axes>"
      ]
     },
     "metadata": {
      "needs_background": "light"
     },
     "output_type": "display_data"
    }
   ],
   "source": [
    "# Parchの抽出 \n",
    "Parch0 = train_df[ train_df[\"Survived\"]==0 ][\"Parch\"] \n",
    "Parch1 = train_df[ train_df[\"Survived\"]==1 ][\"SibSp\"]\n",
    "# ヒストグラム \n",
    "plt.hist( [Parch0, Parch1], bins=6, label=[\"0: Death\", \"1: Survive\"] ) \n",
    "plt.legend() \n",
    "plt.xlabel(\"Parch\");"
   ]
  },
  {
   "cell_type": "markdown",
   "id": "b3f8da69",
   "metadata": {},
   "source": [
    "結果：要素の頻度により，同乗した兄弟，配偶者，両親，子供の数が多いの方が少ないので，参考にならない．さらに同乗した兄弟，配偶者，両親，子供の数と生存率の関係は，明らかに線形的ではない．しかしながら，家族の有無は，生存率に影響を与えると考えられる．\n",
    "\n",
    "説明変数SibSp,Parchに対して，新しな説明変数「Family」で家族の有無を表示すれば，機械学習モデルの正確さを高めるだろう．"
   ]
  },
  {
   "cell_type": "markdown",
   "id": "3ee7f565",
   "metadata": {},
   "source": [
    "#### 1.2.6 説明変数Fareに対して\n",
    "運賃が生存率に若干影響を与えると予想される．理由としては，運賃の高さも階級を表すと考えっている．"
   ]
  },
  {
   "cell_type": "code",
   "execution_count": 27,
   "id": "807eef4e",
   "metadata": {},
   "outputs": [
    {
     "data": {
      "image/png": "[encoded data removed]",
      "text/plain": [
       "<Figure size 432x288 with 1 Axes>"
      ]
     },
     "metadata": {
      "needs_background": "light"
     },
     "output_type": "display_data"
    }
   ],
   "source": [
    "# Fareの抽出 \n",
    "Fare0 = train_df[ train_df[\"Survived\"]==0 ][\"Fare\"] \n",
    "Fare1 = train_df[ train_df[\"Survived\"]==1 ][\"Fare\"]\n",
    "# ヒストグラム \n",
    "plt.hist( [Fare0, Fare1], bins=8, label=[\"0: Death\", \"1: Survive\"] ) \n",
    "plt.legend() \n",
    "plt.xlabel(\"Fare\");"
   ]
  },
  {
   "cell_type": "markdown",
   "id": "90af161f",
   "metadata": {},
   "source": [
    "結果：予想通りに，運賃が高い方が生き延びる可能性が高いかもしれない．\n",
    "\n",
    "そして，この影響が運賃の直接効果か階級による間接効果かを考察する．"
   ]
  },
  {
   "cell_type": "code",
   "execution_count": 28,
   "id": "3b89151e",
   "metadata": {},
   "outputs": [
    {
     "data": {
      "image/png": "[encoded data removed]",
      "text/plain": [
       "<Figure size 432x288 with 1 Axes>"
      ]
     },
     "metadata": {
      "needs_background": "light"
     },
     "output_type": "display_data"
    }
   ],
   "source": [
    "# FareとPclassの関係\n",
    "Fare2 = train_df[ train_df[\"Pclass\"]==1 ][\"Fare\"] \n",
    "Fare3 = train_df[ train_df[\"Pclass\"]==2 ][\"Fare\"]\n",
    "Fare4 = train_df[ train_df[\"Pclass\"]==3 ][\"Fare\"]\n",
    "# ヒストグラム \n",
    "plt.hist( [Fare2, Fare3, Fare4], bins=8, label=[\"Pclass:1\", \"Pclass:2\",\"Pclass:3\"] ) \n",
    "plt.legend() \n",
    "plt.xlabel(\"Fare\");"
   ]
  },
  {
   "cell_type": "markdown",
   "id": "c2bc667c",
   "metadata": {},
   "source": [
    "これによって，運賃は階級ごとに明らかな偏りが存在しているので，運賃の影響は階級による間接効果だと考えられる\n",
    "\n",
    "機械学習モデルの正確さを高めるために，Fare要素の重さを小さくする方が良いかもしれない．"
   ]
  },
  {
   "cell_type": "markdown",
   "id": "5e5602e1",
   "metadata": {},
   "source": [
    "#### 1.2.7 説明変数Name,Ticket,Cabin,Embarkedに対して\n",
    "名前，チケット番号，客室番号，乗車した港は，生存率にあまり影響を及ばないと予想される．理由は，これらのデータが多様な文字列としてルールがない．"
   ]
  },
  {
   "cell_type": "code",
   "execution_count": 29,
   "id": "3c46fedb",
   "metadata": {},
   "outputs": [
    {
     "data": {
      "text/plain": [
       "0                              Braund, Mr. Owen Harris\n",
       "1    Cumings, Mrs. John Bradley (Florence Briggs Th...\n",
       "2                               Heikkinen, Miss. Laina\n",
       "3         Futrelle, Mrs. Jacques Heath (Lily May Peel)\n",
       "4                             Allen, Mr. William Henry\n",
       "Name: Name, dtype: object"
      ]
     },
     "execution_count": 29,
     "metadata": {},
     "output_type": "execute_result"
    }
   ],
   "source": [
    "# データの確認 \n",
    "train_df[\"Name\"].head()"
   ]
  },
  {
   "cell_type": "code",
   "execution_count": 30,
   "id": "094fd679",
   "metadata": {},
   "outputs": [
    {
     "data": {
      "text/plain": [
       "Braund, Mr. Owen Harris                     1\n",
       "Boulos, Mr. Hanna                           1\n",
       "Frolicher-Stehli, Mr. Maxmillian            1\n",
       "Gilinski, Mr. Eliezer                       1\n",
       "Murdlin, Mr. Joseph                         1\n",
       "                                           ..\n",
       "Kelly, Miss. Anna Katherine \"Annie Kate\"    1\n",
       "McCoy, Mr. Bernard                          1\n",
       "Johnson, Mr. William Cahoone Jr             1\n",
       "Keane, Miss. Nora A                         1\n",
       "Dooley, Mr. Patrick                         1\n",
       "Name: Name, Length: 891, dtype: int64"
      ]
     },
     "execution_count": 30,
     "metadata": {},
     "output_type": "execute_result"
    }
   ],
   "source": [
    "# 要素毎のデータ数 \n",
    "train_df[\"Name\"].value_counts()"
   ]
  },
  {
   "cell_type": "code",
   "execution_count": 31,
   "id": "099e1948",
   "metadata": {},
   "outputs": [
    {
     "data": {
      "text/plain": [
       "0           A/5 21171\n",
       "1            PC 17599\n",
       "2    STON/O2. 3101282\n",
       "3              113803\n",
       "4              373450\n",
       "Name: Ticket, dtype: object"
      ]
     },
     "execution_count": 31,
     "metadata": {},
     "output_type": "execute_result"
    }
   ],
   "source": [
    "# データの確認 \n",
    "train_df[\"Ticket\"].head()"
   ]
  },
  {
   "cell_type": "code",
   "execution_count": 32,
   "id": "5d8c8aca",
   "metadata": {},
   "outputs": [
    {
     "data": {
      "text/plain": [
       "347082      7\n",
       "CA. 2343    7\n",
       "1601        7\n",
       "3101295     6\n",
       "CA 2144     6\n",
       "           ..\n",
       "9234        1\n",
       "19988       1\n",
       "2693        1\n",
       "PC 17612    1\n",
       "370376      1\n",
       "Name: Ticket, Length: 681, dtype: int64"
      ]
     },
     "execution_count": 32,
     "metadata": {},
     "output_type": "execute_result"
    }
   ],
   "source": [
    "# 要素毎のデータ数 \n",
    "train_df[\"Ticket\"].value_counts()"
   ]
  },
  {
   "cell_type": "code",
   "execution_count": 33,
   "id": "acfadcb9",
   "metadata": {},
   "outputs": [
    {
     "data": {
      "text/plain": [
       "0     NaN\n",
       "1     C85\n",
       "2     NaN\n",
       "3    C123\n",
       "4     NaN\n",
       "Name: Cabin, dtype: object"
      ]
     },
     "execution_count": 33,
     "metadata": {},
     "output_type": "execute_result"
    }
   ],
   "source": [
    "# データの確認 \n",
    "train_df[\"Cabin\"].head()"
   ]
  },
  {
   "cell_type": "code",
   "execution_count": 34,
   "id": "e24ec4c8",
   "metadata": {},
   "outputs": [
    {
     "data": {
      "text/plain": [
       "B96 B98        4\n",
       "G6             4\n",
       "C23 C25 C27    4\n",
       "C22 C26        3\n",
       "F33            3\n",
       "              ..\n",
       "E34            1\n",
       "C7             1\n",
       "C54            1\n",
       "E36            1\n",
       "C148           1\n",
       "Name: Cabin, Length: 147, dtype: int64"
      ]
     },
     "execution_count": 34,
     "metadata": {},
     "output_type": "execute_result"
    }
   ],
   "source": [
    "# 要素毎のデータ数 \n",
    "train_df[\"Cabin\"].value_counts()"
   ]
  },
  {
   "cell_type": "code",
   "execution_count": 35,
   "id": "d05c5e22",
   "metadata": {},
   "outputs": [
    {
     "data": {
      "text/plain": [
       "Embarked\n",
       "C    0.553571\n",
       "Q    0.389610\n",
       "S    0.336957\n",
       "Name: Survived, dtype: float64"
      ]
     },
     "execution_count": 35,
     "metadata": {},
     "output_type": "execute_result"
    }
   ],
   "source": [
    "# Embarked別の生存率 \n",
    "train_df[\"Survived\"].groupby(train_df[\"Embarked\"]).mean()"
   ]
  },
  {
   "cell_type": "code",
   "execution_count": 36,
   "id": "854110a5",
   "metadata": {},
   "outputs": [
    {
     "data": {
      "text/plain": [
       "S    644\n",
       "C    168\n",
       "Q     77\n",
       "Name: Embarked, dtype: int64"
      ]
     },
     "execution_count": 36,
     "metadata": {},
     "output_type": "execute_result"
    }
   ],
   "source": [
    "# 要素の頻度 \n",
    "train_df[\"Embarked\"].value_counts()"
   ]
  },
  {
   "cell_type": "code",
   "execution_count": 37,
   "id": "c2113d5b",
   "metadata": {
    "scrolled": true
   },
   "outputs": [
    {
     "data": {
      "image/png": "[encoded data removed]",
      "text/plain": [
       "<Figure size 432x288 with 1 Axes>"
      ]
     },
     "metadata": {
      "needs_background": "light"
     },
     "output_type": "display_data"
    }
   ],
   "source": [
    "# Embarked別のSurvivedカウント \n",
    "sns.countplot(data=train_df, x=\"Embarked\",hue=\"Survived\");"
   ]
  },
  {
   "cell_type": "markdown",
   "id": "7e788812",
   "metadata": {},
   "source": [
    "結果：名前，チケット番号，客室番号は，予想通りになっている．しかしながら，乗車した港は，目標変数に対して関係があることをわかった．\n"
   ]
  },
  {
   "cell_type": "markdown",
   "id": "2d93f989",
   "metadata": {},
   "source": [
    "**以上で，学習データを理解した上で，以下のように重要な説明変数を取り上げられる．**\n",
    "\n",
    "1.Placss\n",
    "\n",
    "2.sex\n",
    "\n",
    "3.Age\n",
    "\n",
    "4.EmbarkedFare\n",
    "\n",
    "5.Embarked\n",
    "\n",
    "6.Family(SibSp+Parch)\n",
    "\n",
    "ただし，残りのPassengerId，Name，Ticket，Cabinを除去する．"
   ]
  },
  {
   "cell_type": "markdown",
   "id": "a33057c3",
   "metadata": {},
   "source": [
    "## 2.説明変数の加工"
   ]
  },
  {
   "cell_type": "markdown",
   "id": "25b41a21",
   "metadata": {},
   "source": [
    "### 2.1学習とテストデータの結合"
   ]
  },
  {
   "cell_type": "code",
   "execution_count": 38,
   "id": "cc4f20b7",
   "metadata": {},
   "outputs": [
    {
     "data": {
      "text/html": [
       "<div>\n",
       "<style scoped>\n",
       "    .dataframe tbody tr th:only-of-type {\n",
       "        vertical-align: middle;\n",
       "    }\n",
       "\n",
       "    .dataframe tbody tr th {\n",
       "        vertical-align: top;\n",
       "    }\n",
       "\n",
       "    .dataframe thead th {\n",
       "        text-align: right;\n",
       "    }\n",
       "</style>\n",
       "<table border=\"1\" class=\"dataframe\">\n",
       "  <thead>\n",
       "    <tr style=\"text-align: right;\">\n",
       "      <th></th>\n",
       "      <th>PassengerId</th>\n",
       "      <th>Survived</th>\n",
       "      <th>Pclass</th>\n",
       "      <th>Sex</th>\n",
       "      <th>Age</th>\n",
       "      <th>SibSp</th>\n",
       "      <th>Parch</th>\n",
       "      <th>Fare</th>\n",
       "      <th>Embarked</th>\n",
       "    </tr>\n",
       "  </thead>\n",
       "  <tbody>\n",
       "    <tr>\n",
       "      <th>0</th>\n",
       "      <td>1</td>\n",
       "      <td>0.0</td>\n",
       "      <td>3</td>\n",
       "      <td>male</td>\n",
       "      <td>22.0</td>\n",
       "      <td>1</td>\n",
       "      <td>0</td>\n",
       "      <td>7.2500</td>\n",
       "      <td>S</td>\n",
       "    </tr>\n",
       "    <tr>\n",
       "      <th>1</th>\n",
       "      <td>2</td>\n",
       "      <td>1.0</td>\n",
       "      <td>1</td>\n",
       "      <td>female</td>\n",
       "      <td>38.0</td>\n",
       "      <td>1</td>\n",
       "      <td>0</td>\n",
       "      <td>71.2833</td>\n",
       "      <td>C</td>\n",
       "    </tr>\n",
       "    <tr>\n",
       "      <th>2</th>\n",
       "      <td>3</td>\n",
       "      <td>1.0</td>\n",
       "      <td>3</td>\n",
       "      <td>female</td>\n",
       "      <td>26.0</td>\n",
       "      <td>0</td>\n",
       "      <td>0</td>\n",
       "      <td>7.9250</td>\n",
       "      <td>S</td>\n",
       "    </tr>\n",
       "    <tr>\n",
       "      <th>3</th>\n",
       "      <td>4</td>\n",
       "      <td>1.0</td>\n",
       "      <td>1</td>\n",
       "      <td>female</td>\n",
       "      <td>35.0</td>\n",
       "      <td>1</td>\n",
       "      <td>0</td>\n",
       "      <td>53.1000</td>\n",
       "      <td>S</td>\n",
       "    </tr>\n",
       "    <tr>\n",
       "      <th>4</th>\n",
       "      <td>5</td>\n",
       "      <td>0.0</td>\n",
       "      <td>3</td>\n",
       "      <td>male</td>\n",
       "      <td>35.0</td>\n",
       "      <td>0</td>\n",
       "      <td>0</td>\n",
       "      <td>8.0500</td>\n",
       "      <td>S</td>\n",
       "    </tr>\n",
       "    <tr>\n",
       "      <th>...</th>\n",
       "      <td>...</td>\n",
       "      <td>...</td>\n",
       "      <td>...</td>\n",
       "      <td>...</td>\n",
       "      <td>...</td>\n",
       "      <td>...</td>\n",
       "      <td>...</td>\n",
       "      <td>...</td>\n",
       "      <td>...</td>\n",
       "    </tr>\n",
       "    <tr>\n",
       "      <th>1304</th>\n",
       "      <td>1305</td>\n",
       "      <td>NaN</td>\n",
       "      <td>3</td>\n",
       "      <td>male</td>\n",
       "      <td>NaN</td>\n",
       "      <td>0</td>\n",
       "      <td>0</td>\n",
       "      <td>8.0500</td>\n",
       "      <td>S</td>\n",
       "    </tr>\n",
       "    <tr>\n",
       "      <th>1305</th>\n",
       "      <td>1306</td>\n",
       "      <td>NaN</td>\n",
       "      <td>1</td>\n",
       "      <td>female</td>\n",
       "      <td>39.0</td>\n",
       "      <td>0</td>\n",
       "      <td>0</td>\n",
       "      <td>108.9000</td>\n",
       "      <td>C</td>\n",
       "    </tr>\n",
       "    <tr>\n",
       "      <th>1306</th>\n",
       "      <td>1307</td>\n",
       "      <td>NaN</td>\n",
       "      <td>3</td>\n",
       "      <td>male</td>\n",
       "      <td>38.5</td>\n",
       "      <td>0</td>\n",
       "      <td>0</td>\n",
       "      <td>7.2500</td>\n",
       "      <td>S</td>\n",
       "    </tr>\n",
       "    <tr>\n",
       "      <th>1307</th>\n",
       "      <td>1308</td>\n",
       "      <td>NaN</td>\n",
       "      <td>3</td>\n",
       "      <td>male</td>\n",
       "      <td>NaN</td>\n",
       "      <td>0</td>\n",
       "      <td>0</td>\n",
       "      <td>8.0500</td>\n",
       "      <td>S</td>\n",
       "    </tr>\n",
       "    <tr>\n",
       "      <th>1308</th>\n",
       "      <td>1309</td>\n",
       "      <td>NaN</td>\n",
       "      <td>3</td>\n",
       "      <td>male</td>\n",
       "      <td>NaN</td>\n",
       "      <td>1</td>\n",
       "      <td>1</td>\n",
       "      <td>22.3583</td>\n",
       "      <td>C</td>\n",
       "    </tr>\n",
       "  </tbody>\n",
       "</table>\n",
       "<p>1309 rows × 9 columns</p>\n",
       "</div>"
      ],
      "text/plain": [
       "      PassengerId  Survived  Pclass     Sex   Age  SibSp  Parch      Fare  \\\n",
       "0               1       0.0       3    male  22.0      1      0    7.2500   \n",
       "1               2       1.0       1  female  38.0      1      0   71.2833   \n",
       "2               3       1.0       3  female  26.0      0      0    7.9250   \n",
       "3               4       1.0       1  female  35.0      1      0   53.1000   \n",
       "4               5       0.0       3    male  35.0      0      0    8.0500   \n",
       "...           ...       ...     ...     ...   ...    ...    ...       ...   \n",
       "1304         1305       NaN       3    male   NaN      0      0    8.0500   \n",
       "1305         1306       NaN       1  female  39.0      0      0  108.9000   \n",
       "1306         1307       NaN       3    male  38.5      0      0    7.2500   \n",
       "1307         1308       NaN       3    male   NaN      0      0    8.0500   \n",
       "1308         1309       NaN       3    male   NaN      1      1   22.3583   \n",
       "\n",
       "     Embarked  \n",
       "0           S  \n",
       "1           C  \n",
       "2           S  \n",
       "3           S  \n",
       "4           S  \n",
       "...       ...  \n",
       "1304        S  \n",
       "1305        C  \n",
       "1306        S  \n",
       "1307        S  \n",
       "1308        C  \n",
       "\n",
       "[1309 rows x 9 columns]"
      ]
     },
     "execution_count": 38,
     "metadata": {},
     "output_type": "execute_result"
    }
   ],
   "source": [
    "# 仕切り直し\n",
    "train_df = pd.read_csv(\"./train.csv\") \n",
    "test_df = pd.read_csv(\"./test.csv\")\n",
    "\n",
    "#不要データを除去する．\n",
    "train_df = train_df.drop(['Name','Ticket', 'Cabin'], axis=1)\n",
    "test_df = test_df.drop(['Name','Ticket', 'Cabin'], axis=1)\n",
    "\n",
    "# 学習用データとテスト用データの結合 \n",
    "all_df = pd.concat( [train_df, test_df], sort = False ) # 並び替えナシ\n",
    "\n",
    "# インデックス番号の振り直し (trainとtestでindexが重複するので) \n",
    "all_df.reset_index( drop=True ) # 古いindexを削除"
   ]
  },
  {
   "cell_type": "markdown",
   "id": "3973b02f",
   "metadata": {},
   "source": [
    "### 2.2カテゴリ変数の書き換え"
   ]
  },
  {
   "cell_type": "code",
   "execution_count": 39,
   "id": "631cf7f9",
   "metadata": {},
   "outputs": [],
   "source": [
    "# ダミー変数への変換 \n",
    "all_df = pd.get_dummies( all_df, drop_first=True )"
   ]
  },
  {
   "cell_type": "code",
   "execution_count": 40,
   "id": "5b4abb72",
   "metadata": {},
   "outputs": [
    {
     "data": {
      "text/plain": [
       "PassengerId      0\n",
       "Survived       418\n",
       "Pclass           0\n",
       "Age            263\n",
       "SibSp            0\n",
       "Parch            0\n",
       "Fare             1\n",
       "Sex_male         0\n",
       "Embarked_Q       0\n",
       "Embarked_S       0\n",
       "dtype: int64"
      ]
     },
     "execution_count": 40,
     "metadata": {},
     "output_type": "execute_result"
    }
   ],
   "source": [
    "# 欠損値の確認 \n",
    "all_df.isna().sum()"
   ]
  },
  {
   "cell_type": "markdown",
   "id": "95c42637",
   "metadata": {},
   "source": [
    "### 2.3欠損値の置き換え"
   ]
  },
  {
   "cell_type": "code",
   "execution_count": 41,
   "id": "b79240fb",
   "metadata": {},
   "outputs": [],
   "source": [
    "# 欠損値を平均値で埋める\n",
    "all_df[\"Age\"] = all_df[\"Age\"].fillna( all_df[\"Age\"].mean() ) \n",
    "all_df[\"Fare\"] = all_df[\"Fare\"].fillna( all_df[\"Fare\"].mean() )"
   ]
  },
  {
   "cell_type": "markdown",
   "id": "6ec41570",
   "metadata": {},
   "source": [
    "### 2.4データの統合"
   ]
  },
  {
   "cell_type": "code",
   "execution_count": 42,
   "id": "526e2b97",
   "metadata": {},
   "outputs": [],
   "source": [
    "#新たな変数Familyを作成する\n",
    "all_df[\"Family\"] = np.where( (all_df['SibSp'] == 0) & (all_df['Parch'] == 0),0,1)"
   ]
  },
  {
   "cell_type": "code",
   "execution_count": 43,
   "id": "ddc6ba80",
   "metadata": {},
   "outputs": [
    {
     "data": {
      "text/plain": [
       "0      1\n",
       "1      1\n",
       "2      0\n",
       "3      1\n",
       "4      0\n",
       "      ..\n",
       "413    0\n",
       "414    0\n",
       "415    0\n",
       "416    0\n",
       "417    1\n",
       "Name: Family, Length: 1309, dtype: int32"
      ]
     },
     "execution_count": 43,
     "metadata": {},
     "output_type": "execute_result"
    }
   ],
   "source": [
    "#新たな変数Familyを確認する\n",
    "all_df['Family']"
   ]
  },
  {
   "cell_type": "code",
   "execution_count": 44,
   "id": "c5d2cf10",
   "metadata": {},
   "outputs": [],
   "source": [
    "#SibSpとParchを除去する\n",
    "all_df = all_df.drop( [\"SibSp\", \"Parch\"], axis=1 )"
   ]
  },
  {
   "cell_type": "code",
   "execution_count": 45,
   "id": "b76e7443",
   "metadata": {},
   "outputs": [
    {
     "data": {
      "text/html": [
       "<div>\n",
       "<style scoped>\n",
       "    .dataframe tbody tr th:only-of-type {\n",
       "        vertical-align: middle;\n",
       "    }\n",
       "\n",
       "    .dataframe tbody tr th {\n",
       "        vertical-align: top;\n",
       "    }\n",
       "\n",
       "    .dataframe thead th {\n",
       "        text-align: right;\n",
       "    }\n",
       "</style>\n",
       "<table border=\"1\" class=\"dataframe\">\n",
       "  <thead>\n",
       "    <tr style=\"text-align: right;\">\n",
       "      <th></th>\n",
       "      <th>PassengerId</th>\n",
       "      <th>Survived</th>\n",
       "      <th>Pclass</th>\n",
       "      <th>Age</th>\n",
       "      <th>Fare</th>\n",
       "      <th>Sex_male</th>\n",
       "      <th>Embarked_Q</th>\n",
       "      <th>Embarked_S</th>\n",
       "      <th>Family</th>\n",
       "    </tr>\n",
       "  </thead>\n",
       "  <tbody>\n",
       "    <tr>\n",
       "      <th>0</th>\n",
       "      <td>1</td>\n",
       "      <td>0.0</td>\n",
       "      <td>3</td>\n",
       "      <td>22.000000</td>\n",
       "      <td>7.2500</td>\n",
       "      <td>1</td>\n",
       "      <td>0</td>\n",
       "      <td>1</td>\n",
       "      <td>1</td>\n",
       "    </tr>\n",
       "    <tr>\n",
       "      <th>1</th>\n",
       "      <td>2</td>\n",
       "      <td>1.0</td>\n",
       "      <td>1</td>\n",
       "      <td>38.000000</td>\n",
       "      <td>71.2833</td>\n",
       "      <td>0</td>\n",
       "      <td>0</td>\n",
       "      <td>0</td>\n",
       "      <td>1</td>\n",
       "    </tr>\n",
       "    <tr>\n",
       "      <th>2</th>\n",
       "      <td>3</td>\n",
       "      <td>1.0</td>\n",
       "      <td>3</td>\n",
       "      <td>26.000000</td>\n",
       "      <td>7.9250</td>\n",
       "      <td>0</td>\n",
       "      <td>0</td>\n",
       "      <td>1</td>\n",
       "      <td>0</td>\n",
       "    </tr>\n",
       "    <tr>\n",
       "      <th>3</th>\n",
       "      <td>4</td>\n",
       "      <td>1.0</td>\n",
       "      <td>1</td>\n",
       "      <td>35.000000</td>\n",
       "      <td>53.1000</td>\n",
       "      <td>0</td>\n",
       "      <td>0</td>\n",
       "      <td>1</td>\n",
       "      <td>1</td>\n",
       "    </tr>\n",
       "    <tr>\n",
       "      <th>4</th>\n",
       "      <td>5</td>\n",
       "      <td>0.0</td>\n",
       "      <td>3</td>\n",
       "      <td>35.000000</td>\n",
       "      <td>8.0500</td>\n",
       "      <td>1</td>\n",
       "      <td>0</td>\n",
       "      <td>1</td>\n",
       "      <td>0</td>\n",
       "    </tr>\n",
       "    <tr>\n",
       "      <th>...</th>\n",
       "      <td>...</td>\n",
       "      <td>...</td>\n",
       "      <td>...</td>\n",
       "      <td>...</td>\n",
       "      <td>...</td>\n",
       "      <td>...</td>\n",
       "      <td>...</td>\n",
       "      <td>...</td>\n",
       "      <td>...</td>\n",
       "    </tr>\n",
       "    <tr>\n",
       "      <th>413</th>\n",
       "      <td>1305</td>\n",
       "      <td>NaN</td>\n",
       "      <td>3</td>\n",
       "      <td>29.881138</td>\n",
       "      <td>8.0500</td>\n",
       "      <td>1</td>\n",
       "      <td>0</td>\n",
       "      <td>1</td>\n",
       "      <td>0</td>\n",
       "    </tr>\n",
       "    <tr>\n",
       "      <th>414</th>\n",
       "      <td>1306</td>\n",
       "      <td>NaN</td>\n",
       "      <td>1</td>\n",
       "      <td>39.000000</td>\n",
       "      <td>108.9000</td>\n",
       "      <td>0</td>\n",
       "      <td>0</td>\n",
       "      <td>0</td>\n",
       "      <td>0</td>\n",
       "    </tr>\n",
       "    <tr>\n",
       "      <th>415</th>\n",
       "      <td>1307</td>\n",
       "      <td>NaN</td>\n",
       "      <td>3</td>\n",
       "      <td>38.500000</td>\n",
       "      <td>7.2500</td>\n",
       "      <td>1</td>\n",
       "      <td>0</td>\n",
       "      <td>1</td>\n",
       "      <td>0</td>\n",
       "    </tr>\n",
       "    <tr>\n",
       "      <th>416</th>\n",
       "      <td>1308</td>\n",
       "      <td>NaN</td>\n",
       "      <td>3</td>\n",
       "      <td>29.881138</td>\n",
       "      <td>8.0500</td>\n",
       "      <td>1</td>\n",
       "      <td>0</td>\n",
       "      <td>1</td>\n",
       "      <td>0</td>\n",
       "    </tr>\n",
       "    <tr>\n",
       "      <th>417</th>\n",
       "      <td>1309</td>\n",
       "      <td>NaN</td>\n",
       "      <td>3</td>\n",
       "      <td>29.881138</td>\n",
       "      <td>22.3583</td>\n",
       "      <td>1</td>\n",
       "      <td>0</td>\n",
       "      <td>0</td>\n",
       "      <td>1</td>\n",
       "    </tr>\n",
       "  </tbody>\n",
       "</table>\n",
       "<p>1309 rows × 9 columns</p>\n",
       "</div>"
      ],
      "text/plain": [
       "     PassengerId  Survived  Pclass        Age      Fare  Sex_male  Embarked_Q  \\\n",
       "0              1       0.0       3  22.000000    7.2500         1           0   \n",
       "1              2       1.0       1  38.000000   71.2833         0           0   \n",
       "2              3       1.0       3  26.000000    7.9250         0           0   \n",
       "3              4       1.0       1  35.000000   53.1000         0           0   \n",
       "4              5       0.0       3  35.000000    8.0500         1           0   \n",
       "..           ...       ...     ...        ...       ...       ...         ...   \n",
       "413         1305       NaN       3  29.881138    8.0500         1           0   \n",
       "414         1306       NaN       1  39.000000  108.9000         0           0   \n",
       "415         1307       NaN       3  38.500000    7.2500         1           0   \n",
       "416         1308       NaN       3  29.881138    8.0500         1           0   \n",
       "417         1309       NaN       3  29.881138   22.3583         1           0   \n",
       "\n",
       "     Embarked_S  Family  \n",
       "0             1       1  \n",
       "1             0       1  \n",
       "2             1       0  \n",
       "3             1       1  \n",
       "4             1       0  \n",
       "..          ...     ...  \n",
       "413           1       0  \n",
       "414           0       0  \n",
       "415           1       0  \n",
       "416           1       0  \n",
       "417           0       1  \n",
       "\n",
       "[1309 rows x 9 columns]"
      ]
     },
     "execution_count": 45,
     "metadata": {},
     "output_type": "execute_result"
    }
   ],
   "source": [
    "#データを再確認する\n",
    "all_df"
   ]
  },
  {
   "cell_type": "markdown",
   "id": "e7645e51",
   "metadata": {},
   "source": [
    "### 2.5データの分離"
   ]
  },
  {
   "cell_type": "code",
   "execution_count": 46,
   "id": "57d932b9",
   "metadata": {},
   "outputs": [],
   "source": [
    "#trainとtestに戻す \n",
    "train_df_2 = all_df[:len(train_df)] \n",
    "test_df_2 = all_df[len(train_df):]"
   ]
  },
  {
   "cell_type": "code",
   "execution_count": 47,
   "id": "4ec42c7d",
   "metadata": {},
   "outputs": [],
   "source": [
    "# 説明変数と目的変数の分離 (列を削除) \n",
    "train_X = train_df_2.drop( [\"Survived\", \"PassengerId\"], axis=1 ) \n",
    "test_X = test_df_2.drop( [\"Survived\", \"PassengerId\"], axis=1 )\n",
    "train_Y = train_df_2[\"Survived\"]"
   ]
  },
  {
   "cell_type": "code",
   "execution_count": 48,
   "id": "1b373465",
   "metadata": {},
   "outputs": [
    {
     "data": {
      "text/plain": [
       "((891, 7), (891,), (418, 7))"
      ]
     },
     "execution_count": 48,
     "metadata": {},
     "output_type": "execute_result"
    }
   ],
   "source": [
    "train_X.shape, train_Y.shape, test_X.shape"
   ]
  },
  {
   "cell_type": "markdown",
   "id": "b5673bea",
   "metadata": {},
   "source": [
    "## 3.機械学習"
   ]
  },
  {
   "cell_type": "markdown",
   "id": "6f853d04",
   "metadata": {},
   "source": [
    "学習モデルについて，以下のようになっている．\n",
    "\n",
    "1.決定木\n",
    "\n",
    "2.ランダムフォレスト\n",
    "\n",
    "3.勾配ブースティング\n",
    "\n",
    "4.集団学習\n",
    "\n",
    "5.スタッキング\n"
   ]
  },
  {
   "cell_type": "markdown",
   "id": "afcf676d",
   "metadata": {},
   "source": [
    "### 3.1決定木"
   ]
  },
  {
   "cell_type": "code",
   "execution_count": 49,
   "id": "a8f3c920",
   "metadata": {},
   "outputs": [
    {
     "data": {
      "text/plain": [
       "[<matplotlib.lines.Line2D at 0x1c7acaee700>]"
      ]
     },
     "execution_count": 49,
     "metadata": {},
     "output_type": "execute_result"
    },
    {
     "data": {
      "image/png": "[encoded data removed]",
      "text/plain": [
       "<Figure size 432x288 with 1 Axes>"
      ]
     },
     "metadata": {
      "needs_background": "light"
     },
     "output_type": "display_data"
    }
   ],
   "source": [
    "# 決定木\n",
    "from sklearn.tree import DecisionTreeClassifier \n",
    "from sklearn.model_selection import cross_val_score\n",
    "MAX_DEPTH = 10\n",
    "accuracy = np.zeros(MAX_DEPTH)\n",
    "\n",
    "for depth in range(1, MAX_DEPTH+1):\n",
    "    decision_tree = DecisionTreeClassifier(max_depth = depth)\n",
    "    scores = cross_val_score(decision_tree,train_X,train_Y,cv=10)\n",
    "    accuracy[depth-1] = np.mean(scores)\n",
    "    \n",
    "plt.plot(range(1, MAX_DEPTH+1),accuracy,'.-')"
   ]
  },
  {
   "cell_type": "code",
   "execution_count": 50,
   "id": "4eb003c5",
   "metadata": {},
   "outputs": [],
   "source": [
    "#パラメータ最適化\n",
    "decision_tree = DecisionTreeClassifier(max_depth=3)#過学習を防ぐために,depth=3\n",
    "decision_tree.fit(train_X, train_Y)\n",
    "Y_pred_dt = decision_tree.predict(test_X)"
   ]
  },
  {
   "cell_type": "code",
   "execution_count": 51,
   "id": "0b563e58",
   "metadata": {},
   "outputs": [],
   "source": [
    "# 予測結果の出力 \n",
    "file = pd.read_csv(\"./gender_submission.csv\") \n",
    "file[\"Survived\"] = Y_pred_dt.astype(int) # 整数型に変換 (少数点以下を削除)\n",
    "file.to_csv(\"./submission_dt.csv\", index=False) # indexは上書きしない"
   ]
  },
  {
   "cell_type": "markdown",
   "id": "201e5214",
   "metadata": {},
   "source": [
    "### 3.1ランダムフォレスト"
   ]
  },
  {
   "cell_type": "code",
   "execution_count": 52,
   "id": "e9e28f99",
   "metadata": {},
   "outputs": [
    {
     "data": {
      "text/plain": [
       "[<matplotlib.lines.Line2D at 0x1c7ac1782b0>]"
      ]
     },
     "execution_count": 52,
     "metadata": {},
     "output_type": "execute_result"
    },
    {
     "data": {
      "image/png": "[encoded data removed]",
      "text/plain": [
       "<Figure size 432x288 with 1 Axes>"
      ]
     },
     "metadata": {
      "needs_background": "light"
     },
     "output_type": "display_data"
    }
   ],
   "source": [
    "#ランダムフォレスト\n",
    "from sklearn.ensemble import RandomForestClassifier\n",
    "\n",
    "X=train_X\n",
    "Y=train_Y\n",
    "\n",
    "MAX_DEPTH = 20\n",
    "accuracy = np.zeros(MAX_DEPTH)\n",
    "\n",
    "for depth in range(1,MAX_DEPTH+1):\n",
    "    model_rf = RandomForestClassifier(n_estimators = 500 ,max_depth=depth,random_state=1126)\n",
    "    model_rf.fit(X,Y)\n",
    "    model_rf.score(X, Y)\n",
    "    scores = cross_val_score(model_rf,X,Y,cv=20)\n",
    "    accuracy[depth-1] = np.mean(scores)\n",
    "    \n",
    "plt.plot(range(1, MAX_DEPTH+1),accuracy,'.-')"
   ]
  },
  {
   "cell_type": "code",
   "execution_count": 53,
   "id": "8d29c2df",
   "metadata": {},
   "outputs": [],
   "source": [
    "#パラメータ最適化\n",
    "model_rf = RandomForestClassifier(n_estimators = 500 ,max_depth=4,random_state=1126)\n",
    "model_rf.fit(train_X,train_Y)\n",
    "Y_pred_rf = model_rf.predict(test_X)"
   ]
  },
  {
   "cell_type": "code",
   "execution_count": 54,
   "id": "e509e16a",
   "metadata": {},
   "outputs": [],
   "source": [
    "file = pd.read_csv(\"./gender_submission.csv\") \n",
    "file[\"Survived\"] = Y_pred_rf.astype(int) # 整数型に変換 (少数点以下を削除)\n",
    "file.to_csv(\"./submission_rf.csv\", index=False) # indexは上書きしない"
   ]
  },
  {
   "cell_type": "markdown",
   "id": "f02dc862",
   "metadata": {},
   "source": [
    "### 3.3勾配ブースティング\n"
   ]
  },
  {
   "cell_type": "code",
   "execution_count": 55,
   "id": "6204f5e3",
   "metadata": {},
   "outputs": [
    {
     "data": {
      "text/plain": [
       "[<matplotlib.lines.Line2D at 0x1c7ac3c4100>]"
      ]
     },
     "execution_count": 55,
     "metadata": {},
     "output_type": "execute_result"
    },
    {
     "data": {
      "image/png": "[encoded data removed]",
      "text/plain": [
       "<Figure size 432x288 with 1 Axes>"
      ]
     },
     "metadata": {
      "needs_background": "light"
     },
     "output_type": "display_data"
    }
   ],
   "source": [
    "from sklearn.ensemble import GradientBoostingClassifier\n",
    "\n",
    "X=train_X\n",
    "Y=train_Y\n",
    "\n",
    "MAX_DEPTH = 10\n",
    "accuracy = np.zeros(MAX_DEPTH)\n",
    "\n",
    "for depth in range(1,MAX_DEPTH+1):\n",
    "    model_gb = GradientBoostingClassifier(n_estimators = 500 ,max_depth=depth,random_state=1234)\n",
    "    scores = cross_val_score(model_gb,X,Y,cv=10)\n",
    "    accuracy[depth-1] = np.mean(scores)\n",
    "    \n",
    "plt.plot(range(1, MAX_DEPTH+1),accuracy,'.-')"
   ]
  },
  {
   "cell_type": "code",
   "execution_count": 56,
   "id": "4c1e910c",
   "metadata": {},
   "outputs": [],
   "source": [
    "#パラメータ最適化\n",
    "model_gb = GradientBoostingClassifier(n_estimators = 500 ,max_depth=3,random_state=1234)\n",
    "model_gb.fit(train_X,train_Y)\n",
    "Y_pred_gb = model_gb.predict(test_X)"
   ]
  },
  {
   "cell_type": "code",
   "execution_count": 57,
   "id": "90d7512d",
   "metadata": {},
   "outputs": [],
   "source": [
    "file = pd.read_csv(\"./gender_submission.csv\") \n",
    "file[\"Survived\"] = Y_pred_gb.astype(int) # 整数型に変換 (少数点以下を削除)\n",
    "file.to_csv(\"./submission_gb.csv\", index=False) # indexは上書きしない"
   ]
  },
  {
   "cell_type": "markdown",
   "id": "bff0dab5",
   "metadata": {},
   "source": [
    "### 3.4集団学習"
   ]
  },
  {
   "cell_type": "code",
   "execution_count": 59,
   "id": "b2174980",
   "metadata": {},
   "outputs": [],
   "source": [
    "model1 = RandomForestClassifier( n_estimators=500,random_state=1126, max_depth = 4 ) \n",
    "model2 = RandomForestClassifier( n_estimators=500,random_state=9999, max_depth = 4 ) \n",
    "model3 = GradientBoostingClassifier( n_estimators=500,random_state=1126, max_depth = 3 ) \n",
    "model4 = GradientBoostingClassifier( n_estimators=500,random_state=9999, max_depth = 3 ) \n",
    "\n",
    "# 学習\n",
    "model1.fit( train_X, train_Y ) \n",
    "model2.fit( train_X, train_Y ) \n",
    "model3.fit( train_X, train_Y ) \n",
    "model4.fit( train_X, train_Y ) \n",
    "\n",
    "# テスト \n",
    "pred_test_Y1 = model1.predict( test_X ) \n",
    "pred_test_Y2 = model2.predict( test_X ) \n",
    "pred_test_Y3 = model3.predict( test_X ) \n",
    "pred_test_Y4 = model4.predict( test_X ) \n",
    "\n",
    "# 予測結果の多数決 (平均値)\n",
    "ensemble_Y = ( pred_test_Y1 + pred_test_Y2 \n",
    " + pred_test_Y3 + pred_test_Y4) / 4 "
   ]
  },
  {
   "cell_type": "code",
   "execution_count": 60,
   "id": "8c752bc1",
   "metadata": {},
   "outputs": [],
   "source": [
    "# 予測結果の出力 \n",
    "file = pd.read_csv(\"./gender_submission.csv\") \n",
    "file[\"Survived\"] = ensemble_Y.astype(int)\n",
    "file.to_csv(\"./submission_ENS.csv\", index=False)"
   ]
  },
  {
   "cell_type": "markdown",
   "id": "27f8d0bf",
   "metadata": {},
   "source": [
    "### 3.5スタッキング"
   ]
  },
  {
   "cell_type": "code",
   "execution_count": 61,
   "id": "0102b7e0",
   "metadata": {},
   "outputs": [],
   "source": [
    "#スタッキング\n",
    "pred_train_Y1 = model1.predict(train_X)\n",
    "pred_train_Y2 = model2.predict(train_X)\n",
    "pred_train_Y3 = model3.predict(train_X)\n",
    "pred_train_Y4 = model4.predict(train_X)\n",
    "Ens_train_Y=np.array([pred_train_Y1,pred_train_Y2,pred_train_Y3,pred_train_Y4]).T\n",
    "\n",
    "#ここで重回帰モデルLinearClassifierをimportできないために，ほかの線形分類器を用いた．\n",
    "#確率的勾配降下法SGD\n",
    "from sklearn.linear_model import SGDClassifier\n",
    "model_boss = SGDClassifier()\n",
    "\n",
    "X=Ens_train_Y\n",
    "Y=train_Y\n",
    "\n",
    "model_boss.fit(X,Y)\n",
    "\n",
    "#子分の予測\n",
    "pred_test_Y1 = model1.predict(test_X)\n",
    "pred_test_Y2 = model2.predict(test_X)\n",
    "pred_test_Y3 = model3.predict(test_X)\n",
    "pred_test_Y4 = model4.predict(test_X)\n",
    "Ens_test_X = np.array([pred_test_Y1, pred_test_Y2, pred_test_Y3, pred_test_Y4 ]).T\n",
    "\n",
    "#ボス予測\n",
    "pred_test_YBoss = model_boss.predict(Ens_test_X)"
   ]
  },
  {
   "cell_type": "code",
   "execution_count": 62,
   "id": "0950fc22",
   "metadata": {},
   "outputs": [],
   "source": [
    "file = pd.read_csv(\"./gender_submission.csv\") \n",
    "file[\"Survived\"] = pred_test_YBoss.astype(int) # 整数型に変換 (少数点以下を削除)\n",
    "file.to_csv(\"./submission_STK.csv\", index=False) # indexは上書きしない"
   ]
  },
  {
   "cell_type": "markdown",
   "id": "cc868ba2",
   "metadata": {},
   "source": [
    "## 4.Kaggle最終結果\n",
    "\n",
    "決定木: 0.77990\n",
    "\n",
    "ランダムフォレスト: 0.77751\n",
    "\n",
    "勾配ブースティング: 0.75458\n",
    "\n",
    "集団学習: 0.77511\n",
    "\n",
    "スタッキング: 0.75598\n",
    "\n",
    "得点最も高いのは，決定木と集団学習である．\n",
    "\n",
    "### スコア\n",
    "0.7799\n",
    "\n",
    "### 順位\n",
    "2923\n",
    "\n",
    "### ハンドルネーム\n",
    "koutaku young\n"
   ]
  }
 ],
 "metadata": {
  "kernelspec": {
   "display_name": "Python 3 (ipykernel)",
   "language": "python",
   "name": "python3"
  },
  "language_info": {
   "codemirror_mode": {
    "name": "ipython",
    "version": 3
   },
   "file_extension": ".py",
   "mimetype": "text/x-python",
   "name": "python",
   "nbconvert_exporter": "python",
   "pygments_lexer": "ipython3",
   "version": "3.9.12"
  },
  "vscode": {
   "interpreter": {
    "hash": "238fe4af9a3ef1dbe73a153de40f9e87630483c1268a53a7d6ae4ef57e9f4eb7"
   }
  }
 },
 "nbformat": 4,
 "nbformat_minor": 5
}
