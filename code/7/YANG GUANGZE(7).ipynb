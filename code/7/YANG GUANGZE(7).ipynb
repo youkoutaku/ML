{
 "cells": [
  {
   "cell_type": "code",
   "execution_count": 3,
   "id": "cd28ff93",
   "metadata": {},
   "outputs": [],
   "source": [
    "import numpy as np \n",
    "X = np.array( [[84.1, -52.2], [-52.2, 130.4]] ) #行列の定義\n"
   ]
  },
  {
   "cell_type": "code",
   "execution_count": 4,
   "id": "51084ad6",
   "metadata": {},
   "outputs": [
    {
     "data": {
      "text/plain": [
       "array([[ 84.1, -52.2],\n",
       "       [-52.2, 130.4]])"
      ]
     },
     "execution_count": 4,
     "metadata": {},
     "output_type": "execute_result"
    }
   ],
   "source": [
    "X"
   ]
  },
  {
   "cell_type": "code",
   "execution_count": 6,
   "id": "85399c90",
   "metadata": {},
   "outputs": [],
   "source": [
    "L, A = np.linalg.eig(X)#固有値＆固有ベクトル"
   ]
  },
  {
   "cell_type": "code",
   "execution_count": 7,
   "id": "cf691442",
   "metadata": {},
   "outputs": [
    {
     "data": {
      "text/plain": [
       "array([ 50.14691339, 164.35308661])"
      ]
     },
     "execution_count": 7,
     "metadata": {},
     "output_type": "execute_result"
    }
   ],
   "source": [
    "L"
   ]
  },
  {
   "cell_type": "code",
   "execution_count": 8,
   "id": "2e9da20e",
   "metadata": {},
   "outputs": [
    {
     "data": {
      "text/plain": [
       "array([[-0.83827417,  0.54524895],\n",
       "       [-0.54524895, -0.83827417]])"
      ]
     },
     "execution_count": 8,
     "metadata": {},
     "output_type": "execute_result"
    }
   ],
   "source": [
    "A"
   ]
  },
  {
   "cell_type": "code",
   "execution_count": 9,
   "id": "b209b316",
   "metadata": {},
   "outputs": [],
   "source": [
    "x1 = [22, 22, 18, 18, 15, 19, 19, 24, 21, 25] \n",
    "x2 = [12, 8, 6, 15, 7, 9, 7, 17, 14, 11] \n",
    "COV = np.cov( [x1, x2] ) # 共分散行列"
   ]
  },
  {
   "cell_type": "code",
   "execution_count": 10,
   "id": "9b2aeab9",
   "metadata": {},
   "outputs": [
    {
     "data": {
      "text/plain": [
       "array([[ 9.34444444,  5.8       ],\n",
       "       [ 5.8       , 14.48888889]])"
      ]
     },
     "execution_count": 10,
     "metadata": {},
     "output_type": "execute_result"
    }
   ],
   "source": [
    "COV"
   ]
  },
  {
   "cell_type": "code",
   "execution_count": 11,
   "id": "a5c015b0",
   "metadata": {},
   "outputs": [],
   "source": [
    "L, A = np.linalg.eig(COV) # 固有値&固有ベクトル"
   ]
  },
  {
   "cell_type": "code",
   "execution_count": 12,
   "id": "1d196191",
   "metadata": {},
   "outputs": [
    {
     "data": {
      "text/plain": [
       "array([ 5.57187927, 18.26145407])"
      ]
     },
     "execution_count": 12,
     "metadata": {},
     "output_type": "execute_result"
    }
   ],
   "source": [
    "L"
   ]
  },
  {
   "cell_type": "code",
   "execution_count": 13,
   "id": "e6010baf",
   "metadata": {},
   "outputs": [
    {
     "data": {
      "text/plain": [
       "array([[-0.83827417, -0.54524895],\n",
       "       [ 0.54524895, -0.83827417]])"
      ]
     },
     "execution_count": 13,
     "metadata": {},
     "output_type": "execute_result"
    }
   ],
   "source": [
    "A"
   ]
  },
  {
   "cell_type": "code",
   "execution_count": 14,
   "id": "61355594",
   "metadata": {},
   "outputs": [],
   "source": [
    "z1 = (-A[0,1]) * (x1-np.mean(x1)) + (-A[1,1]) * (x2-np.mean(x2))"
   ]
  },
  {
   "cell_type": "code",
   "execution_count": 15,
   "id": "4c0d033f",
   "metadata": {},
   "outputs": [
    {
     "data": {
      "text/plain": [
       "array([ 2.10050705, -1.25258961, -5.11013376,  2.43433374, -5.90760645,\n",
       "       -2.05006231, -3.72661064,  7.3823758 ,  3.23180643,  2.89797975])"
      ]
     },
     "execution_count": 15,
     "metadata": {},
     "output_type": "execute_result"
    }
   ],
   "source": [
    "z1"
   ]
  },
  {
   "cell_type": "code",
   "execution_count": 16,
   "id": "3b593386",
   "metadata": {},
   "outputs": [],
   "source": [
    "x1 = [22, 22, 18, 18, 15, 19, 19, 24, 21, 25] \n",
    "x2 = [12, 8, 6, 15, 7, 9, 7, 17, 14, 11] \n",
    "# 標準化 \n",
    "x1_h = ( x1-np.mean(x1) ) / np.std(x1, ddof=1) \n",
    "x2_h = ( x2-np.mean(x2) ) / np.std(x2, ddof=1) \n",
    "# 共分散行列の固有値分解 \n",
    "COV = np.cov([x1_h, x2_h]) \n",
    "L, A = np.linalg.eig(COV) \n",
    "# 主成分得点 \n",
    "z1 = A[0,0] * (x1_h-np.mean(x1_h)) + A[1,0] * (x2_h-np.mean(x2_h)) \n",
    "z2 = A[0,1] * (x1_h-np.mean(x1_h)) + A[1,1] * (x2_h-np.mean(x2_h))"
   ]
  },
  {
   "cell_type": "code",
   "execution_count": 17,
   "id": "ed728447",
   "metadata": {},
   "outputs": [
    {
     "data": {
      "text/plain": [
       "array([1.4984639, 0.5015361])"
      ]
     },
     "execution_count": 17,
     "metadata": {},
     "output_type": "execute_result"
    }
   ],
   "source": [
    "L"
   ]
  },
  {
   "cell_type": "code",
   "execution_count": 18,
   "id": "0fbb5b49",
   "metadata": {},
   "outputs": [
    {
     "data": {
      "text/plain": [
       "array([[ 0.70710678, -0.70710678],\n",
       "       [ 0.70710678,  0.70710678]])"
      ]
     },
     "execution_count": 18,
     "metadata": {},
     "output_type": "execute_result"
    }
   ],
   "source": [
    "A"
   ]
  },
  {
   "cell_type": "code",
   "execution_count": 19,
   "id": "acc467f0",
   "metadata": {},
   "outputs": [
    {
     "data": {
      "text/plain": [
       "array([ 0.65331268, -0.08975343, -1.38655599,  0.28534275, -1.89474159,\n",
       "       -0.59793903, -0.96947209,  2.04478007,  0.79352835,  1.16149828])"
      ]
     },
     "execution_count": 19,
     "metadata": {},
     "output_type": "execute_result"
    }
   ],
   "source": [
    "z1"
   ]
  },
  {
   "cell_type": "code",
   "execution_count": 20,
   "id": "746347e4",
   "metadata": {},
   "outputs": [
    {
     "data": {
      "text/plain": [
       "array([-0.1331664 , -0.87623251, -0.32249606,  1.34940268,  0.5572226 ,\n",
       "        0.00348615, -0.36804691,  0.33303148,  0.46968403, -1.01288506])"
      ]
     },
     "execution_count": 20,
     "metadata": {},
     "output_type": "execute_result"
    }
   ],
   "source": [
    "z2"
   ]
  },
  {
   "cell_type": "code",
   "execution_count": null,
   "id": "bb4e4ca5",
   "metadata": {},
   "outputs": [],
   "source": []
  }
 ],
 "metadata": {
  "kernelspec": {
   "display_name": "Python 3 (ipykernel)",
   "language": "python",
   "name": "python3"
  },
  "language_info": {
   "codemirror_mode": {
    "name": "ipython",
    "version": 3
   },
   "file_extension": ".py",
   "mimetype": "text/x-python",
   "name": "python",
   "nbconvert_exporter": "python",
   "pygments_lexer": "ipython3",
   "version": "3.9.12"
  }
 },
 "nbformat": 4,
 "nbformat_minor": 5
}
