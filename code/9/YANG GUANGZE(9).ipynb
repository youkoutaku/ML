{
 "cells": [
  {
   "cell_type": "code",
   "execution_count": 2,
   "id": "7548e1f7",
   "metadata": {},
   "outputs": [
    {
     "data": {
      "text/plain": [
       "array([[50. , 15.5,  1. ],\n",
       "       [69. , 18.4,  1. ],\n",
       "       [93. , 26.4,  1. ],\n",
       "       [76. , 22.9,  1. ],\n",
       "       [88. , 18.6,  1. ],\n",
       "       [43. , 16.9,  2. ],\n",
       "       [56. , 21.6,  2. ],\n",
       "       [38. , 12.2,  2. ],\n",
       "       [21. , 16. ,  2. ],\n",
       "       [25. , 10. ,  2. ]])"
      ]
     },
     "execution_count": 2,
     "metadata": {},
     "output_type": "execute_result"
    }
   ],
   "source": [
    "import numpy as np\n",
    "import matplotlib.pyplot as plt\n",
    "\n",
    "G1 = np.array( [[50, 69, 93, 76, 88], [15.5, 18.4, 26.4, 22.9, 18.6], [1, 1, 1, 1, 1]] )\n",
    "G2 = np.array( [[43, 56, 38, 21, 25], [16.9, 21.6, 12.2, 16.0, 10.0], [2, 2, 2, 2, 2]] )\n",
    "Train = np.vstack([G1.T, G2.T])\n",
    "Train\n"
   ]
  },
  {
   "cell_type": "code",
   "execution_count": 3,
   "id": "b6b2ab49",
   "metadata": {},
   "outputs": [
    {
     "data": {
      "text/plain": [
       "LinearDiscriminantAnalysis()"
      ]
     },
     "execution_count": 3,
     "metadata": {},
     "output_type": "execute_result"
    }
   ],
   "source": [
    "from sklearn.discriminant_analysis import LinearDiscriminantAnalysis\n",
    "model = LinearDiscriminantAnalysis()\n",
    "model.fit(Train[:,[0,1]], Train[:,2])"
   ]
  },
  {
   "cell_type": "code",
   "execution_count": 4,
   "id": "65c0469a",
   "metadata": {},
   "outputs": [
    {
     "data": {
      "text/plain": [
       "array([2.])"
      ]
     },
     "execution_count": 4,
     "metadata": {},
     "output_type": "execute_result"
    }
   ],
   "source": [
    "model.predict( [[40, 19],] )"
   ]
  },
  {
   "cell_type": "code",
   "execution_count": 5,
   "id": "594ccdf7",
   "metadata": {},
   "outputs": [
    {
     "data": {
      "text/plain": [
       "array([2., 1., 1., 1., 1., 2., 2., 2., 2., 2.])"
      ]
     },
     "execution_count": 5,
     "metadata": {},
     "output_type": "execute_result"
    }
   ],
   "source": [
    "model.predict(Train[:,[0,1]])"
   ]
  },
  {
   "cell_type": "code",
   "execution_count": 1,
   "id": "1eb0a78d",
   "metadata": {},
   "outputs": [
    {
     "data": {
      "text/plain": [
       "[<matplotlib.lines.Line2D at 0x20de2354190>]"
      ]
     },
     "execution_count": 1,
     "metadata": {},
     "output_type": "execute_result"
    },
    {
     "data": {
      "image/png": "[encoded data removed]",
      "text/plain": [
       "<Figure size 432x288 with 1 Axes>"
      ]
     },
     "metadata": {
      "needs_background": "light"
     },
     "output_type": "display_data"
    }
   ],
   "source": [
    "import numpy as np\n",
    "import matplotlib.pyplot as plt\n",
    "\n",
    "x1 = [6.6, 8.4, 24.2, 10.0, 14.5, 12.2, 4.8, 19.8, 6.1, 26.8, 7.4]\n",
    "x2 = [35.8, 22.1, 19.1, 34.4, 9.9, 31.1, 53.0, 7.5, 53.4, 50.0, 42.1]\n",
    "plt.plot(x1,x2,'.')"
   ]
  },
  {
   "cell_type": "code",
   "execution_count": 2,
   "id": "0565f909",
   "metadata": {},
   "outputs": [
    {
     "data": {
      "text/plain": [
       "array([[ 6.6, 35.8],\n",
       "       [ 8.4, 22.1],\n",
       "       [24.2, 19.1],\n",
       "       [10. , 34.4],\n",
       "       [14.5,  9.9],\n",
       "       [12.2, 31.1],\n",
       "       [ 4.8, 53. ],\n",
       "       [19.8,  7.5],\n",
       "       [ 6.1, 53.4],\n",
       "       [26.8, 50. ],\n",
       "       [ 7.4, 42.1]])"
      ]
     },
     "execution_count": 2,
     "metadata": {},
     "output_type": "execute_result"
    }
   ],
   "source": [
    "data = np.array([x1, x2]).T\n",
    "data\n"
   ]
  },
  {
   "cell_type": "code",
   "execution_count": 3,
   "id": "c4bdd78a",
   "metadata": {},
   "outputs": [],
   "source": [
    "from scipy.cluster.hierarchy import dendrogram, linkage, fcluster\n",
    "Z = linkage(data, method='average', metric='euclidean')\n"
   ]
  },
  {
   "cell_type": "code",
   "execution_count": 5,
   "id": "155cc77b",
   "metadata": {},
   "outputs": [
    {
     "data": {
      "image/png": "[encoded data removed]",
      "text/plain": [
       "<Figure size 432x288 with 1 Axes>"
      ]
     },
     "metadata": {
      "needs_background": "light"
     },
     "output_type": "display_data"
    }
   ],
   "source": [
    "dendrogram(Z);"
   ]
  },
  {
   "cell_type": "code",
   "execution_count": 6,
   "id": "36649e95",
   "metadata": {},
   "outputs": [
    {
     "data": {
      "text/plain": [
       "array([3, 3, 1, 3, 1, 3, 2, 1, 2, 4, 3], dtype=int32)"
      ]
     },
     "execution_count": 6,
     "metadata": {},
     "output_type": "execute_result"
    }
   ],
   "source": [
    "cut_point = 17 \n",
    "Ans = fcluster(Z, cut_point, criterion='distance')\n",
    "Ans"
   ]
  },
  {
   "cell_type": "code",
   "execution_count": 9,
   "id": "6ed164f5",
   "metadata": {},
   "outputs": [
    {
     "data": {
      "text/plain": [
       "[<matplotlib.lines.Line2D at 0x20de3e3fa90>]"
      ]
     },
     "execution_count": 9,
     "metadata": {},
     "output_type": "execute_result"
    },
    {
     "data": {
      "image/png": "[encoded data removed]",
      "text/plain": [
       "<Figure size 360x360 with 1 Axes>"
      ]
     },
     "metadata": {
      "needs_background": "light"
     },
     "output_type": "display_data"
    }
   ],
   "source": [
    "c1 = data[np.where(Ans == 1)[0], :]\n",
    "c2 = data[np.where(Ans == 2)[0], :]\n",
    "c3 = data[np.where(Ans == 3)[0], :]\n",
    "c4 = data[np.where(Ans == 4)[0], :]\n",
    "\n",
    "fig = plt.figure(figsize=(5, 5))\n",
    "plt.plot(c1[:,0], c1[:,1], '.')\n",
    "plt.plot(c2[:,0], c2[:,1], 'r*')\n",
    "plt.plot(c3[:,0], c3[:,1], 'g+')\n",
    "plt.plot(c4[:,0], c4[:,1], 'mx')"
   ]
  },
  {
   "cell_type": "code",
   "execution_count": 19,
   "id": "2b1a785f",
   "metadata": {},
   "outputs": [],
   "source": [
    "from sklearn.cluster import KMeans\n",
    "model = KMeans(n_clusters=4)\n",
    "model.fit(data);"
   ]
  },
  {
   "cell_type": "code",
   "execution_count": 20,
   "id": "593aaaad",
   "metadata": {},
   "outputs": [
    {
     "data": {
      "text/plain": [
       "array([0, 0, 2, 0, 2, 0, 1, 2, 1, 3, 1])"
      ]
     },
     "execution_count": 20,
     "metadata": {},
     "output_type": "execute_result"
    }
   ],
   "source": [
    "ans = model.labels_\n",
    "ans"
   ]
  },
  {
   "cell_type": "code",
   "execution_count": 21,
   "id": "282a1b80",
   "metadata": {},
   "outputs": [
    {
     "data": {
      "text/plain": [
       "[<matplotlib.lines.Line2D at 0x20de5f02a30>]"
      ]
     },
     "execution_count": 21,
     "metadata": {},
     "output_type": "execute_result"
    },
    {
     "data": {
      "image/png": "[encoded data removed]",
      "text/plain": [
       "<Figure size 360x360 with 1 Axes>"
      ]
     },
     "metadata": {
      "needs_background": "light"
     },
     "output_type": "display_data"
    }
   ],
   "source": [
    "c1 = data[np.where(Ans == 0)[0], :]\n",
    "c2 = data[np.where(Ans == 1)[0], :]\n",
    "c3 = data[np.where(Ans == 2)[0], :]\n",
    "c4 = data[np.where(Ans == 3)[0], :]\n",
    "\n",
    "fig = plt.figure(figsize=(5, 5))\n",
    "plt.plot(c1[:,0], c1[:,1], '.')\n",
    "plt.plot(c2[:,0], c2[:,1], 'r*')\n",
    "plt.plot(c3[:,0], c3[:,1], 'g+')\n",
    "plt.plot(c4[:,0], c4[:,1], 'mx')"
   ]
  },
  {
   "cell_type": "code",
   "execution_count": 22,
   "id": "247644e9",
   "metadata": {},
   "outputs": [
    {
     "data": {
      "text/plain": [
       "array([[ 0.95406283,  0.6958578 , -0.01548941, -0.03337686],\n",
       "       [ 0.22391271,  0.51029572,  0.5524556 ,  0.85667266],\n",
       "       [-1.18771087, -0.97420092, -1.46116762, -1.36845113],\n",
       "       [-0.21417737, -0.27834312,  1.58508289,  1.4685817 ],\n",
       "       [ 1.44082958,  1.53088716, -0.3252776 , -0.31151733],\n",
       "       [-1.3337409 , -1.43810612, -1.15137943, -1.03468256],\n",
       "       [-0.79829747, -0.51029572, -0.1703835 ,  0.18913552],\n",
       "       [ 0.56464943,  0.09278104, -0.78995988, -1.20156685],\n",
       "       [-0.7496208 , -0.9278104 ,  0.44919287,  0.18913552],\n",
       "       [ 1.10009286,  1.29893456,  1.32692607,  1.24606933]])"
      ]
     },
     "execution_count": 22,
     "metadata": {},
     "output_type": "execute_result"
    }
   ],
   "source": [
    "x1 = [86, 71, 42, 62, 96, 39, 50, 78, 51, 89]\n",
    "x2 = [79, 75, 43, 58, 97, 33, 53, 66, 44, 92]\n",
    "x3 = [67, 78, 39, 98, 61, 45, 64, 52, 76, 93]\n",
    "x4 = [68, 84, 44, 95, 63, 50, 72, 47, 72, 91]\n",
    "\n",
    "# 標準化\n",
    "x1_h = ( x1-np.mean(x1) ) / np.std(x1, ddof=1)\n",
    "x2_h = ( x2-np.mean(x2) ) / np.std(x2, ddof=1)\n",
    "x3_h = ( x3-np.mean(x3) ) / np.std(x3, ddof=1)\n",
    "x4_h = ( x4-np.mean(x4) ) / np.std(x4, ddof=1)\n",
    "\n",
    "data = np.array([x1_h, x2_h, x3_h, x4_h]).T\n",
    "data"
   ]
  },
  {
   "cell_type": "code",
   "execution_count": 24,
   "id": "6df7e05b",
   "metadata": {},
   "outputs": [
    {
     "data": {
      "text/plain": [
       "array([0, 0, 1, 0, 0, 1, 1, 1, 1, 0])"
      ]
     },
     "execution_count": 24,
     "metadata": {},
     "output_type": "execute_result"
    }
   ],
   "source": [
    "model = KMeans(n_clusters=2)\n",
    "model.fit( data )\n",
    "ans = model.labels_\n",
    "ans"
   ]
  },
  {
   "cell_type": "code",
   "execution_count": 25,
   "id": "98dbc89f",
   "metadata": {},
   "outputs": [
    {
     "data": {
      "text/plain": [
       "[<matplotlib.lines.Line2D at 0x20de5f6d580>]"
      ]
     },
     "execution_count": 25,
     "metadata": {},
     "output_type": "execute_result"
    },
    {
     "data": {
      "image/png": "[encoded data removed]",
      "text/plain": [
       "<Figure size 432x288 with 1 Axes>"
      ]
     },
     "metadata": {
      "needs_background": "light"
     },
     "output_type": "display_data"
    }
   ],
   "source": [
    "from sklearn.decomposition import PCA\n",
    "model = PCA(n_components=2)\n",
    "model.fit( data )\n",
    "z = model.transform( data )\n",
    "plt.plot(z[:,0], z[:,1],'.')"
   ]
  },
  {
   "cell_type": "code",
   "execution_count": 26,
   "id": "79a9e6da",
   "metadata": {},
   "outputs": [
    {
     "data": {
      "text/plain": [
       "array([3, 1, 0, 1, 3, 0, 2, 3, 2, 1])"
      ]
     },
     "execution_count": 26,
     "metadata": {},
     "output_type": "execute_result"
    }
   ],
   "source": [
    "model = KMeans(n_clusters=4)\n",
    "model.fit( data )\n",
    "ans = model.labels_\n",
    "ans"
   ]
  },
  {
   "cell_type": "code",
   "execution_count": null,
   "id": "00c434cb",
   "metadata": {},
   "outputs": [],
   "source": []
  }
 ],
 "metadata": {
  "kernelspec": {
   "display_name": "Python 3 (ipykernel)",
   "language": "python",
   "name": "python3"
  },
  "language_info": {
   "codemirror_mode": {
    "name": "ipython",
    "version": 3
   },
   "file_extension": ".py",
   "mimetype": "text/x-python",
   "name": "python",
   "nbconvert_exporter": "python",
   "pygments_lexer": "ipython3",
   "version": "3.9.12"
  }
 },
 "nbformat": 4,
 "nbformat_minor": 5
}
