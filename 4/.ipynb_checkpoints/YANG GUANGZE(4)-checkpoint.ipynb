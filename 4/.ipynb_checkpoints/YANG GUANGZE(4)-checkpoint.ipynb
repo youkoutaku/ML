{
 "cells": [
  {
   "cell_type": "code",
   "execution_count": 1,
   "id": "074bea5b",
   "metadata": {},
   "outputs": [
    {
     "data": {
      "text/plain": [
       "[42.85, 2.595000000000002, 6, 2.2048291716821495]"
      ]
     },
     "execution_count": 1,
     "metadata": {},
     "output_type": "execute_result"
    }
   ],
   "source": [
    "x = [44.9, 43.7, 41.2, 41.8, 41.3, 44.2] # データの入力\n",
    "import numpy as np # ライブラリのインポート\n",
    "x_bar = np.mean(x) # 標本平均\n",
    "s2 = np.var(x, ddof=1) # 標本不偏分散\n",
    "N = np.size(x) # 標本サイズ\n",
    "mu = 41.4 # 帰無仮説H0\n",
    "t = (x_bar-mu) / np.sqrt(s2/N) # 検定統計量\n",
    "[x_bar, s2, N, t] # 画面表示"
   ]
  },
  {
   "cell_type": "code",
   "execution_count": 2,
   "id": "4dcd8af6",
   "metadata": {},
   "outputs": [
    {
     "data": {
      "text/plain": [
       "[42.85, 2.595000000000002, 6, 2.2048291716821495]"
      ]
     },
     "execution_count": 2,
     "metadata": {},
     "output_type": "execute_result"
    }
   ],
   "source": [
    "x = [44.9, 43.7, 41.2, 41.8, 41.3, 44.2] # データの入力\n",
    "import numpy as np # ライブラリのインポート\n",
    "x_bar = np.mean(x) # 標本平均\n",
    "s2 = np.var(x, ddof=1) # 標本不偏分散\n",
    "N = np.size(x) # 標本サイズ\n",
    "mu = 41.4 # 帰無仮説H0\n",
    "T = (x_bar-mu) / np.sqrt(s2/N) # 検定統計量\n",
    "[x_bar, s2, N, t] # 画面表示"
   ]
  },
  {
   "cell_type": "code",
   "execution_count": 3,
   "id": "fe637dab",
   "metadata": {},
   "outputs": [
    {
     "data": {
      "text/plain": [
       "[2.015048372669157, 0.039307217370460945]"
      ]
     },
     "execution_count": 3,
     "metadata": {},
     "output_type": "execute_result"
    }
   ],
   "source": [
    "from scipy.stats import t # ライブラリのインポート\n",
    "m = N-1 # 自由度\n",
    "Right = t.ppf(1-0.05, df=m) # 棄却域（カウントの向きが逆） \n",
    "p_value = 1- t.cdf(T, df=m) # p値（カウントの向きが逆）\n",
    "[Right, p_value]"
   ]
  },
  {
   "cell_type": "code",
   "execution_count": 4,
   "id": "7a405d36",
   "metadata": {},
   "outputs": [
    {
     "data": {
      "text/plain": [
       "[42.85, 2.595000000000002, 6, 2.2048291716821495]"
      ]
     },
     "execution_count": 4,
     "metadata": {},
     "output_type": "execute_result"
    }
   ],
   "source": [
    "x = [44.9, 43.7, 41.2, 41.8, 41.3, 44.2] # データの入力\n",
    "import numpy as np # ライブラリのインポート\n",
    "x_bar = np.mean(x) # 標本平均\n",
    "s2 = np.var(x, ddof=1) # 標本不偏分散\n",
    "N = np.size(x) # 標本サイズ\n",
    "mu = 41.4 # 帰無仮説H0\n",
    "t = (x_bar-mu) / np.sqrt(s2/N) # 検定統計量\n",
    "[x_bar, s2, N, t] # 画面表"
   ]
  },
  {
   "cell_type": "code",
   "execution_count": 5,
   "id": "8ecdd326",
   "metadata": {},
   "outputs": [
    {
     "data": {
      "text/plain": [
       "[2.015048372669157, 0.039307217370460945]"
      ]
     },
     "execution_count": 5,
     "metadata": {},
     "output_type": "execute_result"
    }
   ],
   "source": [
    "from scipy.stats import t # ライブラリのインポート\n",
    "m = N-1 # 自由度\n",
    "Right = t.ppf(1-0.05, df=m) # 棄却域（カウントの向きが逆） \n",
    "p_value = 1- t.cdf(T, df=m) # p値（カウントの向きが逆）\n",
    "[Right, p_value]"
   ]
  },
  {
   "cell_type": "code",
   "execution_count": 6,
   "id": "a829b3b2",
   "metadata": {},
   "outputs": [
    {
     "data": {
      "text/plain": [
       "[34.95, 0.05166666666666743, 10, 2.906250000000042]"
      ]
     },
     "execution_count": 6,
     "metadata": {},
     "output_type": "execute_result"
    }
   ],
   "source": [
    "x = [35.2, 34.5, 34.9, 35.2, 34.8, 35.1, 34.9, 35.2, 34.9, 34.8] # データの入力\n",
    "import numpy as np # ライブラリのインポート\n",
    "x_bar = np.mean(x) # 標本平均\n",
    "s2 = np.var(x, ddof=1) # 標本不偏分散\n",
    "N = np.size(x) # 標本サイズ\n",
    "sigma2 = 0.4**2 # 帰無仮説H0\n",
    "Chi2 = (N-1)*s2 / sigma2 # 検定統計量\n",
    "[x_bar, s2, N, Chi2] # 画面表示"
   ]
  },
  {
   "cell_type": "code",
   "execution_count": 7,
   "id": "e7510588",
   "metadata": {},
   "outputs": [
    {
     "data": {
      "text/plain": [
       "[3.325112843066815, 0.03210400061330335]"
      ]
     },
     "execution_count": 7,
     "metadata": {},
     "output_type": "execute_result"
    }
   ],
   "source": [
    "from scipy.stats import chi2 # ライブラリのインポート\n",
    "m = N-1 # 自由度\n",
    "Left = chi2.ppf(0.05, df=m) # 棄却域\n",
    "p_value = chi2.cdf(Chi2, df=m) # p値\n",
    "[Left, p_value]"
   ]
  },
  {
   "cell_type": "code",
   "execution_count": 8,
   "id": "2a6271f5",
   "metadata": {},
   "outputs": [
    {
     "data": {
      "text/plain": [
       "-1.7651186836729298"
      ]
     },
     "execution_count": 8,
     "metadata": {},
     "output_type": "execute_result"
    }
   ],
   "source": [
    "# データの入力\n",
    "x1 = [165, 130, 182, 178, 194, 206, 160, 122, 212, 165, 247, 195] \n",
    "x2 = [180, 180, 235, 270, 240, 285, 164, 152] \n",
    "import numpy as np # ライブラリのインポート\n",
    "x1_bar = np.mean(x1) # 標本平均 \n",
    "x2_bar = np.mean(x2) # 標本平均\n",
    "N1 = np.size(x1) # 標本サイズ\n",
    "N2 = np.size(x2) # 標本サイズ\n",
    "s2_1 = np.var(x1, ddof=1) # 標本不偏分散 \n",
    "s2_2 = np.var(x2, ddof=1) # 標本不偏分散 \n",
    "s2 = ((N1-1)*s2_1 + (N2-1)*s2_2) / (N1+N2-2) # 標本不偏分散 \n",
    "T = (x1_bar - x2_bar) / np.sqrt(s2/N1+s2/N2) # 検定統計量 \n",
    "T"
   ]
  },
  {
   "cell_type": "code",
   "execution_count": 9,
   "id": "ab584d5f",
   "metadata": {},
   "outputs": [
    {
     "data": {
      "text/plain": [
       "[-2.10092204024096, 2.10092204024096, 0.047251656144550944]"
      ]
     },
     "execution_count": 9,
     "metadata": {},
     "output_type": "execute_result"
    }
   ],
   "source": [
    "from scipy.stats import t # ライブラリのインポート\n",
    "m = N1+N2-2 # 自由度\n",
    "Light = t.ppf(0.05/2, df=m) # 棄却域\n",
    "Right = t.ppf(1-0.05/2, df=m) # 棄却域 \n",
    "p_value = t.cdf(T, df=m) # p値\n",
    "[Light, Right, p_value]"
   ]
  },
  {
   "cell_type": "code",
   "execution_count": 10,
   "id": "9e13baa2",
   "metadata": {},
   "outputs": [
    {
     "data": {
      "text/plain": [
       "[-1.734063606617536, 0.047251656144550944]"
      ]
     },
     "execution_count": 10,
     "metadata": {},
     "output_type": "execute_result"
    }
   ],
   "source": [
    "from scipy.stats import t # ライブラリのインポート\n",
    "m = N1+N2-2 # 自由度\n",
    "Left = t.ppf(0.05, df=m) # 棄却域 \n",
    "p_value = t.cdf(T, df=m) # p値\n",
    "[Left, p_value]"
   ]
  },
  {
   "cell_type": "code",
   "execution_count": 11,
   "id": "7648114f",
   "metadata": {},
   "outputs": [],
   "source": [
    "# データの入力 \n",
    "x1 = [37.1, 36.2, 36.6, 37.4, 36.8, 36.7, 36.9, 37.4, 36.6, 36.7] \n",
    "x2 = [36.8, 36.6, 36.5, 37.0, 36.0, 36.5, 36.6, 37.1, 36.4, 36.7]"
   ]
  },
  {
   "cell_type": "code",
   "execution_count": 12,
   "id": "67589141",
   "metadata": {},
   "outputs": [
    {
     "name": "stdout",
     "output_type": "stream",
     "text": [
      "[ 0.3 -0.4  0.1  0.4  0.8  0.2  0.3  0.3  0.2  0. ]\n"
     ]
    }
   ],
   "source": [
    "# 要素同士の計算 (numpyを利用) \n",
    "x = np.array(x1) - np.array(x2) \n",
    "print(x) # 画面表"
   ]
  },
  {
   "cell_type": "code",
   "execution_count": 13,
   "id": "f47fecd0",
   "metadata": {},
   "outputs": [
    {
     "data": {
      "text/plain": [
       "[0.22000000000000028, 0.09288888888888819, 10, 2.2826577307580576]"
      ]
     },
     "execution_count": 13,
     "metadata": {},
     "output_type": "execute_result"
    }
   ],
   "source": [
    "import numpy as np # ライブラリのインポート\n",
    "x_bar = np.mean(x) # 標本平均\n",
    "s2 = np.var(x, ddof=1) # 標本不偏分散\n",
    "N = np.size(x) # 標本サイズ\n",
    "mu = 0 # 帰無仮説H0\n",
    "T = (x_bar-mu) / np.sqrt(s2/N) # 検定統計量 \n",
    "[x_bar, s2, N, T]"
   ]
  },
  {
   "cell_type": "code",
   "execution_count": 14,
   "id": "2be48323",
   "metadata": {},
   "outputs": [
    {
     "data": {
      "text/plain": [
       "[1.8331129326536335, 0.024175932147326273]"
      ]
     },
     "execution_count": 14,
     "metadata": {},
     "output_type": "execute_result"
    }
   ],
   "source": [
    "from scipy.stats import t # ライブラリのインポート\n",
    "m = N-1 # 自由度\n",
    "Right = t.ppf(1-0.05, df=m) # 棄却域（カウントの向きが逆） \n",
    "p_value = 1- t.cdf(T, df=m) # p値（カウントの向きが逆）\n",
    "[Right, p_value]"
   ]
  },
  {
   "cell_type": "code",
   "execution_count": 15,
   "id": "5eb49ac5",
   "metadata": {},
   "outputs": [
    {
     "data": {
      "text/plain": [
       "1.426714413851527"
      ]
     },
     "execution_count": 15,
     "metadata": {},
     "output_type": "execute_result"
    }
   ],
   "source": [
    "x1_bar = np.mean(x1) # 標本平均 \n",
    "x2_bar = np.mean(x2) # 標本平均\n",
    "N1 = np.size(x1) # 標本サイズ\n",
    "N2 = np.size(x2) # 標本サイズ\n",
    "s2_1 = np.var(x1, ddof=1) # 標本不偏分散 \n",
    "s2_2 = np.var(x2, ddof=1) # 標本不偏分散 \n",
    "s2 = ((N1-1)*s2_1 + (N2-1)*s2_2) / (N1+N2-2) # 標本不偏分散 \n",
    "T = (x1_bar - x2_bar) / np.sqrt(s2/N1+s2/N2) # 検定統計量 \n",
    "T"
   ]
  },
  {
   "cell_type": "code",
   "execution_count": 16,
   "id": "8921066f",
   "metadata": {},
   "outputs": [
    {
     "data": {
      "text/plain": [
       "[1.7340636066175354, 0.08538918169524912]"
      ]
     },
     "execution_count": 16,
     "metadata": {},
     "output_type": "execute_result"
    }
   ],
   "source": [
    "from scipy.stats import t # ライブラリのインポート\n",
    "m = N1+N2-2 # 自由度\n",
    "Right = t.ppf(1-0.05, df=m) # 棄却域 (右側検定なので) \n",
    "p_value = 1- t.cdf(T, df=m) # p値 (右側検定なので)\n",
    "[Right, p_value]"
   ]
  },
  {
   "cell_type": "code",
   "execution_count": 17,
   "id": "66124692",
   "metadata": {},
   "outputs": [
    {
     "data": {
      "text/plain": [
       "1.426714413851527"
      ]
     },
     "execution_count": 17,
     "metadata": {},
     "output_type": "execute_result"
    }
   ],
   "source": [
    "x1_bar = np.mean(x1) # 標本平均 \n",
    "x2_bar = np.mean(x2) # 標本平均\n",
    "N1 = np.size(x1) # 標本サイズ\n",
    "N2 = np.size(x2) # 標本サイズ\n",
    "s2_1 = np.var(x1, ddof=1) # 標本不偏分散 \n",
    "s2_2 = np.var(x2, ddof=1) # 標本不偏分散 \n",
    "s2 = ((N1-1)*s2_1 + (N2-1)*s2_2) / (N1+N2-2) # 標本不偏分散 \n",
    "T = (x1_bar - x2_bar) / np.sqrt(s2/N1+s2/N2) # 検定統計量 \n",
    "T"
   ]
  },
  {
   "cell_type": "code",
   "execution_count": 18,
   "id": "e490cecd",
   "metadata": {},
   "outputs": [
    {
     "data": {
      "text/plain": [
       "[1.7340636066175354, 0.08538918169524912]"
      ]
     },
     "execution_count": 18,
     "metadata": {},
     "output_type": "execute_result"
    }
   ],
   "source": [
    "from scipy.stats import t # ライブラリのインポート\n",
    "m = N1+N2-2 # 自由度\n",
    "Right = t.ppf(1-0.05, df=m) # 棄却域 (右側検定なので) \n",
    "p_value = 1- t.cdf(T, df=m) # p値 (右側検定なので)\n",
    "[Right, p_value] "
   ]
  },
  {
   "cell_type": "code",
   "execution_count": 8,
   "id": "34a753d8",
   "metadata": {},
   "outputs": [
    {
     "data": {
      "text/plain": [
       "[356.5, 31.5, 6, 2.836832573067901]"
      ]
     },
     "execution_count": 8,
     "metadata": {},
     "output_type": "execute_result"
    }
   ],
   "source": [
    "x=[361, 355, 349, 358, 352, 364]\n",
    "import numpy as np\n",
    "x_bar=np.mean(x)\n",
    "s2=np.var(x,ddof=1)\n",
    "N=np.size(x)\n",
    "mu=350\n",
    "T=(x_bar-mu)/np.sqrt(s2/N)\n",
    "[x_bar,s2,N,T]"
   ]
  },
  {
   "cell_type": "code",
   "execution_count": 11,
   "id": "0778b076",
   "metadata": {},
   "outputs": [
    {
     "data": {
      "text/plain": [
       "[-2.57058183661474, 2.5705818366147395, 0.018190750152835777]"
      ]
     },
     "execution_count": 11,
     "metadata": {},
     "output_type": "execute_result"
    }
   ],
   "source": [
    "from scipy.stats import t\n",
    "m=N-1\n",
    "Light = t.ppf(0.05/2,df=m)\n",
    "Right = t.ppf(1-0.05/2,df=m)\n",
    "p_value =1- t.cdf(T,df=m)\n",
    "[Light,Right,p_value]"
   ]
  },
  {
   "cell_type": "code",
   "execution_count": null,
   "id": "d4cc0c8c",
   "metadata": {},
   "outputs": [],
   "source": []
  }
 ],
 "metadata": {
  "kernelspec": {
   "display_name": "Python 3 (ipykernel)",
   "language": "python",
   "name": "python3"
  },
  "language_info": {
   "codemirror_mode": {
    "name": "ipython",
    "version": 3
   },
   "file_extension": ".py",
   "mimetype": "text/x-python",
   "name": "python",
   "nbconvert_exporter": "python",
   "pygments_lexer": "ipython3",
   "version": "3.9.12"
  }
 },
 "nbformat": 4,
 "nbformat_minor": 5
}
