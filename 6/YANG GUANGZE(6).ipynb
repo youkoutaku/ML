{
 "cells": [
  {
   "cell_type": "code",
   "execution_count": 1,
   "id": "42e3f5cb",
   "metadata": {},
   "outputs": [],
   "source": [
    "def jukaiki_bunseki(x1, x2, y):\n",
    " \n",
    " N = np.size(x1) # 標本数\n",
    " Y = np.c_[y]\n",
    " X = np.c_[x1, x2, np.ones(N)]\n",
    " \n",
    " tmp = np.dot(X.T, X) # XTX\n",
    " r1 = np.linalg.inv(tmp) # (XTX)^-1 逆行列\n",
    " r2 = np.dot(X.T, Y) # XTY\n",
    " A = np.dot(r1, r2) # 係数ベクトル\n",
    " \n",
    " a1 = A[0] # 傾き\n",
    " a2 = A[1] # 傾き\n",
    " b = A[2] # 切片b\n",
    " \n",
    " # [追加機能] 回帰直線の妥当性を評価する\n",
    " Y_hat = a1*x1+a2*x2+b # 予測値\n",
    " C = np.corrcoef(Y_hat, y)[0,1] # 相関係数\n",
    " # 決定係数\n",
    " R2 = np.sum( (Y_hat-np.mean(y))**2 ) / np.sum( (y-np.mean(y))**2 )\n",
    " \n",
    " return a1, a2, b, C, R2"
   ]
  },
  {
   "cell_type": "code",
   "execution_count": 2,
   "id": "14b569f2",
   "metadata": {},
   "outputs": [],
   "source": [
    "def jukaiki_bunseki(x1, x2, x3, y):\n",
    " \n",
    " N = np.size(x1) # 標本数\n",
    " Y = np.c_[y]\n",
    " X = np.c_[x1, x2, x3, np.ones(N)]\n",
    " \n",
    " tmp = np.dot(X.T, X) # XTX\n",
    " r1 = np.linalg.inv(tmp) # (XTX)^-1 逆行列\n",
    " r2 = np.dot(X.T, Y) # XTY\n",
    " A = np.dot(r1, r2) # 係数ベクトル\n",
    " \n",
    " a1 = A[0] # 傾き\n",
    " a2 = A[1] # 傾き\n",
    " a3 = A[2] # 傾き\n",
    " b = A[3] # 切片b\n",
    " \n",
    " # [追加機能] 回帰直線の妥当性を評価する\n",
    " Y_hat = a1*x1+a2*x2+a3*x3+b # 予測値\n",
    " C = np.corrcoef(Y_hat, y)[0,1] # 相関係数\n",
    " # 決定係数\n",
    " R2 = np.sum( (Y_hat-np.mean(y))**2 ) / np.sum( (y-np.mean(y))**2 )\n",
    " \n",
    " return a1, a2, a3, b, C, R2"
   ]
  },
  {
   "cell_type": "code",
   "execution_count": 15,
   "id": "843efde4",
   "metadata": {},
   "outputs": [],
   "source": [
    "def jukaiki_bunseki(X, y):\n",
    " \n",
    "    N = np.size(y) # 標本数\n",
    "    Y = np.c_[y]\n",
    "    X = np.c_[X, np.ones(N)]\n",
    " \n",
    "    tmp = np.dot(X.T, X)\n",
    "    r1 = np.linalg.inv(tmp)\n",
    "    r2 = np.dot(X.T, Y)\n",
    "    A = np.dot(r1, r2) # 係数ベクトル\n",
    " \n",
    "    Y_hat = np.dot(X, A) # 内積 (予測値): a1*x1+a2*x2+...+b*1\n",
    "    Y_hat = Y_hat[:, 0] # 0列のみを指定 (行列→ベクトル)\n",
    " \n",
    "    C = np.corrcoef(Y_hat, y)[0,1]\n",
    "    R2 = np.sum( (Y_hat-np.mean(y))**2 ) / np.sum( (y-np.mean(y))**2 )\n",
    " \n",
    "    return A, C, R2"
   ]
  },
  {
   "cell_type": "code",
   "execution_count": 16,
   "id": "cdc92f2a",
   "metadata": {},
   "outputs": [],
   "source": [
    "import numpy as np \n",
    "x1 = [8,7,5,4,6,2,3,9]\n",
    "x2 = [8,7,9,3,8,3,6,7]\n",
    "y = [18,12,14,6,12,8,10,16]\n",
    "X = np.c_[x1, x2]"
   ]
  },
  {
   "cell_type": "code",
   "execution_count": 17,
   "id": "630f9803",
   "metadata": {},
   "outputs": [
    {
     "name": "stdout",
     "output_type": "stream",
     "text": [
      "[[0.81081081]\n",
      " [0.8957529 ]\n",
      " [1.83011583]]\n",
      "0.9062508915490984\n",
      "0.8212906784335335\n"
     ]
    }
   ],
   "source": [
    "A, C, R2 = jukaiki_bunseki(X, y)\n",
    "print(A)\n",
    "print(C)\n",
    "print(R2)"
   ]
  },
  {
   "cell_type": "code",
   "execution_count": 18,
   "id": "b69a3144",
   "metadata": {},
   "outputs": [
    {
     "data": {
      "text/plain": [
       "array([[8, 8],\n",
       "       [7, 7],\n",
       "       [5, 9],\n",
       "       [4, 3],\n",
       "       [6, 8],\n",
       "       [2, 3],\n",
       "       [3, 6],\n",
       "       [9, 7]])"
      ]
     },
     "execution_count": 18,
     "metadata": {},
     "output_type": "execute_result"
    }
   ],
   "source": [
    "X"
   ]
  },
  {
   "cell_type": "code",
   "execution_count": 19,
   "id": "6f31fb72",
   "metadata": {},
   "outputs": [
    {
     "data": {
      "text/plain": [
       "array([[0.81081081],\n",
       "       [0.8957529 ],\n",
       "       [1.83011583]])"
      ]
     },
     "execution_count": 19,
     "metadata": {},
     "output_type": "execute_result"
    }
   ],
   "source": [
    "A"
   ]
  },
  {
   "cell_type": "code",
   "execution_count": 20,
   "id": "5995ce59",
   "metadata": {},
   "outputs": [
    {
     "ename": "NameError",
     "evalue": "name 'Y_hat' is not defined",
     "output_type": "error",
     "traceback": [
      "\u001b[1;31m---------------------------------------------------------------------------\u001b[0m",
      "\u001b[1;31mNameError\u001b[0m                                 Traceback (most recent call last)",
      "Input \u001b[1;32mIn [20]\u001b[0m, in \u001b[0;36m<cell line: 1>\u001b[1;34m()\u001b[0m\n\u001b[1;32m----> 1\u001b[0m \u001b[43mY_hat\u001b[49m\n",
      "\u001b[1;31mNameError\u001b[0m: name 'Y_hat' is not defined"
     ]
    }
   ],
   "source": [
    "Y_hat"
   ]
  },
  {
   "cell_type": "code",
   "execution_count": 21,
   "id": "263d6e6b",
   "metadata": {},
   "outputs": [],
   "source": [
    "x1 = [8,7,5,4,6,2,3,9]\n",
    "x2 = [8,7,9,3,8,3,6,7]\n",
    "x3 = [4,7,8,3,8,5,6,9]\n",
    "y = [18,12,14,6,12,8,10,16]\n",
    "X = np.c_[x1, x2, x3]"
   ]
  },
  {
   "cell_type": "code",
   "execution_count": 22,
   "id": "8163bcef",
   "metadata": {},
   "outputs": [
    {
     "name": "stdout",
     "output_type": "stream",
     "text": [
      "[[ 0.81611811]\n",
      " [ 1.05497199]\n",
      " [-0.2749183 ]\n",
      " [ 2.50414332]]\n",
      "0.9132618247418858\n",
      "0.8340471605308782\n"
     ]
    }
   ],
   "source": [
    "A, C, R2 = jukaiki_bunseki(X, y)\n",
    "print(A)\n",
    "print(C)\n",
    "print(R2)"
   ]
  },
  {
   "cell_type": "code",
   "execution_count": 23,
   "id": "45b663b6",
   "metadata": {},
   "outputs": [],
   "source": [
    "x1_h = (x1-np.mean(x1)) / np.std(x1, ddof=1)\n",
    "x2_h = (x2-np.mean(x2)) / np.std(x2, ddof=1)\n",
    "x3_h = (x3-np.mean(x3)) / np.std(x3, ddof=1)\n",
    "y_h = (y-np.mean(y)) / np.std(y, ddof=1)\n",
    "X_h = np.c_[x1_h, x2_h, x3_h]"
   ]
  },
  {
   "cell_type": "code",
   "execution_count": 24,
   "id": "524fced1",
   "metadata": {},
   "outputs": [
    {
     "name": "stdout",
     "output_type": "stream",
     "text": [
      "[[ 4.99768237e-01]\n",
      " [ 5.97073604e-01]\n",
      " [-1.45797446e-01]\n",
      " [ 9.72832471e-18]]\n",
      "0.9132618247418858\n",
      "0.834047160530879\n"
     ]
    }
   ],
   "source": [
    "A, C, R2 = jukaiki_bunseki(X_h, y_h)\n",
    "print(A)\n",
    "print(C)\n",
    "print(R2)"
   ]
  },
  {
   "cell_type": "code",
   "execution_count": 25,
   "id": "bad2ef7c",
   "metadata": {},
   "outputs": [
    {
     "name": "stdout",
     "output_type": "stream",
     "text": [
      "[[-0.27524303]\n",
      " [ 1.33115731]\n",
      " [ 0.50904704]\n",
      " [-2.5036543 ]]\n",
      "0.8272730306826338\n",
      "0.6843806672948289\n"
     ]
    }
   ],
   "source": [
    "x1=[3,5,2,4,4,5,1,1,4,4,5,2,5,1,2] \n",
    "x2=[3,4,2,4,4,4,3,2,4,3,4,2,5,2,2] \n",
    "x3=[4,2,2,3,2,2,3,3,5,4,2,2,1,4,2] \n",
    "y=[3,2,1,2,3,1,3,1,5,3,3,1,4,1,1] \n",
    "N = np.size(y) \n",
    "X = np.c_[x1, x2, x3] \n",
    "A, C, R2 = jukaiki_bunseki(X, y) \n",
    "print(A) \n",
    "print(C) \n",
    "print(R2)"
   ]
  },
  {
   "cell_type": "code",
   "execution_count": 26,
   "id": "c00089f3",
   "metadata": {},
   "outputs": [],
   "source": [
    "x1_h = (x1-np.mean(x1)) / np.std(x1, ddof=1)\n",
    "x2_h = (x2-np.mean(x2)) / np.std(x2, ddof=1)\n",
    "x3_h = (x3-np.mean(x3)) / np.std(x3, ddof=1)\n",
    "y_h = (y-np.mean(y)) / np.std(y, ddof=1)\n",
    "X_h = np.c_[x1_h, x2_h, x3_h]"
   ]
  },
  {
   "cell_type": "code",
   "execution_count": 27,
   "id": "34c772cd",
   "metadata": {},
   "outputs": [
    {
     "name": "stdout",
     "output_type": "stream",
     "text": [
      "[[-3.37102487e-01]\n",
      " [ 1.05481680e+00]\n",
      " [ 4.37416899e-01]\n",
      " [ 2.10543807e-16]]\n",
      "0.8272730306826341\n",
      "0.6843806672948298\n"
     ]
    }
   ],
   "source": [
    "A, C, R2 = jukaiki_bunseki(X_h, y_h)\n",
    "print(A)\n",
    "print(C)\n",
    "print(R2)"
   ]
  },
  {
   "cell_type": "code",
   "execution_count": 29,
   "id": "490acef6",
   "metadata": {},
   "outputs": [
    {
     "name": "stdout",
     "output_type": "stream",
     "text": [
      "[[5.87835518e-01]\n",
      " [4.58861357e-01]\n",
      " [1.26653055e-16]]\n",
      "0.6461592625119486\n",
      "0.4175217925299851\n"
     ]
    }
   ],
   "source": [
    "A, C, R2 = jukaiki_bunseki( np.c_[x1_h, x3_h], y_h) \n",
    "print(A) \n",
    "print(C) \n",
    "print(R2)"
   ]
  },
  {
   "cell_type": "code",
   "execution_count": 31,
   "id": "4ea6d0ad",
   "metadata": {
    "scrolled": true
   },
   "outputs": [
    {
     "name": "stdout",
     "output_type": "stream",
     "text": [
      "[[ 8.71648250e-01]\n",
      " [-8.08632883e-17]]\n",
      "0.8716482500611272\n",
      "0.759770671834625\n"
     ]
    }
   ],
   "source": [
    "A, C, R2 = jukaiki_bunseki(x1_h, x2_h) \n",
    "print(A) \n",
    "print(C) \n",
    "print(R2)"
   ]
  },
  {
   "cell_type": "code",
   "execution_count": 32,
   "id": "b0fcd2a4",
   "metadata": {},
   "outputs": [
    {
     "name": "stdout",
     "output_type": "stream",
     "text": [
      "[[-2.56886475e-01]\n",
      " [-6.55275621e-17]]\n",
      "0.2568864750256221\n",
      "0.0659906610510896\n"
     ]
    }
   ],
   "source": [
    "A, C, R2 = jukaiki_bunseki(x1_h, x3_h) \n",
    "print(A) \n",
    "print(C) \n",
    "print(R2)"
   ]
  },
  {
   "cell_type": "code",
   "execution_count": 33,
   "id": "42273bd9",
   "metadata": {},
   "outputs": [
    {
     "data": {
      "text/plain": [
       "0.46996024134793524"
      ]
     },
     "execution_count": 33,
     "metadata": {},
     "output_type": "execute_result"
    }
   ],
   "source": [
    "np.corrcoef(x1_h, y_h)[0,1]"
   ]
  },
  {
   "cell_type": "code",
   "execution_count": null,
   "id": "a7a8e75a",
   "metadata": {},
   "outputs": [],
   "source": []
  }
 ],
 "metadata": {
  "kernelspec": {
   "display_name": "Python 3 (ipykernel)",
   "language": "python",
   "name": "python3"
  },
  "language_info": {
   "codemirror_mode": {
    "name": "ipython",
    "version": 3
   },
   "file_extension": ".py",
   "mimetype": "text/x-python",
   "name": "python",
   "nbconvert_exporter": "python",
   "pygments_lexer": "ipython3",
   "version": "3.9.12"
  }
 },
 "nbformat": 4,
 "nbformat_minor": 5
}
