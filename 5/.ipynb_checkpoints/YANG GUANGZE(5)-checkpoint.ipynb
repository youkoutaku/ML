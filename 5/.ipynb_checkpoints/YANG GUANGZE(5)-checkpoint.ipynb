{
 "cells": [
  {
   "cell_type": "code",
   "execution_count": 1,
   "id": "b6d1b762",
   "metadata": {},
   "outputs": [],
   "source": [
    "x=[107, 336,233, 82, 61, 378, 129, 313, 142, 428] \n",
    "y=[286, 851, 589, 389, 158, 1037, 463, 563, 372, 1020]"
   ]
  },
  {
   "cell_type": "code",
   "execution_count": 5,
   "id": "7b5a9635",
   "metadata": {},
   "outputs": [
    {
     "data": {
      "image/png": "[encoded data removed]",
      "text/plain": [
       "<Figure size 432x288 with 1 Axes>"
      ]
     },
     "metadata": {
      "needs_background": "light"
     },
     "output_type": "display_data"
    }
   ],
   "source": [
    "import matplotlib.pyplot as plt \n",
    "%matplotlib inline \n",
    "plt.plot(x,y,'.');"
   ]
  },
  {
   "cell_type": "code",
   "execution_count": 6,
   "id": "48f9fa13",
   "metadata": {},
   "outputs": [
    {
     "data": {
      "text/plain": [
       "0.945195008657662"
      ]
     },
     "execution_count": 6,
     "metadata": {},
     "output_type": "execute_result"
    }
   ],
   "source": [
    "import numpy as np \n",
    "np.corrcoef(x,y)[0,1]"
   ]
  },
  {
   "cell_type": "code",
   "execution_count": 14,
   "id": "fffe6054",
   "metadata": {},
   "outputs": [
    {
     "name": "stdout",
     "output_type": "stream",
     "text": [
      "(array([2.1445235]), array([99.07475877]), 0.9451950086576625, 0.8933936043913574)\n"
     ]
    }
   ],
   "source": [
    "def kaiki_bunseki(x, y):\n",
    "    import numpy as np\n",
    " \n",
    "    N = np.size(x) # 標本数\n",
    "    Y = np.c_[y]\n",
    "    X = np.c_[x, np.ones(N)]\n",
    " \n",
    "    tmp = np.dot(X.T, X) # XT*X 行列の積\n",
    "    r1 = np.linalg.inv(tmp) # (XTX)^-1 逆行列\n",
    "    r2 = np.dot(X.T, Y) # XT*Y\n",
    "    A = np.dot(r1, r2) # 係数ベクトル\n",
    " \n",
    "    a = A[0] # 傾きa\n",
    "    b = A[1] # 切片b\n",
    "    \n",
    "    # [追加機能]回帰直線の妥当性を評価する\n",
    "    Y_hat = a*x+b # 予測値\n",
    "    C = np.corrcoef(Y_hat, y)[0,1] # 相関係数\n",
    "    # 決定係数\n",
    "    R2 = np.sum( (Y_hat-np.mean(y))**2 ) / np.sum( (y-np.mean(y))**2 )\n",
    "    \n",
    "    return a, b, C, R2\n",
    "\n",
    "print(kaiki_bunseki(x,y))"
   ]
  },
  {
   "cell_type": "code",
   "execution_count": 13,
   "id": "b51e7588",
   "metadata": {},
   "outputs": [
    {
     "data": {
      "text/plain": [
       "[array([[107., 336., 233.,  82.,  61., 378., 129., 313., 142., 428.],\n",
       "        [  1.,   1.,   1.,   1.,   1.,   1.,   1.,   1.,   1.,   1.]])]"
      ]
     },
     "execution_count": 13,
     "metadata": {},
     "output_type": "execute_result"
    }
   ],
   "source": [
    "N = np.size(x)\n",
    "X = np.c_[x, np.ones(N)]\n",
    "[X.T]"
   ]
  },
  {
   "cell_type": "code",
   "execution_count": 15,
   "id": "c3cd2e89",
   "metadata": {},
   "outputs": [],
   "source": [
    "x1=[17.5, 17.0, 18.5, 16.0, 19.0, 19.5, 16.0, 18.0, 19.0, 19.5] \n",
    "x2=[30, 25, 20, 30, 45, 35, 25, 35, 35, 40] \n",
    "y=[45, 38, 41, 34, 59, 47, 35, 43, 54, 52]"
   ]
  },
  {
   "cell_type": "code",
   "execution_count": 17,
   "id": "af7b57c0",
   "metadata": {},
   "outputs": [
    {
     "data": {
      "text/plain": [
       "[<matplotlib.lines.Line2D at 0x20caf367a90>]"
      ]
     },
     "execution_count": 17,
     "metadata": {},
     "output_type": "execute_result"
    },
    {
     "data": {
      "image/png": "[encoded data removed]",
      "text/plain": [
       "<Figure size 432x288 with 1 Axes>"
      ]
     },
     "metadata": {
      "needs_background": "light"
     },
     "output_type": "display_data"
    }
   ],
   "source": [
    "plt.plot(x1,y,'.')"
   ]
  },
  {
   "cell_type": "code",
   "execution_count": 18,
   "id": "65e7818c",
   "metadata": {},
   "outputs": [
    {
     "data": {
      "text/plain": [
       "[<matplotlib.lines.Line2D at 0x20cafdeacd0>]"
      ]
     },
     "execution_count": 18,
     "metadata": {},
     "output_type": "execute_result"
    },
    {
     "data": {
      "image/png": "[encoded data removed]",
      "text/plain": [
       "<Figure size 432x288 with 1 Axes>"
      ]
     },
     "metadata": {
      "needs_background": "light"
     },
     "output_type": "display_data"
    }
   ],
   "source": [
    "plt.plot(x2,y,'.')"
   ]
  },
  {
   "cell_type": "code",
   "execution_count": 19,
   "id": "a554e87c",
   "metadata": {},
   "outputs": [
    {
     "data": {
      "text/plain": [
       "0.8386307442358251"
      ]
     },
     "execution_count": 19,
     "metadata": {},
     "output_type": "execute_result"
    }
   ],
   "source": [
    "np.corrcoef(x1,y)[0,1]"
   ]
  },
  {
   "cell_type": "code",
   "execution_count": 20,
   "id": "2c2b23c7",
   "metadata": {},
   "outputs": [
    {
     "data": {
      "text/plain": [
       "0.8076348676343332"
      ]
     },
     "execution_count": 20,
     "metadata": {},
     "output_type": "execute_result"
    }
   ],
   "source": [
    "np.corrcoef(x2,y)[0,1]"
   ]
  },
  {
   "cell_type": "code",
   "execution_count": 22,
   "id": "5d41230a",
   "metadata": {},
   "outputs": [
    {
     "data": {
      "text/plain": [
       "(array([3.46981263]),\n",
       " array([0.53300948]),\n",
       " array([-34.71293084]),\n",
       " 0.9263690167696675,\n",
       " 0.8581595552308197)"
      ]
     },
     "execution_count": 22,
     "metadata": {},
     "output_type": "execute_result"
    }
   ],
   "source": [
    "def jukaiki_bunseki(x1, x2, y):\n",
    " \n",
    " N = np.size(x1) # 標本数\n",
    " Y = np.c_[y]\n",
    " X = np.c_[x1, x2, np.ones(N)]\n",
    " \n",
    " tmp = np.dot(X.T, X) # XTX\n",
    " r1 = np.linalg.inv(tmp) # (XTX)^-1 逆行列\n",
    " r2 = np.dot(X.T, Y) # XTY\n",
    " A = np.dot(r1, r2) # 係数ベクトル\n",
    " \n",
    " a1 = A[0] # 傾き\n",
    " a2 = A[1] # 傾き\n",
    " b = A[2] # 切片b\n",
    " \n",
    " # [追加機能]回帰直線の妥当性を評価する\n",
    " Y_hat = a1*x1+a2*x2+b # 予測値\n",
    " C = np.corrcoef(Y_hat, y)[0,1] # 相関係数\n",
    " # 決定係数\n",
    " R2 = np.sum( (Y_hat-np.mean(y))**2 ) / np.sum( (y-np.mean(y))**2 )\n",
    " \n",
    " return a1, a2, b, C, R2\n",
    "jukaiki_bunseki(x1,x2,y)"
   ]
  },
  {
   "cell_type": "code",
   "execution_count": 23,
   "id": "8ff22f12",
   "metadata": {},
   "outputs": [
    {
     "data": {
      "text/plain": [
       "(array([5.21875]), array([-49.1375]), 0.8386307442358252, 0.7033015251775492)"
      ]
     },
     "execution_count": 23,
     "metadata": {},
     "output_type": "execute_result"
    }
   ],
   "source": [
    "kaiki_bunseki(x1, y)"
   ]
  },
  {
   "cell_type": "code",
   "execution_count": 24,
   "id": "49568756",
   "metadata": {},
   "outputs": [
    {
     "data": {
      "text/plain": [
       "(array([0.89019608]),\n",
       " array([16.31372549]),\n",
       " 0.8076348676343331,\n",
       " 0.6522740794187273)"
      ]
     },
     "execution_count": 24,
     "metadata": {},
     "output_type": "execute_result"
    }
   ],
   "source": [
    "kaiki_bunseki(x2, y)"
   ]
  },
  {
   "cell_type": "code",
   "execution_count": 25,
   "id": "5e5138bb",
   "metadata": {},
   "outputs": [],
   "source": [
    "x1_h = (x1-np.mean(x1)) / np.std(x1, ddof=1) \n",
    "x2_h = (x2-np.mean(x2)) / np.std(x2, ddof=1) \n",
    "y_h = (y-np.mean(y)) / np.std(y, ddof=1)"
   ]
  },
  {
   "cell_type": "code",
   "execution_count": 26,
   "id": "084910aa",
   "metadata": {},
   "outputs": [
    {
     "data": {
      "text/plain": [
       "(array([0.55758401]),\n",
       " array([0.48357553]),\n",
       " array([3.32702211e-16]),\n",
       " 0.9263690167696675,\n",
       " 0.8581595552308003)"
      ]
     },
     "execution_count": 26,
     "metadata": {},
     "output_type": "execute_result"
    }
   ],
   "source": [
    "jukaiki_bunseki(x1_h, x2_h, y_h) "
   ]
  },
  {
   "cell_type": "code",
   "execution_count": 27,
   "id": "065da6f9",
   "metadata": {},
   "outputs": [
    {
     "data": {
      "text/plain": [
       "(array([0.83863074]),\n",
       " array([3.21964677e-16]),\n",
       " 0.8386307442358251,\n",
       " 0.7033015251775339)"
      ]
     },
     "execution_count": 27,
     "metadata": {},
     "output_type": "execute_result"
    }
   ],
   "source": [
    "kaiki_bunseki(x1_h, y_h)"
   ]
  },
  {
   "cell_type": "code",
   "execution_count": 28,
   "id": "f373bf1a",
   "metadata": {},
   "outputs": [
    {
     "data": {
      "text/plain": [
       "(array([0.80763487]),\n",
       " array([3.39897774e-16]),\n",
       " 0.8076348676343331,\n",
       " 0.6522740794187265)"
      ]
     },
     "execution_count": 28,
     "metadata": {},
     "output_type": "execute_result"
    }
   ],
   "source": [
    "kaiki_bunseki(x2_h, y_h)"
   ]
  },
  {
   "cell_type": "code",
   "execution_count": 29,
   "id": "718437b7",
   "metadata": {},
   "outputs": [
    {
     "data": {
      "text/plain": [
       "0.838630744235825"
      ]
     },
     "execution_count": 29,
     "metadata": {},
     "output_type": "execute_result"
    }
   ],
   "source": [
    "np.corrcoef(x1_h, y_h)[0,1] "
   ]
  },
  {
   "cell_type": "code",
   "execution_count": 30,
   "id": "8e50586e",
   "metadata": {},
   "outputs": [
    {
     "data": {
      "text/plain": [
       "0.8076348676343332"
      ]
     },
     "execution_count": 30,
     "metadata": {},
     "output_type": "execute_result"
    }
   ],
   "source": [
    "np.corrcoef(x2_h, y_h)[0,1]"
   ]
  },
  {
   "cell_type": "code",
   "execution_count": null,
   "id": "d0fece1b",
   "metadata": {},
   "outputs": [],
   "source": []
  }
 ],
 "metadata": {
  "kernelspec": {
   "display_name": "Python 3 (ipykernel)",
   "language": "python",
   "name": "python3"
  },
  "language_info": {
   "codemirror_mode": {
    "name": "ipython",
    "version": 3
   },
   "file_extension": ".py",
   "mimetype": "text/x-python",
   "name": "python",
   "nbconvert_exporter": "python",
   "pygments_lexer": "ipython3",
   "version": "3.9.12"
  }
 },
 "nbformat": 4,
 "nbformat_minor": 5
}
